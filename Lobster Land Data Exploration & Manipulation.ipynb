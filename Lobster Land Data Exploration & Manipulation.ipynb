{
  "cells": [
    {
      "cell_type": "markdown",
      "metadata": {
        "id": "qyHAddmK5J_4"
      },
      "source": [
        "# MARKETING ANALYTICS\n",
        " PRABU JEYABALAN"
      ]
    },
    {
      "cell_type": "markdown",
      "metadata": {
        "id": "uHNpOu7aFV3K"
      },
      "source": [
        "#  Data Exploration & Visualization #"
      ]
    },
    {
      "cell_type": "markdown",
      "metadata": {
        "id": "Wv9aGixK4Tfb"
      },
      "source": [
        "**I.Exploration & Manipulation**\n",
        "\n",
        "\n"
      ]
    },
    {
      "cell_type": "code",
      "execution_count": null,
      "metadata": {
        "id": "nUW3n1E5zkLT"
      },
      "outputs": [],
      "source": [
        "# libraries Imports:\n",
        "\n",
        "import numpy as np\n",
        "import pandas as pd\n",
        "import matplotlib.pyplot as plt\n",
        "import seaborn as sns\n",
        "from datetime import datetime\n",
        "import statistics\n",
        "import csv"
      ]
    },
    {
      "cell_type": "code",
      "execution_count": null,
      "metadata": {
        "id": "W5h5Tgdt2MC7"
      },
      "outputs": [],
      "source": [
        "# File Import:\n",
        "\n",
        "lobster24 = pd.read_csv('lobster24.csv')"
      ]
    },
    {
      "cell_type": "markdown",
      "metadata": {
        "id": "XI0FG15h32TW"
      },
      "source": [
        "**Exploratory Data Analysis: Exploration & Manipulation**\n",
        "\n",
        "**A. Call the head() function on this dataframe and look at your results.**"
      ]
    },
    {
      "cell_type": "code",
      "execution_count": null,
      "metadata": {
        "colab": {
          "base_uri": "https://localhost:8080/",
          "height": 261
        },
        "id": "XC7zDANzzQ7S",
        "outputId": "4308ff3a-9045-41a7-91bc-6ff47bb08a60"
      },
      "outputs": [
        {
          "data": {
            "text/html": [
              "<div>\n",
              "<style scoped>\n",
              "    .dataframe tbody tr th:only-of-type {\n",
              "        vertical-align: middle;\n",
              "    }\n",
              "\n",
              "    .dataframe tbody tr th {\n",
              "        vertical-align: top;\n",
              "    }\n",
              "\n",
              "    .dataframe thead th {\n",
              "        text-align: right;\n",
              "    }\n",
              "</style>\n",
              "<table border=\"1\" class=\"dataframe\">\n",
              "  <thead>\n",
              "    <tr style=\"text-align: right;\">\n",
              "      <th></th>\n",
              "      <th>Date</th>\n",
              "      <th>Total_Visitors</th>\n",
              "      <th>Arcade_Visitors</th>\n",
              "      <th>Total_Purchases</th>\n",
              "      <th>Arcade_Revenue</th>\n",
              "      <th>Total_Labor_Hours</th>\n",
              "      <th>Weather_Type</th>\n",
              "      <th>Special_Events</th>\n",
              "      <th>Customer_Complaints</th>\n",
              "      <th>Day_of_Week</th>\n",
              "      <th>Passholder_Percentage</th>\n",
              "      <th>International_Visitors</th>\n",
              "      <th>High_Temperature</th>\n",
              "      <th>General_Weather</th>\n",
              "      <th>Precipitation</th>\n",
              "    </tr>\n",
              "  </thead>\n",
              "  <tbody>\n",
              "    <tr>\n",
              "      <th>0</th>\n",
              "      <td>5/27/2024</td>\n",
              "      <td>1060</td>\n",
              "      <td>267</td>\n",
              "      <td>22575.71</td>\n",
              "      <td>3524.30</td>\n",
              "      <td>185.84</td>\n",
              "      <td>Sunny</td>\n",
              "      <td>Arcade Tournament</td>\n",
              "      <td>9</td>\n",
              "      <td>Monday</td>\n",
              "      <td>0.22</td>\n",
              "      <td>357</td>\n",
              "      <td>65.4</td>\n",
              "      <td>Cool</td>\n",
              "      <td>0</td>\n",
              "    </tr>\n",
              "    <tr>\n",
              "      <th>1</th>\n",
              "      <td>5/28/2024</td>\n",
              "      <td>1494</td>\n",
              "      <td>552</td>\n",
              "      <td>17142.52</td>\n",
              "      <td>1652.93</td>\n",
              "      <td>250.90</td>\n",
              "      <td>Cloudy</td>\n",
              "      <td>NaN</td>\n",
              "      <td>3</td>\n",
              "      <td>Tuesday</td>\n",
              "      <td>0.23</td>\n",
              "      <td>424</td>\n",
              "      <td>66.4</td>\n",
              "      <td>Cool</td>\n",
              "      <td>0</td>\n",
              "    </tr>\n",
              "    <tr>\n",
              "      <th>2</th>\n",
              "      <td>5/29/2024</td>\n",
              "      <td>1330</td>\n",
              "      <td>447</td>\n",
              "      <td>10229.99</td>\n",
              "      <td>3251.81</td>\n",
              "      <td>115.59</td>\n",
              "      <td>Cloudy</td>\n",
              "      <td>NaN</td>\n",
              "      <td>0</td>\n",
              "      <td>Wednesday</td>\n",
              "      <td>0.22</td>\n",
              "      <td>441</td>\n",
              "      <td>90.2</td>\n",
              "      <td>Hot</td>\n",
              "      <td>0</td>\n",
              "    </tr>\n",
              "    <tr>\n",
              "      <th>3</th>\n",
              "      <td>5/30/2024</td>\n",
              "      <td>1295</td>\n",
              "      <td>442</td>\n",
              "      <td>6442.65</td>\n",
              "      <td>867.17</td>\n",
              "      <td>347.30</td>\n",
              "      <td>Stormy</td>\n",
              "      <td>NaN</td>\n",
              "      <td>7</td>\n",
              "      <td>Thursday</td>\n",
              "      <td>0.29</td>\n",
              "      <td>338</td>\n",
              "      <td>93.1</td>\n",
              "      <td>Rainy/Stormy</td>\n",
              "      <td>1</td>\n",
              "    </tr>\n",
              "    <tr>\n",
              "      <th>4</th>\n",
              "      <td>5/31/2024</td>\n",
              "      <td>1838</td>\n",
              "      <td>256</td>\n",
              "      <td>28409.06</td>\n",
              "      <td>747.60</td>\n",
              "      <td>234.62</td>\n",
              "      <td>Sunny</td>\n",
              "      <td>Arcade Tournament</td>\n",
              "      <td>0</td>\n",
              "      <td>Friday</td>\n",
              "      <td>0.21</td>\n",
              "      <td>615</td>\n",
              "      <td>73.1</td>\n",
              "      <td>Mild</td>\n",
              "      <td>0</td>\n",
              "    </tr>\n",
              "  </tbody>\n",
              "</table>\n",
              "</div>"
            ],
            "text/plain": [
              "        Date  Total_Visitors  Arcade_Visitors  Total_Purchases  \\\n",
              "0  5/27/2024            1060              267         22575.71   \n",
              "1  5/28/2024            1494              552         17142.52   \n",
              "2  5/29/2024            1330              447         10229.99   \n",
              "3  5/30/2024            1295              442          6442.65   \n",
              "4  5/31/2024            1838              256         28409.06   \n",
              "\n",
              "   Arcade_Revenue  Total_Labor_Hours Weather_Type     Special_Events  \\\n",
              "0         3524.30             185.84        Sunny  Arcade Tournament   \n",
              "1         1652.93             250.90       Cloudy                NaN   \n",
              "2         3251.81             115.59       Cloudy                NaN   \n",
              "3          867.17             347.30       Stormy                NaN   \n",
              "4          747.60             234.62        Sunny  Arcade Tournament   \n",
              "\n",
              "   Customer_Complaints Day_of_Week  Passholder_Percentage  \\\n",
              "0                    9      Monday                   0.22   \n",
              "1                    3     Tuesday                   0.23   \n",
              "2                    0   Wednesday                   0.22   \n",
              "3                    7    Thursday                   0.29   \n",
              "4                    0      Friday                   0.21   \n",
              "\n",
              "   International_Visitors  High_Temperature General_Weather  Precipitation  \n",
              "0                     357              65.4            Cool              0  \n",
              "1                     424              66.4            Cool              0  \n",
              "2                     441              90.2             Hot              0  \n",
              "3                     338              93.1    Rainy/Stormy              1  \n",
              "4                     615              73.1            Mild              0  "
            ]
          },
          "execution_count": 6,
          "metadata": {},
          "output_type": "execute_result"
        }
      ],
      "source": [
        "## head() function on lobster24 dataframe to look at results:\n",
        "\n",
        "lobster24.head()"
      ]
    },
    {
      "cell_type": "markdown",
      "metadata": {
        "id": "Oi8ZaKiq6JmG"
      },
      "source": [
        "**B. How many rows of the dataset are visible in Jupyter / Colab now?**\n",
        "\n",
        "*There are 5 rows of the dataset visible in Colab notebook now.*"
      ]
    },
    {
      "cell_type": "markdown",
      "metadata": {
        "id": "5J96KUH-9YU6"
      },
      "source": [
        "**C. Take a look at the dataset’s shape attribute:**  "
      ]
    },
    {
      "cell_type": "code",
      "execution_count": null,
      "metadata": {
        "colab": {
          "base_uri": "https://localhost:8080/"
        },
        "id": "_vwEQI2izkH5",
        "outputId": "33871da7-9dd4-414b-9fcd-6e380daf3949"
      },
      "outputs": [
        {
          "data": {
            "text/plain": [
              "(99, 15)"
            ]
          },
          "execution_count": 9,
          "metadata": {},
          "output_type": "execute_result"
        }
      ],
      "source": [
        "# Shape of lobster24 dataset:\n",
        "\n",
        "lobster24.shape"
      ]
    },
    {
      "cell_type": "markdown",
      "metadata": {
        "id": "fqOrSq8wqJvI"
      },
      "source": [
        "**a. How many rows, and how many columns, are in this entire dataframe?**"
      ]
    },
    {
      "cell_type": "markdown",
      "metadata": {
        "id": "Nppf3BC5-Qk3"
      },
      "source": [
        "*There are 15 columns and 99 rows in lobster24 dataframe.*"
      ]
    },
    {
      "cell_type": "markdown",
      "metadata": {
        "id": "eggHp8kv_JeO"
      },
      "source": [
        "**D. Read the dataset description, and take a look at the variables in the dataset.**"
      ]
    },
    {
      "cell_type": "markdown",
      "metadata": {
        "id": "DQpUEU3Ap14q"
      },
      "source": [
        "**a. Which of your variables should be seen as categorical, and which ones should be seen as numeric?**"
      ]
    },
    {
      "cell_type": "markdown",
      "metadata": {
        "id": "Hc8PsRIQA_1I"
      },
      "source": [
        "*Categorical Variables:*\n",
        "       *Date, Weather Type, Special Events, Day of Week and General Weather.*\n",
        "\n",
        "*Numeric Variables:*\n",
        "       *Total_Visitors, Arcade Visitors, Total Purchases,\n",
        "       Arcade Revenue, Total Labor Hours, Customer Complaints,\n",
        "       Passholder Percentage, International Visitors, High Temperature and Precipitation.*"
      ]
    },
    {
      "cell_type": "markdown",
      "metadata": {
        "id": "IOR-MT9dLtCH"
      },
      "source": [
        "**E. Checking for NaN values.**"
      ]
    },
    {
      "cell_type": "markdown",
      "metadata": {
        "id": "AmjceELiL_Uc"
      },
      "source": [
        "**a. Are there any NaN values in this dataset? Show the code that you used to answer this question. Which columns have NaN values?**"
      ]
    },
    {
      "cell_type": "markdown",
      "metadata": {
        "id": "qvAGUY6jpp38"
      },
      "source": [
        "*Yes, Special_Events and High_Temperature have NaN values.*"
      ]
    },
    {
      "cell_type": "code",
      "execution_count": null,
      "metadata": {
        "colab": {
          "base_uri": "https://localhost:8080/",
          "height": 554
        },
        "id": "Br2_FH8RzkDL",
        "outputId": "3512e187-5cc0-4a0b-eb19-c90120be2acf"
      },
      "outputs": [
        {
          "data": {
            "text/plain": [
              "Date                       0\n",
              "Total_Visitors             0\n",
              "Arcade_Visitors            0\n",
              "Total_Purchases            0\n",
              "Arcade_Revenue             0\n",
              "Total_Labor_Hours          0\n",
              "Weather_Type               0\n",
              "Special_Events            78\n",
              "Customer_Complaints        0\n",
              "Day_of_Week                0\n",
              "Passholder_Percentage      0\n",
              "International_Visitors     0\n",
              "High_Temperature           3\n",
              "General_Weather            0\n",
              "Precipitation              0\n",
              "dtype: int64"
            ]
          },
          "execution_count": 18,
          "metadata": {},
          "output_type": "execute_result"
        }
      ],
      "source": [
        "# Cheking NAN:\n",
        "lobster24.isna().sum()"
      ]
    },
    {
      "cell_type": "markdown",
      "metadata": {
        "id": "EYd6K7vNNt8R"
      },
      "source": [
        "**b. Take a close look at the dataset description.Is there a variable in this dataset that contains “NaN” values, but for which the dataset could be more clearly\n",
        "descriptive / informative about the actual values? If so, change the NaN values in that column to something that’s more descriptive.**"
      ]
    },
    {
      "cell_type": "code",
      "execution_count": null,
      "metadata": {
        "colab": {
          "base_uri": "https://localhost:8080/",
          "height": 261
        },
        "id": "H-BdSoIpzkAI",
        "outputId": "42ccd89d-dbbf-4fcc-8bd2-d1c7fa8057c7",
        "scrolled": true
      },
      "outputs": [
        {
          "data": {
            "text/html": [
              "<div>\n",
              "<style scoped>\n",
              "    .dataframe tbody tr th:only-of-type {\n",
              "        vertical-align: middle;\n",
              "    }\n",
              "\n",
              "    .dataframe tbody tr th {\n",
              "        vertical-align: top;\n",
              "    }\n",
              "\n",
              "    .dataframe thead th {\n",
              "        text-align: right;\n",
              "    }\n",
              "</style>\n",
              "<table border=\"1\" class=\"dataframe\">\n",
              "  <thead>\n",
              "    <tr style=\"text-align: right;\">\n",
              "      <th></th>\n",
              "      <th>Date</th>\n",
              "      <th>Total_Visitors</th>\n",
              "      <th>Arcade_Visitors</th>\n",
              "      <th>Total_Purchases</th>\n",
              "      <th>Arcade_Revenue</th>\n",
              "      <th>Total_Labor_Hours</th>\n",
              "      <th>Weather_Type</th>\n",
              "      <th>Special_Events</th>\n",
              "      <th>Customer_Complaints</th>\n",
              "      <th>Day_of_Week</th>\n",
              "      <th>Passholder_Percentage</th>\n",
              "      <th>International_Visitors</th>\n",
              "      <th>High_Temperature</th>\n",
              "      <th>General_Weather</th>\n",
              "      <th>Precipitation</th>\n",
              "    </tr>\n",
              "  </thead>\n",
              "  <tbody>\n",
              "    <tr>\n",
              "      <th>0</th>\n",
              "      <td>5/27/2024</td>\n",
              "      <td>1060</td>\n",
              "      <td>267</td>\n",
              "      <td>22575.71</td>\n",
              "      <td>3524.30</td>\n",
              "      <td>185.84</td>\n",
              "      <td>Sunny</td>\n",
              "      <td>Arcade Tournament</td>\n",
              "      <td>9</td>\n",
              "      <td>Monday</td>\n",
              "      <td>0.22</td>\n",
              "      <td>357</td>\n",
              "      <td>65.4</td>\n",
              "      <td>Cool</td>\n",
              "      <td>0</td>\n",
              "    </tr>\n",
              "    <tr>\n",
              "      <th>1</th>\n",
              "      <td>5/28/2024</td>\n",
              "      <td>1494</td>\n",
              "      <td>552</td>\n",
              "      <td>17142.52</td>\n",
              "      <td>1652.93</td>\n",
              "      <td>250.90</td>\n",
              "      <td>Cloudy</td>\n",
              "      <td>No Event</td>\n",
              "      <td>3</td>\n",
              "      <td>Tuesday</td>\n",
              "      <td>0.23</td>\n",
              "      <td>424</td>\n",
              "      <td>66.4</td>\n",
              "      <td>Cool</td>\n",
              "      <td>0</td>\n",
              "    </tr>\n",
              "    <tr>\n",
              "      <th>2</th>\n",
              "      <td>5/29/2024</td>\n",
              "      <td>1330</td>\n",
              "      <td>447</td>\n",
              "      <td>10229.99</td>\n",
              "      <td>3251.81</td>\n",
              "      <td>115.59</td>\n",
              "      <td>Cloudy</td>\n",
              "      <td>No Event</td>\n",
              "      <td>0</td>\n",
              "      <td>Wednesday</td>\n",
              "      <td>0.22</td>\n",
              "      <td>441</td>\n",
              "      <td>90.2</td>\n",
              "      <td>Hot</td>\n",
              "      <td>0</td>\n",
              "    </tr>\n",
              "    <tr>\n",
              "      <th>3</th>\n",
              "      <td>5/30/2024</td>\n",
              "      <td>1295</td>\n",
              "      <td>442</td>\n",
              "      <td>6442.65</td>\n",
              "      <td>867.17</td>\n",
              "      <td>347.30</td>\n",
              "      <td>Stormy</td>\n",
              "      <td>No Event</td>\n",
              "      <td>7</td>\n",
              "      <td>Thursday</td>\n",
              "      <td>0.29</td>\n",
              "      <td>338</td>\n",
              "      <td>93.1</td>\n",
              "      <td>Rainy/Stormy</td>\n",
              "      <td>1</td>\n",
              "    </tr>\n",
              "    <tr>\n",
              "      <th>4</th>\n",
              "      <td>5/31/2024</td>\n",
              "      <td>1838</td>\n",
              "      <td>256</td>\n",
              "      <td>28409.06</td>\n",
              "      <td>747.60</td>\n",
              "      <td>234.62</td>\n",
              "      <td>Sunny</td>\n",
              "      <td>Arcade Tournament</td>\n",
              "      <td>0</td>\n",
              "      <td>Friday</td>\n",
              "      <td>0.21</td>\n",
              "      <td>615</td>\n",
              "      <td>73.1</td>\n",
              "      <td>Mild</td>\n",
              "      <td>0</td>\n",
              "    </tr>\n",
              "  </tbody>\n",
              "</table>\n",
              "</div>"
            ],
            "text/plain": [
              "        Date  Total_Visitors  Arcade_Visitors  Total_Purchases  \\\n",
              "0  5/27/2024            1060              267         22575.71   \n",
              "1  5/28/2024            1494              552         17142.52   \n",
              "2  5/29/2024            1330              447         10229.99   \n",
              "3  5/30/2024            1295              442          6442.65   \n",
              "4  5/31/2024            1838              256         28409.06   \n",
              "\n",
              "   Arcade_Revenue  Total_Labor_Hours Weather_Type     Special_Events  \\\n",
              "0         3524.30             185.84        Sunny  Arcade Tournament   \n",
              "1         1652.93             250.90       Cloudy           No Event   \n",
              "2         3251.81             115.59       Cloudy           No Event   \n",
              "3          867.17             347.30       Stormy           No Event   \n",
              "4          747.60             234.62        Sunny  Arcade Tournament   \n",
              "\n",
              "   Customer_Complaints Day_of_Week  Passholder_Percentage  \\\n",
              "0                    9      Monday                   0.22   \n",
              "1                    3     Tuesday                   0.23   \n",
              "2                    0   Wednesday                   0.22   \n",
              "3                    7    Thursday                   0.29   \n",
              "4                    0      Friday                   0.21   \n",
              "\n",
              "   International_Visitors  High_Temperature General_Weather  Precipitation  \n",
              "0                     357              65.4            Cool              0  \n",
              "1                     424              66.4            Cool              0  \n",
              "2                     441              90.2             Hot              0  \n",
              "3                     338              93.1    Rainy/Stormy              1  \n",
              "4                     615              73.1            Mild              0  "
            ]
          },
          "execution_count": 20,
          "metadata": {},
          "output_type": "execute_result"
        }
      ],
      "source": [
        "# Replacing NaN values in the 'Special Events' column with 'No Event':\n",
        "\n",
        "lobster24['Special_Events'] = lobster24['Special_Events'].fillna('No Event')\n",
        "lobster24.head()"
      ]
    },
    {
      "cell_type": "markdown",
      "metadata": {
        "id": "SQV_3jbPRlQK"
      },
      "source": [
        "**c. Is there a column in the dataset with some NaN values, for which the\n",
        "true values could be easily found? (keep in mind that Lobster Land is based just outside of Portland, Maine).\n",
        "If so, find the true/actual values that are missing, and replace them in the dataset. Which values did you use for this NaN replacement?**"
      ]
    },
    {
      "cell_type": "markdown",
      "metadata": {
        "id": "naijtb7dpVWN"
      },
      "source": [
        "*Yes, High_Temeperature column has NaN values.*"
      ]
    },
    {
      "cell_type": "code",
      "execution_count": null,
      "metadata": {
        "colab": {
          "base_uri": "https://localhost:8080/",
          "height": 180
        },
        "id": "Hb20NATszj0W",
        "outputId": "eb4ad521-a4cf-4e42-9c28-12d2c695673b"
      },
      "outputs": [
        {
          "data": {
            "text/html": [
              "<div>\n",
              "<style scoped>\n",
              "    .dataframe tbody tr th:only-of-type {\n",
              "        vertical-align: middle;\n",
              "    }\n",
              "\n",
              "    .dataframe tbody tr th {\n",
              "        vertical-align: top;\n",
              "    }\n",
              "\n",
              "    .dataframe thead th {\n",
              "        text-align: right;\n",
              "    }\n",
              "</style>\n",
              "<table border=\"1\" class=\"dataframe\">\n",
              "  <thead>\n",
              "    <tr style=\"text-align: right;\">\n",
              "      <th></th>\n",
              "      <th>Date</th>\n",
              "      <th>Total_Visitors</th>\n",
              "      <th>Arcade_Visitors</th>\n",
              "      <th>Total_Purchases</th>\n",
              "      <th>Arcade_Revenue</th>\n",
              "      <th>Total_Labor_Hours</th>\n",
              "      <th>Weather_Type</th>\n",
              "      <th>Special_Events</th>\n",
              "      <th>Customer_Complaints</th>\n",
              "      <th>Day_of_Week</th>\n",
              "      <th>Passholder_Percentage</th>\n",
              "      <th>International_Visitors</th>\n",
              "      <th>High_Temperature</th>\n",
              "      <th>General_Weather</th>\n",
              "      <th>Precipitation</th>\n",
              "    </tr>\n",
              "  </thead>\n",
              "  <tbody>\n",
              "    <tr>\n",
              "      <th>22</th>\n",
              "      <td>6/18/2024</td>\n",
              "      <td>1282</td>\n",
              "      <td>627</td>\n",
              "      <td>7830.61</td>\n",
              "      <td>1864.69</td>\n",
              "      <td>151.08</td>\n",
              "      <td>Rainy</td>\n",
              "      <td>Arcade Tournament</td>\n",
              "      <td>13</td>\n",
              "      <td>Tuesday</td>\n",
              "      <td>0.23</td>\n",
              "      <td>441</td>\n",
              "      <td>NaN</td>\n",
              "      <td>Rainy/Stormy</td>\n",
              "      <td>1</td>\n",
              "    </tr>\n",
              "    <tr>\n",
              "      <th>44</th>\n",
              "      <td>7/10/2024</td>\n",
              "      <td>234</td>\n",
              "      <td>408</td>\n",
              "      <td>12408.41</td>\n",
              "      <td>2427.42</td>\n",
              "      <td>297.21</td>\n",
              "      <td>Stormy</td>\n",
              "      <td>No Event</td>\n",
              "      <td>11</td>\n",
              "      <td>Wednesday</td>\n",
              "      <td>0.25</td>\n",
              "      <td>78</td>\n",
              "      <td>NaN</td>\n",
              "      <td>Rainy/Stormy</td>\n",
              "      <td>1</td>\n",
              "    </tr>\n",
              "    <tr>\n",
              "      <th>67</th>\n",
              "      <td>8/2/2024</td>\n",
              "      <td>2435</td>\n",
              "      <td>162</td>\n",
              "      <td>8052.76</td>\n",
              "      <td>1707.11</td>\n",
              "      <td>258.66</td>\n",
              "      <td>Sunny</td>\n",
              "      <td>No Event</td>\n",
              "      <td>14</td>\n",
              "      <td>Friday</td>\n",
              "      <td>0.24</td>\n",
              "      <td>973</td>\n",
              "      <td>NaN</td>\n",
              "      <td>Mild</td>\n",
              "      <td>0</td>\n",
              "    </tr>\n",
              "  </tbody>\n",
              "</table>\n",
              "</div>"
            ],
            "text/plain": [
              "         Date  Total_Visitors  Arcade_Visitors  Total_Purchases  \\\n",
              "22  6/18/2024            1282              627          7830.61   \n",
              "44  7/10/2024             234              408         12408.41   \n",
              "67   8/2/2024            2435              162          8052.76   \n",
              "\n",
              "    Arcade_Revenue  Total_Labor_Hours Weather_Type     Special_Events  \\\n",
              "22         1864.69             151.08        Rainy  Arcade Tournament   \n",
              "44         2427.42             297.21       Stormy           No Event   \n",
              "67         1707.11             258.66        Sunny           No Event   \n",
              "\n",
              "    Customer_Complaints Day_of_Week  Passholder_Percentage  \\\n",
              "22                   13     Tuesday                   0.23   \n",
              "44                   11   Wednesday                   0.25   \n",
              "67                   14      Friday                   0.24   \n",
              "\n",
              "    International_Visitors  High_Temperature General_Weather  Precipitation  \n",
              "22                     441               NaN    Rainy/Stormy              1  \n",
              "44                      78               NaN    Rainy/Stormy              1  \n",
              "67                     973               NaN            Mild              0  "
            ]
          },
          "execution_count": 23,
          "metadata": {},
          "output_type": "execute_result"
        }
      ],
      "source": [
        "# Checking number of NaN in High_Teperature:\n",
        "\n",
        "nan_rows = lobster24[lobster24['High_Temperature'].isna()]\n",
        "nan_rows"
      ]
    },
    {
      "cell_type": "markdown",
      "metadata": {
        "id": "VK3nr1KUkAW8"
      },
      "source": [
        "*For the above table it is evident that High_Temperature column has NaN three NaN values. They are on the following date\n",
        "(6/18/2024,7/10/2024,8/2/2024)*\n",
        "\n",
        "*Form the weather data provided in  https://www.wunderground.com/history/daily/us/me/portland/KPWM\n",
        "the actual high temperature for the above dates in Southern maine was (6/18/2024 - 84 F ,7/10/2024 - 86 F and 8/2/2024 - 86 F)*\n"
      ]
    },
    {
      "cell_type": "code",
      "execution_count": null,
      "metadata": {
        "id": "9dFUlTLazjmc"
      },
      "outputs": [],
      "source": [
        "# Replacing NaN values in High_Temperature column using index:\n",
        "\n",
        "lobster24.loc[nan_rows.index, 'High_Temperature'] = [84, 86, 86]"
      ]
    },
    {
      "cell_type": "code",
      "execution_count": null,
      "metadata": {
        "colab": {
          "base_uri": "https://localhost:8080/",
          "height": 554
        },
        "id": "PE8HUACIzjGC",
        "outputId": "870dd1d2-501e-4b70-88c4-854c1495da39"
      },
      "outputs": [
        {
          "data": {
            "text/plain": [
              "Date                      0\n",
              "Total_Visitors            0\n",
              "Arcade_Visitors           0\n",
              "Total_Purchases           0\n",
              "Arcade_Revenue            0\n",
              "Total_Labor_Hours         0\n",
              "Weather_Type              0\n",
              "Special_Events            0\n",
              "Customer_Complaints       0\n",
              "Day_of_Week               0\n",
              "Passholder_Percentage     0\n",
              "International_Visitors    0\n",
              "High_Temperature          0\n",
              "General_Weather           0\n",
              "Precipitation             0\n",
              "dtype: int64"
            ]
          },
          "execution_count": 26,
          "metadata": {},
          "output_type": "execute_result"
        }
      ],
      "source": [
        "# Confirming the replacment:\n",
        "\n",
        "lobster24.isna().sum()"
      ]
    },
    {
      "cell_type": "markdown",
      "metadata": {
        "id": "z9fwT0VPp79i"
      },
      "source": [
        "**F. Lobster Land management just realized that they want to change something in the dataset They think it would make more sense to see the day of the weekcolumn appear next to the Date column. Right now, the Date column is to the far left of the dataframe, but the day of the week is somewhere else.**"
      ]
    },
    {
      "cell_type": "markdown",
      "metadata": {
        "id": "d-NduenhqA3W"
      },
      "source": [
        "**a. Use some Python code to move the day of the week column to put it\n",
        "immediately to the right of the ‘Date’ column.**\n"
      ]
    },
    {
      "cell_type": "code",
      "execution_count": null,
      "metadata": {
        "colab": {
          "base_uri": "https://localhost:8080/",
          "height": 261
        },
        "id": "b2aMdHKszinZ",
        "outputId": "078b6f25-f933-4b6d-f975-f17cad8b352a"
      },
      "outputs": [
        {
          "data": {
            "text/html": [
              "<div>\n",
              "<style scoped>\n",
              "    .dataframe tbody tr th:only-of-type {\n",
              "        vertical-align: middle;\n",
              "    }\n",
              "\n",
              "    .dataframe tbody tr th {\n",
              "        vertical-align: top;\n",
              "    }\n",
              "\n",
              "    .dataframe thead th {\n",
              "        text-align: right;\n",
              "    }\n",
              "</style>\n",
              "<table border=\"1\" class=\"dataframe\">\n",
              "  <thead>\n",
              "    <tr style=\"text-align: right;\">\n",
              "      <th></th>\n",
              "      <th>Date</th>\n",
              "      <th>Day_of_Week</th>\n",
              "      <th>Total_Visitors</th>\n",
              "      <th>Arcade_Visitors</th>\n",
              "      <th>Total_Purchases</th>\n",
              "      <th>Arcade_Revenue</th>\n",
              "      <th>Total_Labor_Hours</th>\n",
              "      <th>Weather_Type</th>\n",
              "      <th>Special_Events</th>\n",
              "      <th>Customer_Complaints</th>\n",
              "      <th>Passholder_Percentage</th>\n",
              "      <th>International_Visitors</th>\n",
              "      <th>High_Temperature</th>\n",
              "      <th>General_Weather</th>\n",
              "      <th>Precipitation</th>\n",
              "    </tr>\n",
              "  </thead>\n",
              "  <tbody>\n",
              "    <tr>\n",
              "      <th>0</th>\n",
              "      <td>5/27/2024</td>\n",
              "      <td>Monday</td>\n",
              "      <td>1060</td>\n",
              "      <td>267</td>\n",
              "      <td>22575.71</td>\n",
              "      <td>3524.30</td>\n",
              "      <td>185.84</td>\n",
              "      <td>Sunny</td>\n",
              "      <td>Arcade Tournament</td>\n",
              "      <td>9</td>\n",
              "      <td>0.22</td>\n",
              "      <td>357</td>\n",
              "      <td>65.4</td>\n",
              "      <td>Cool</td>\n",
              "      <td>0</td>\n",
              "    </tr>\n",
              "    <tr>\n",
              "      <th>1</th>\n",
              "      <td>5/28/2024</td>\n",
              "      <td>Tuesday</td>\n",
              "      <td>1494</td>\n",
              "      <td>552</td>\n",
              "      <td>17142.52</td>\n",
              "      <td>1652.93</td>\n",
              "      <td>250.90</td>\n",
              "      <td>Cloudy</td>\n",
              "      <td>No Event</td>\n",
              "      <td>3</td>\n",
              "      <td>0.23</td>\n",
              "      <td>424</td>\n",
              "      <td>66.4</td>\n",
              "      <td>Cool</td>\n",
              "      <td>0</td>\n",
              "    </tr>\n",
              "    <tr>\n",
              "      <th>2</th>\n",
              "      <td>5/29/2024</td>\n",
              "      <td>Wednesday</td>\n",
              "      <td>1330</td>\n",
              "      <td>447</td>\n",
              "      <td>10229.99</td>\n",
              "      <td>3251.81</td>\n",
              "      <td>115.59</td>\n",
              "      <td>Cloudy</td>\n",
              "      <td>No Event</td>\n",
              "      <td>0</td>\n",
              "      <td>0.22</td>\n",
              "      <td>441</td>\n",
              "      <td>90.2</td>\n",
              "      <td>Hot</td>\n",
              "      <td>0</td>\n",
              "    </tr>\n",
              "    <tr>\n",
              "      <th>3</th>\n",
              "      <td>5/30/2024</td>\n",
              "      <td>Thursday</td>\n",
              "      <td>1295</td>\n",
              "      <td>442</td>\n",
              "      <td>6442.65</td>\n",
              "      <td>867.17</td>\n",
              "      <td>347.30</td>\n",
              "      <td>Stormy</td>\n",
              "      <td>No Event</td>\n",
              "      <td>7</td>\n",
              "      <td>0.29</td>\n",
              "      <td>338</td>\n",
              "      <td>93.1</td>\n",
              "      <td>Rainy/Stormy</td>\n",
              "      <td>1</td>\n",
              "    </tr>\n",
              "    <tr>\n",
              "      <th>4</th>\n",
              "      <td>5/31/2024</td>\n",
              "      <td>Friday</td>\n",
              "      <td>1838</td>\n",
              "      <td>256</td>\n",
              "      <td>28409.06</td>\n",
              "      <td>747.60</td>\n",
              "      <td>234.62</td>\n",
              "      <td>Sunny</td>\n",
              "      <td>Arcade Tournament</td>\n",
              "      <td>0</td>\n",
              "      <td>0.21</td>\n",
              "      <td>615</td>\n",
              "      <td>73.1</td>\n",
              "      <td>Mild</td>\n",
              "      <td>0</td>\n",
              "    </tr>\n",
              "  </tbody>\n",
              "</table>\n",
              "</div>"
            ],
            "text/plain": [
              "        Date Day_of_Week  Total_Visitors  Arcade_Visitors  Total_Purchases  \\\n",
              "0  5/27/2024      Monday            1060              267         22575.71   \n",
              "1  5/28/2024     Tuesday            1494              552         17142.52   \n",
              "2  5/29/2024   Wednesday            1330              447         10229.99   \n",
              "3  5/30/2024    Thursday            1295              442          6442.65   \n",
              "4  5/31/2024      Friday            1838              256         28409.06   \n",
              "\n",
              "   Arcade_Revenue  Total_Labor_Hours Weather_Type     Special_Events  \\\n",
              "0         3524.30             185.84        Sunny  Arcade Tournament   \n",
              "1         1652.93             250.90       Cloudy           No Event   \n",
              "2         3251.81             115.59       Cloudy           No Event   \n",
              "3          867.17             347.30       Stormy           No Event   \n",
              "4          747.60             234.62        Sunny  Arcade Tournament   \n",
              "\n",
              "   Customer_Complaints  Passholder_Percentage  International_Visitors  \\\n",
              "0                    9                   0.22                     357   \n",
              "1                    3                   0.23                     424   \n",
              "2                    0                   0.22                     441   \n",
              "3                    7                   0.29                     338   \n",
              "4                    0                   0.21                     615   \n",
              "\n",
              "   High_Temperature General_Weather  Precipitation  \n",
              "0              65.4            Cool              0  \n",
              "1              66.4            Cool              0  \n",
              "2              90.2             Hot              0  \n",
              "3              93.1    Rainy/Stormy              1  \n",
              "4              73.1            Mild              0  "
            ]
          },
          "execution_count": 29,
          "metadata": {},
          "output_type": "execute_result"
        }
      ],
      "source": [
        "# Rearranging week column immediately to the right of the ‘Date’ column:\n",
        "\n",
        "lobster24.insert(1, 'Day_of_Week', lobster24.pop('Day_of_Week'))\n",
        "lobster24.head()"
      ]
    },
    {
      "cell_type": "markdown",
      "metadata": {
        "id": "Z2-TiCLtsoPQ"
      },
      "source": [
        "**b. Rename the ‘Total_Purchases’ variable to instead be named\n",
        "‘Total_Revenue.’**"
      ]
    },
    {
      "cell_type": "code",
      "execution_count": null,
      "metadata": {
        "colab": {
          "base_uri": "https://localhost:8080/",
          "height": 261
        },
        "id": "shAtf0fYQzcI",
        "outputId": "3534e576-6e46-4182-980e-0b13759f6329"
      },
      "outputs": [
        {
          "data": {
            "text/html": [
              "<div>\n",
              "<style scoped>\n",
              "    .dataframe tbody tr th:only-of-type {\n",
              "        vertical-align: middle;\n",
              "    }\n",
              "\n",
              "    .dataframe tbody tr th {\n",
              "        vertical-align: top;\n",
              "    }\n",
              "\n",
              "    .dataframe thead th {\n",
              "        text-align: right;\n",
              "    }\n",
              "</style>\n",
              "<table border=\"1\" class=\"dataframe\">\n",
              "  <thead>\n",
              "    <tr style=\"text-align: right;\">\n",
              "      <th></th>\n",
              "      <th>Date</th>\n",
              "      <th>Day_of_Week</th>\n",
              "      <th>Total_Visitors</th>\n",
              "      <th>Arcade_Visitors</th>\n",
              "      <th>Total_Revenue</th>\n",
              "      <th>Arcade_Revenue</th>\n",
              "      <th>Total_Labor_Hours</th>\n",
              "      <th>Weather_Type</th>\n",
              "      <th>Special_Events</th>\n",
              "      <th>Customer_Complaints</th>\n",
              "      <th>Passholder_Percentage</th>\n",
              "      <th>International_Visitors</th>\n",
              "      <th>High_Temperature</th>\n",
              "      <th>General_Weather</th>\n",
              "      <th>Precipitation</th>\n",
              "    </tr>\n",
              "  </thead>\n",
              "  <tbody>\n",
              "    <tr>\n",
              "      <th>0</th>\n",
              "      <td>5/27/2024</td>\n",
              "      <td>Monday</td>\n",
              "      <td>1060</td>\n",
              "      <td>267</td>\n",
              "      <td>22575.71</td>\n",
              "      <td>3524.30</td>\n",
              "      <td>185.84</td>\n",
              "      <td>Sunny</td>\n",
              "      <td>Arcade Tournament</td>\n",
              "      <td>9</td>\n",
              "      <td>0.22</td>\n",
              "      <td>357</td>\n",
              "      <td>65.4</td>\n",
              "      <td>Cool</td>\n",
              "      <td>0</td>\n",
              "    </tr>\n",
              "    <tr>\n",
              "      <th>1</th>\n",
              "      <td>5/28/2024</td>\n",
              "      <td>Tuesday</td>\n",
              "      <td>1494</td>\n",
              "      <td>552</td>\n",
              "      <td>17142.52</td>\n",
              "      <td>1652.93</td>\n",
              "      <td>250.90</td>\n",
              "      <td>Cloudy</td>\n",
              "      <td>No Event</td>\n",
              "      <td>3</td>\n",
              "      <td>0.23</td>\n",
              "      <td>424</td>\n",
              "      <td>66.4</td>\n",
              "      <td>Cool</td>\n",
              "      <td>0</td>\n",
              "    </tr>\n",
              "    <tr>\n",
              "      <th>2</th>\n",
              "      <td>5/29/2024</td>\n",
              "      <td>Wednesday</td>\n",
              "      <td>1330</td>\n",
              "      <td>447</td>\n",
              "      <td>10229.99</td>\n",
              "      <td>3251.81</td>\n",
              "      <td>115.59</td>\n",
              "      <td>Cloudy</td>\n",
              "      <td>No Event</td>\n",
              "      <td>0</td>\n",
              "      <td>0.22</td>\n",
              "      <td>441</td>\n",
              "      <td>90.2</td>\n",
              "      <td>Hot</td>\n",
              "      <td>0</td>\n",
              "    </tr>\n",
              "    <tr>\n",
              "      <th>3</th>\n",
              "      <td>5/30/2024</td>\n",
              "      <td>Thursday</td>\n",
              "      <td>1295</td>\n",
              "      <td>442</td>\n",
              "      <td>6442.65</td>\n",
              "      <td>867.17</td>\n",
              "      <td>347.30</td>\n",
              "      <td>Stormy</td>\n",
              "      <td>No Event</td>\n",
              "      <td>7</td>\n",
              "      <td>0.29</td>\n",
              "      <td>338</td>\n",
              "      <td>93.1</td>\n",
              "      <td>Rainy/Stormy</td>\n",
              "      <td>1</td>\n",
              "    </tr>\n",
              "    <tr>\n",
              "      <th>4</th>\n",
              "      <td>5/31/2024</td>\n",
              "      <td>Friday</td>\n",
              "      <td>1838</td>\n",
              "      <td>256</td>\n",
              "      <td>28409.06</td>\n",
              "      <td>747.60</td>\n",
              "      <td>234.62</td>\n",
              "      <td>Sunny</td>\n",
              "      <td>Arcade Tournament</td>\n",
              "      <td>0</td>\n",
              "      <td>0.21</td>\n",
              "      <td>615</td>\n",
              "      <td>73.1</td>\n",
              "      <td>Mild</td>\n",
              "      <td>0</td>\n",
              "    </tr>\n",
              "  </tbody>\n",
              "</table>\n",
              "</div>"
            ],
            "text/plain": [
              "        Date Day_of_Week  Total_Visitors  Arcade_Visitors  Total_Revenue  \\\n",
              "0  5/27/2024      Monday            1060              267       22575.71   \n",
              "1  5/28/2024     Tuesday            1494              552       17142.52   \n",
              "2  5/29/2024   Wednesday            1330              447       10229.99   \n",
              "3  5/30/2024    Thursday            1295              442        6442.65   \n",
              "4  5/31/2024      Friday            1838              256       28409.06   \n",
              "\n",
              "   Arcade_Revenue  Total_Labor_Hours Weather_Type     Special_Events  \\\n",
              "0         3524.30             185.84        Sunny  Arcade Tournament   \n",
              "1         1652.93             250.90       Cloudy           No Event   \n",
              "2         3251.81             115.59       Cloudy           No Event   \n",
              "3          867.17             347.30       Stormy           No Event   \n",
              "4          747.60             234.62        Sunny  Arcade Tournament   \n",
              "\n",
              "   Customer_Complaints  Passholder_Percentage  International_Visitors  \\\n",
              "0                    9                   0.22                     357   \n",
              "1                    3                   0.23                     424   \n",
              "2                    0                   0.22                     441   \n",
              "3                    7                   0.29                     338   \n",
              "4                    0                   0.21                     615   \n",
              "\n",
              "   High_Temperature General_Weather  Precipitation  \n",
              "0              65.4            Cool              0  \n",
              "1              66.4            Cool              0  \n",
              "2              90.2             Hot              0  \n",
              "3              93.1    Rainy/Stormy              1  \n",
              "4              73.1            Mild              0  "
            ]
          },
          "execution_count": 31,
          "metadata": {},
          "output_type": "execute_result"
        }
      ],
      "source": [
        "# Renaming the column ‘Total_Purchases’ as ‘Total_Revenue’:\n",
        "\n",
        "lobster24.rename(columns={'Total_Purchases': 'Total_Revenue'}, inplace=True)\n",
        "lobster24.head()"
      ]
    },
    {
      "cell_type": "markdown",
      "metadata": {
        "id": "h3RkWaV4vQxw"
      },
      "source": [
        "**G. Lobster Land wants to better understand the way in which management allocates\n",
        "hours for the workers. Specifically, management wants to know about efficiency.\n",
        "Create a new variable called ‘staff_efficiency’. This variable should be found by\n",
        "taking total revenue and dividing by total staff hours.**"
      ]
    },
    {
      "cell_type": "code",
      "execution_count": null,
      "metadata": {
        "colab": {
          "base_uri": "https://localhost:8080/",
          "height": 261
        },
        "id": "KJX_rDYrQzYn",
        "outputId": "0855615a-215d-4aa8-9606-badfd701a02c"
      },
      "outputs": [
        {
          "data": {
            "text/html": [
              "<div>\n",
              "<style scoped>\n",
              "    .dataframe tbody tr th:only-of-type {\n",
              "        vertical-align: middle;\n",
              "    }\n",
              "\n",
              "    .dataframe tbody tr th {\n",
              "        vertical-align: top;\n",
              "    }\n",
              "\n",
              "    .dataframe thead th {\n",
              "        text-align: right;\n",
              "    }\n",
              "</style>\n",
              "<table border=\"1\" class=\"dataframe\">\n",
              "  <thead>\n",
              "    <tr style=\"text-align: right;\">\n",
              "      <th></th>\n",
              "      <th>Date</th>\n",
              "      <th>Day_of_Week</th>\n",
              "      <th>Total_Visitors</th>\n",
              "      <th>Arcade_Visitors</th>\n",
              "      <th>Total_Revenue</th>\n",
              "      <th>Arcade_Revenue</th>\n",
              "      <th>Total_Labor_Hours</th>\n",
              "      <th>Weather_Type</th>\n",
              "      <th>Special_Events</th>\n",
              "      <th>Customer_Complaints</th>\n",
              "      <th>Passholder_Percentage</th>\n",
              "      <th>International_Visitors</th>\n",
              "      <th>High_Temperature</th>\n",
              "      <th>General_Weather</th>\n",
              "      <th>Precipitation</th>\n",
              "      <th>Staff_Efficiency</th>\n",
              "    </tr>\n",
              "  </thead>\n",
              "  <tbody>\n",
              "    <tr>\n",
              "      <th>0</th>\n",
              "      <td>5/27/2024</td>\n",
              "      <td>Monday</td>\n",
              "      <td>1060</td>\n",
              "      <td>267</td>\n",
              "      <td>22575.71</td>\n",
              "      <td>3524.30</td>\n",
              "      <td>185.84</td>\n",
              "      <td>Sunny</td>\n",
              "      <td>Arcade Tournament</td>\n",
              "      <td>9</td>\n",
              "      <td>0.22</td>\n",
              "      <td>357</td>\n",
              "      <td>65.4</td>\n",
              "      <td>Cool</td>\n",
              "      <td>0</td>\n",
              "      <td>121.479283</td>\n",
              "    </tr>\n",
              "    <tr>\n",
              "      <th>1</th>\n",
              "      <td>5/28/2024</td>\n",
              "      <td>Tuesday</td>\n",
              "      <td>1494</td>\n",
              "      <td>552</td>\n",
              "      <td>17142.52</td>\n",
              "      <td>1652.93</td>\n",
              "      <td>250.90</td>\n",
              "      <td>Cloudy</td>\n",
              "      <td>No Event</td>\n",
              "      <td>3</td>\n",
              "      <td>0.23</td>\n",
              "      <td>424</td>\n",
              "      <td>66.4</td>\n",
              "      <td>Cool</td>\n",
              "      <td>0</td>\n",
              "      <td>68.324113</td>\n",
              "    </tr>\n",
              "    <tr>\n",
              "      <th>2</th>\n",
              "      <td>5/29/2024</td>\n",
              "      <td>Wednesday</td>\n",
              "      <td>1330</td>\n",
              "      <td>447</td>\n",
              "      <td>10229.99</td>\n",
              "      <td>3251.81</td>\n",
              "      <td>115.59</td>\n",
              "      <td>Cloudy</td>\n",
              "      <td>No Event</td>\n",
              "      <td>0</td>\n",
              "      <td>0.22</td>\n",
              "      <td>441</td>\n",
              "      <td>90.2</td>\n",
              "      <td>Hot</td>\n",
              "      <td>0</td>\n",
              "      <td>88.502379</td>\n",
              "    </tr>\n",
              "    <tr>\n",
              "      <th>3</th>\n",
              "      <td>5/30/2024</td>\n",
              "      <td>Thursday</td>\n",
              "      <td>1295</td>\n",
              "      <td>442</td>\n",
              "      <td>6442.65</td>\n",
              "      <td>867.17</td>\n",
              "      <td>347.30</td>\n",
              "      <td>Stormy</td>\n",
              "      <td>No Event</td>\n",
              "      <td>7</td>\n",
              "      <td>0.29</td>\n",
              "      <td>338</td>\n",
              "      <td>93.1</td>\n",
              "      <td>Rainy/Stormy</td>\n",
              "      <td>1</td>\n",
              "      <td>18.550677</td>\n",
              "    </tr>\n",
              "    <tr>\n",
              "      <th>4</th>\n",
              "      <td>5/31/2024</td>\n",
              "      <td>Friday</td>\n",
              "      <td>1838</td>\n",
              "      <td>256</td>\n",
              "      <td>28409.06</td>\n",
              "      <td>747.60</td>\n",
              "      <td>234.62</td>\n",
              "      <td>Sunny</td>\n",
              "      <td>Arcade Tournament</td>\n",
              "      <td>0</td>\n",
              "      <td>0.21</td>\n",
              "      <td>615</td>\n",
              "      <td>73.1</td>\n",
              "      <td>Mild</td>\n",
              "      <td>0</td>\n",
              "      <td>121.085415</td>\n",
              "    </tr>\n",
              "  </tbody>\n",
              "</table>\n",
              "</div>"
            ],
            "text/plain": [
              "        Date Day_of_Week  Total_Visitors  Arcade_Visitors  Total_Revenue  \\\n",
              "0  5/27/2024      Monday            1060              267       22575.71   \n",
              "1  5/28/2024     Tuesday            1494              552       17142.52   \n",
              "2  5/29/2024   Wednesday            1330              447       10229.99   \n",
              "3  5/30/2024    Thursday            1295              442        6442.65   \n",
              "4  5/31/2024      Friday            1838              256       28409.06   \n",
              "\n",
              "   Arcade_Revenue  Total_Labor_Hours Weather_Type     Special_Events  \\\n",
              "0         3524.30             185.84        Sunny  Arcade Tournament   \n",
              "1         1652.93             250.90       Cloudy           No Event   \n",
              "2         3251.81             115.59       Cloudy           No Event   \n",
              "3          867.17             347.30       Stormy           No Event   \n",
              "4          747.60             234.62        Sunny  Arcade Tournament   \n",
              "\n",
              "   Customer_Complaints  Passholder_Percentage  International_Visitors  \\\n",
              "0                    9                   0.22                     357   \n",
              "1                    3                   0.23                     424   \n",
              "2                    0                   0.22                     441   \n",
              "3                    7                   0.29                     338   \n",
              "4                    0                   0.21                     615   \n",
              "\n",
              "   High_Temperature General_Weather  Precipitation  Staff_Efficiency  \n",
              "0              65.4            Cool              0        121.479283  \n",
              "1              66.4            Cool              0         68.324113  \n",
              "2              90.2             Hot              0         88.502379  \n",
              "3              93.1    Rainy/Stormy              1         18.550677  \n",
              "4              73.1            Mild              0        121.085415  "
            ]
          },
          "execution_count": 33,
          "metadata": {},
          "output_type": "execute_result"
        }
      ],
      "source": [
        "# Creating new column Staff efficiency:\n",
        "\n",
        "lobster24['Staff_Efficiency'] = lobster24['Total_Revenue'] / lobster24['Total_Labor_Hours']\n",
        "lobster24.head()"
      ]
    },
    {
      "cell_type": "markdown",
      "metadata": {
        "id": "13j-MNlRxQ4j"
      },
      "source": [
        "**a. Now that you have created this variable, sort the dataset by\n",
        "staff_efficiency, from highest to lowest:**"
      ]
    },
    {
      "cell_type": "code",
      "execution_count": null,
      "metadata": {
        "colab": {
          "base_uri": "https://localhost:8080/",
          "height": 261
        },
        "id": "3v7x92u3QzVe",
        "outputId": "e743a0df-91a8-4032-90a3-a3a2c47dcab8"
      },
      "outputs": [
        {
          "data": {
            "text/html": [
              "<div>\n",
              "<style scoped>\n",
              "    .dataframe tbody tr th:only-of-type {\n",
              "        vertical-align: middle;\n",
              "    }\n",
              "\n",
              "    .dataframe tbody tr th {\n",
              "        vertical-align: top;\n",
              "    }\n",
              "\n",
              "    .dataframe thead th {\n",
              "        text-align: right;\n",
              "    }\n",
              "</style>\n",
              "<table border=\"1\" class=\"dataframe\">\n",
              "  <thead>\n",
              "    <tr style=\"text-align: right;\">\n",
              "      <th></th>\n",
              "      <th>Date</th>\n",
              "      <th>Day_of_Week</th>\n",
              "      <th>Total_Visitors</th>\n",
              "      <th>Arcade_Visitors</th>\n",
              "      <th>Total_Revenue</th>\n",
              "      <th>Arcade_Revenue</th>\n",
              "      <th>Total_Labor_Hours</th>\n",
              "      <th>Weather_Type</th>\n",
              "      <th>Special_Events</th>\n",
              "      <th>Customer_Complaints</th>\n",
              "      <th>Passholder_Percentage</th>\n",
              "      <th>International_Visitors</th>\n",
              "      <th>High_Temperature</th>\n",
              "      <th>General_Weather</th>\n",
              "      <th>Precipitation</th>\n",
              "      <th>Staff_Efficiency</th>\n",
              "    </tr>\n",
              "  </thead>\n",
              "  <tbody>\n",
              "    <tr>\n",
              "      <th>36</th>\n",
              "      <td>7/2/2024</td>\n",
              "      <td>Tuesday</td>\n",
              "      <td>2261</td>\n",
              "      <td>239</td>\n",
              "      <td>19604.96</td>\n",
              "      <td>3715.68</td>\n",
              "      <td>139.99</td>\n",
              "      <td>Rainy</td>\n",
              "      <td>Fireworks</td>\n",
              "      <td>9</td>\n",
              "      <td>0.16</td>\n",
              "      <td>928</td>\n",
              "      <td>66.4</td>\n",
              "      <td>Rainy/Stormy</td>\n",
              "      <td>1</td>\n",
              "      <td>140.045432</td>\n",
              "    </tr>\n",
              "    <tr>\n",
              "      <th>97</th>\n",
              "      <td>9/1/2024</td>\n",
              "      <td>Sunday</td>\n",
              "      <td>1685</td>\n",
              "      <td>398</td>\n",
              "      <td>18142.97</td>\n",
              "      <td>2066.83</td>\n",
              "      <td>133.16</td>\n",
              "      <td>Sunny</td>\n",
              "      <td>Food Festival</td>\n",
              "      <td>3</td>\n",
              "      <td>0.21</td>\n",
              "      <td>657</td>\n",
              "      <td>73.6</td>\n",
              "      <td>Mild</td>\n",
              "      <td>0</td>\n",
              "      <td>136.249399</td>\n",
              "    </tr>\n",
              "    <tr>\n",
              "      <th>0</th>\n",
              "      <td>5/27/2024</td>\n",
              "      <td>Monday</td>\n",
              "      <td>1060</td>\n",
              "      <td>267</td>\n",
              "      <td>22575.71</td>\n",
              "      <td>3524.30</td>\n",
              "      <td>185.84</td>\n",
              "      <td>Sunny</td>\n",
              "      <td>Arcade Tournament</td>\n",
              "      <td>9</td>\n",
              "      <td>0.22</td>\n",
              "      <td>357</td>\n",
              "      <td>65.4</td>\n",
              "      <td>Cool</td>\n",
              "      <td>0</td>\n",
              "      <td>121.479283</td>\n",
              "    </tr>\n",
              "    <tr>\n",
              "      <th>4</th>\n",
              "      <td>5/31/2024</td>\n",
              "      <td>Friday</td>\n",
              "      <td>1838</td>\n",
              "      <td>256</td>\n",
              "      <td>28409.06</td>\n",
              "      <td>747.60</td>\n",
              "      <td>234.62</td>\n",
              "      <td>Sunny</td>\n",
              "      <td>Arcade Tournament</td>\n",
              "      <td>0</td>\n",
              "      <td>0.21</td>\n",
              "      <td>615</td>\n",
              "      <td>73.1</td>\n",
              "      <td>Mild</td>\n",
              "      <td>0</td>\n",
              "      <td>121.085415</td>\n",
              "    </tr>\n",
              "    <tr>\n",
              "      <th>69</th>\n",
              "      <td>8/4/2024</td>\n",
              "      <td>Sunday</td>\n",
              "      <td>692</td>\n",
              "      <td>691</td>\n",
              "      <td>17466.68</td>\n",
              "      <td>5818.36</td>\n",
              "      <td>158.64</td>\n",
              "      <td>Stormy</td>\n",
              "      <td>No Event</td>\n",
              "      <td>1</td>\n",
              "      <td>0.23</td>\n",
              "      <td>305</td>\n",
              "      <td>69.5</td>\n",
              "      <td>Rainy/Stormy</td>\n",
              "      <td>1</td>\n",
              "      <td>110.102622</td>\n",
              "    </tr>\n",
              "  </tbody>\n",
              "</table>\n",
              "</div>"
            ],
            "text/plain": [
              "         Date Day_of_Week  Total_Visitors  Arcade_Visitors  Total_Revenue  \\\n",
              "36   7/2/2024     Tuesday            2261              239       19604.96   \n",
              "97   9/1/2024      Sunday            1685              398       18142.97   \n",
              "0   5/27/2024      Monday            1060              267       22575.71   \n",
              "4   5/31/2024      Friday            1838              256       28409.06   \n",
              "69   8/4/2024      Sunday             692              691       17466.68   \n",
              "\n",
              "    Arcade_Revenue  Total_Labor_Hours Weather_Type     Special_Events  \\\n",
              "36         3715.68             139.99        Rainy          Fireworks   \n",
              "97         2066.83             133.16        Sunny      Food Festival   \n",
              "0          3524.30             185.84        Sunny  Arcade Tournament   \n",
              "4           747.60             234.62        Sunny  Arcade Tournament   \n",
              "69         5818.36             158.64       Stormy           No Event   \n",
              "\n",
              "    Customer_Complaints  Passholder_Percentage  International_Visitors  \\\n",
              "36                    9                   0.16                     928   \n",
              "97                    3                   0.21                     657   \n",
              "0                     9                   0.22                     357   \n",
              "4                     0                   0.21                     615   \n",
              "69                    1                   0.23                     305   \n",
              "\n",
              "    High_Temperature General_Weather  Precipitation  Staff_Efficiency  \n",
              "36              66.4    Rainy/Stormy              1        140.045432  \n",
              "97              73.6            Mild              0        136.249399  \n",
              "0               65.4            Cool              0        121.479283  \n",
              "4               73.1            Mild              0        121.085415  \n",
              "69              69.5    Rainy/Stormy              1        110.102622  "
            ]
          },
          "execution_count": 35,
          "metadata": {},
          "output_type": "execute_result"
        }
      ],
      "source": [
        "# Sorting the dataset by staff_efficiency, from highest to lowest:\n",
        "\n",
        "lobster24.sort_values(by='Staff_Efficiency', ascending=False, inplace=True)\n",
        "lobster24.head()"
      ]
    },
    {
      "cell_type": "markdown",
      "metadata": {
        "id": "OYM1UB2syeOt"
      },
      "source": [
        "**b. Isolate the 10 most efficient days from the 2024 season, and\n",
        "take a look at them. What can you say about these 10 days?\n",
        "Do they look different from the overall dataset, or do they\n",
        "instead look like a random sample of the rest of the days?\n",
        "Answer this in 3-5 sentences, and use any evidence from the\n",
        "dataset as you see fit.**\n"
      ]
    },
    {
      "cell_type": "code",
      "execution_count": null,
      "metadata": {
        "colab": {
          "base_uri": "https://localhost:8080/",
          "height": 417
        },
        "id": "0x-fpXG2QzSz",
        "outputId": "a2f909ac-763b-4441-ecef-663c43d27760"
      },
      "outputs": [
        {
          "data": {
            "text/html": [
              "<div>\n",
              "<style scoped>\n",
              "    .dataframe tbody tr th:only-of-type {\n",
              "        vertical-align: middle;\n",
              "    }\n",
              "\n",
              "    .dataframe tbody tr th {\n",
              "        vertical-align: top;\n",
              "    }\n",
              "\n",
              "    .dataframe thead th {\n",
              "        text-align: right;\n",
              "    }\n",
              "</style>\n",
              "<table border=\"1\" class=\"dataframe\">\n",
              "  <thead>\n",
              "    <tr style=\"text-align: right;\">\n",
              "      <th></th>\n",
              "      <th>Date</th>\n",
              "      <th>Day_of_Week</th>\n",
              "      <th>Total_Visitors</th>\n",
              "      <th>Arcade_Visitors</th>\n",
              "      <th>Total_Revenue</th>\n",
              "      <th>Arcade_Revenue</th>\n",
              "      <th>Total_Labor_Hours</th>\n",
              "      <th>Weather_Type</th>\n",
              "      <th>Special_Events</th>\n",
              "      <th>Customer_Complaints</th>\n",
              "      <th>Passholder_Percentage</th>\n",
              "      <th>International_Visitors</th>\n",
              "      <th>High_Temperature</th>\n",
              "      <th>General_Weather</th>\n",
              "      <th>Precipitation</th>\n",
              "      <th>Staff_Efficiency</th>\n",
              "    </tr>\n",
              "  </thead>\n",
              "  <tbody>\n",
              "    <tr>\n",
              "      <th>36</th>\n",
              "      <td>7/2/2024</td>\n",
              "      <td>Tuesday</td>\n",
              "      <td>2261</td>\n",
              "      <td>239</td>\n",
              "      <td>19604.96</td>\n",
              "      <td>3715.68</td>\n",
              "      <td>139.99</td>\n",
              "      <td>Rainy</td>\n",
              "      <td>Fireworks</td>\n",
              "      <td>9</td>\n",
              "      <td>0.16</td>\n",
              "      <td>928</td>\n",
              "      <td>66.4</td>\n",
              "      <td>Rainy/Stormy</td>\n",
              "      <td>1</td>\n",
              "      <td>140.045432</td>\n",
              "    </tr>\n",
              "    <tr>\n",
              "      <th>97</th>\n",
              "      <td>9/1/2024</td>\n",
              "      <td>Sunday</td>\n",
              "      <td>1685</td>\n",
              "      <td>398</td>\n",
              "      <td>18142.97</td>\n",
              "      <td>2066.83</td>\n",
              "      <td>133.16</td>\n",
              "      <td>Sunny</td>\n",
              "      <td>Food Festival</td>\n",
              "      <td>3</td>\n",
              "      <td>0.21</td>\n",
              "      <td>657</td>\n",
              "      <td>73.6</td>\n",
              "      <td>Mild</td>\n",
              "      <td>0</td>\n",
              "      <td>136.249399</td>\n",
              "    </tr>\n",
              "    <tr>\n",
              "      <th>0</th>\n",
              "      <td>5/27/2024</td>\n",
              "      <td>Monday</td>\n",
              "      <td>1060</td>\n",
              "      <td>267</td>\n",
              "      <td>22575.71</td>\n",
              "      <td>3524.30</td>\n",
              "      <td>185.84</td>\n",
              "      <td>Sunny</td>\n",
              "      <td>Arcade Tournament</td>\n",
              "      <td>9</td>\n",
              "      <td>0.22</td>\n",
              "      <td>357</td>\n",
              "      <td>65.4</td>\n",
              "      <td>Cool</td>\n",
              "      <td>0</td>\n",
              "      <td>121.479283</td>\n",
              "    </tr>\n",
              "    <tr>\n",
              "      <th>4</th>\n",
              "      <td>5/31/2024</td>\n",
              "      <td>Friday</td>\n",
              "      <td>1838</td>\n",
              "      <td>256</td>\n",
              "      <td>28409.06</td>\n",
              "      <td>747.60</td>\n",
              "      <td>234.62</td>\n",
              "      <td>Sunny</td>\n",
              "      <td>Arcade Tournament</td>\n",
              "      <td>0</td>\n",
              "      <td>0.21</td>\n",
              "      <td>615</td>\n",
              "      <td>73.1</td>\n",
              "      <td>Mild</td>\n",
              "      <td>0</td>\n",
              "      <td>121.085415</td>\n",
              "    </tr>\n",
              "    <tr>\n",
              "      <th>69</th>\n",
              "      <td>8/4/2024</td>\n",
              "      <td>Sunday</td>\n",
              "      <td>692</td>\n",
              "      <td>691</td>\n",
              "      <td>17466.68</td>\n",
              "      <td>5818.36</td>\n",
              "      <td>158.64</td>\n",
              "      <td>Stormy</td>\n",
              "      <td>No Event</td>\n",
              "      <td>1</td>\n",
              "      <td>0.23</td>\n",
              "      <td>305</td>\n",
              "      <td>69.5</td>\n",
              "      <td>Rainy/Stormy</td>\n",
              "      <td>1</td>\n",
              "      <td>110.102622</td>\n",
              "    </tr>\n",
              "    <tr>\n",
              "      <th>46</th>\n",
              "      <td>7/12/2024</td>\n",
              "      <td>Friday</td>\n",
              "      <td>2155</td>\n",
              "      <td>460</td>\n",
              "      <td>14499.29</td>\n",
              "      <td>1116.58</td>\n",
              "      <td>136.68</td>\n",
              "      <td>Sunny</td>\n",
              "      <td>No Event</td>\n",
              "      <td>6</td>\n",
              "      <td>0.18</td>\n",
              "      <td>952</td>\n",
              "      <td>81.8</td>\n",
              "      <td>Mild</td>\n",
              "      <td>0</td>\n",
              "      <td>106.082016</td>\n",
              "    </tr>\n",
              "    <tr>\n",
              "      <th>56</th>\n",
              "      <td>7/22/2024</td>\n",
              "      <td>Monday</td>\n",
              "      <td>1195</td>\n",
              "      <td>546</td>\n",
              "      <td>12301.13</td>\n",
              "      <td>2460.53</td>\n",
              "      <td>122.35</td>\n",
              "      <td>Stormy</td>\n",
              "      <td>Fireworks</td>\n",
              "      <td>12</td>\n",
              "      <td>0.26</td>\n",
              "      <td>346</td>\n",
              "      <td>91.3</td>\n",
              "      <td>Rainy/Stormy</td>\n",
              "      <td>1</td>\n",
              "      <td>100.540499</td>\n",
              "    </tr>\n",
              "    <tr>\n",
              "      <th>52</th>\n",
              "      <td>7/18/2024</td>\n",
              "      <td>Thursday</td>\n",
              "      <td>1779</td>\n",
              "      <td>657</td>\n",
              "      <td>14544.99</td>\n",
              "      <td>4705.76</td>\n",
              "      <td>145.39</td>\n",
              "      <td>Stormy</td>\n",
              "      <td>No Event</td>\n",
              "      <td>13</td>\n",
              "      <td>0.29</td>\n",
              "      <td>504</td>\n",
              "      <td>86.7</td>\n",
              "      <td>Rainy/Stormy</td>\n",
              "      <td>1</td>\n",
              "      <td>100.041200</td>\n",
              "    </tr>\n",
              "    <tr>\n",
              "      <th>18</th>\n",
              "      <td>6/14/2024</td>\n",
              "      <td>Friday</td>\n",
              "      <td>659</td>\n",
              "      <td>574</td>\n",
              "      <td>26427.39</td>\n",
              "      <td>5783.81</td>\n",
              "      <td>269.39</td>\n",
              "      <td>Rainy</td>\n",
              "      <td>Music Festival</td>\n",
              "      <td>7</td>\n",
              "      <td>0.26</td>\n",
              "      <td>224</td>\n",
              "      <td>88.0</td>\n",
              "      <td>Rainy/Stormy</td>\n",
              "      <td>1</td>\n",
              "      <td>98.100857</td>\n",
              "    </tr>\n",
              "    <tr>\n",
              "      <th>30</th>\n",
              "      <td>6/26/2024</td>\n",
              "      <td>Wednesday</td>\n",
              "      <td>1728</td>\n",
              "      <td>380</td>\n",
              "      <td>19034.52</td>\n",
              "      <td>1374.71</td>\n",
              "      <td>195.29</td>\n",
              "      <td>Cloudy</td>\n",
              "      <td>No Event</td>\n",
              "      <td>13</td>\n",
              "      <td>0.22</td>\n",
              "      <td>529</td>\n",
              "      <td>70.3</td>\n",
              "      <td>Mild</td>\n",
              "      <td>0</td>\n",
              "      <td>97.467971</td>\n",
              "    </tr>\n",
              "  </tbody>\n",
              "</table>\n",
              "</div>"
            ],
            "text/plain": [
              "         Date Day_of_Week  Total_Visitors  Arcade_Visitors  Total_Revenue  \\\n",
              "36   7/2/2024     Tuesday            2261              239       19604.96   \n",
              "97   9/1/2024      Sunday            1685              398       18142.97   \n",
              "0   5/27/2024      Monday            1060              267       22575.71   \n",
              "4   5/31/2024      Friday            1838              256       28409.06   \n",
              "69   8/4/2024      Sunday             692              691       17466.68   \n",
              "46  7/12/2024      Friday            2155              460       14499.29   \n",
              "56  7/22/2024      Monday            1195              546       12301.13   \n",
              "52  7/18/2024    Thursday            1779              657       14544.99   \n",
              "18  6/14/2024      Friday             659              574       26427.39   \n",
              "30  6/26/2024   Wednesday            1728              380       19034.52   \n",
              "\n",
              "    Arcade_Revenue  Total_Labor_Hours Weather_Type     Special_Events  \\\n",
              "36         3715.68             139.99        Rainy          Fireworks   \n",
              "97         2066.83             133.16        Sunny      Food Festival   \n",
              "0          3524.30             185.84        Sunny  Arcade Tournament   \n",
              "4           747.60             234.62        Sunny  Arcade Tournament   \n",
              "69         5818.36             158.64       Stormy           No Event   \n",
              "46         1116.58             136.68        Sunny           No Event   \n",
              "56         2460.53             122.35       Stormy          Fireworks   \n",
              "52         4705.76             145.39       Stormy           No Event   \n",
              "18         5783.81             269.39        Rainy     Music Festival   \n",
              "30         1374.71             195.29       Cloudy           No Event   \n",
              "\n",
              "    Customer_Complaints  Passholder_Percentage  International_Visitors  \\\n",
              "36                    9                   0.16                     928   \n",
              "97                    3                   0.21                     657   \n",
              "0                     9                   0.22                     357   \n",
              "4                     0                   0.21                     615   \n",
              "69                    1                   0.23                     305   \n",
              "46                    6                   0.18                     952   \n",
              "56                   12                   0.26                     346   \n",
              "52                   13                   0.29                     504   \n",
              "18                    7                   0.26                     224   \n",
              "30                   13                   0.22                     529   \n",
              "\n",
              "    High_Temperature General_Weather  Precipitation  Staff_Efficiency  \n",
              "36              66.4    Rainy/Stormy              1        140.045432  \n",
              "97              73.6            Mild              0        136.249399  \n",
              "0               65.4            Cool              0        121.479283  \n",
              "4               73.1            Mild              0        121.085415  \n",
              "69              69.5    Rainy/Stormy              1        110.102622  \n",
              "46              81.8            Mild              0        106.082016  \n",
              "56              91.3    Rainy/Stormy              1        100.540499  \n",
              "52              86.7    Rainy/Stormy              1        100.041200  \n",
              "18              88.0    Rainy/Stormy              1         98.100857  \n",
              "30              70.3            Mild              0         97.467971  "
            ]
          },
          "execution_count": 37,
          "metadata": {},
          "output_type": "execute_result"
        }
      ],
      "source": [
        "# Isolating the 10 most efficient days from the 2024 season:\n",
        "\n",
        "eff_days = lobster24.nlargest(10, 'Staff_Efficiency')\n",
        "eff_days"
      ]
    },
    {
      "cell_type": "code",
      "execution_count": null,
      "metadata": {
        "colab": {
          "base_uri": "https://localhost:8080/",
          "height": 320
        },
        "id": "IKdHHCoGQzQN",
        "outputId": "6c48f1e0-6ed5-4b21-84c4-ea74ca44a59d"
      },
      "outputs": [
        {
          "data": {
            "text/html": [
              "<div>\n",
              "<style scoped>\n",
              "    .dataframe tbody tr th:only-of-type {\n",
              "        vertical-align: middle;\n",
              "    }\n",
              "\n",
              "    .dataframe tbody tr th {\n",
              "        vertical-align: top;\n",
              "    }\n",
              "\n",
              "    .dataframe thead th {\n",
              "        text-align: right;\n",
              "    }\n",
              "</style>\n",
              "<table border=\"1\" class=\"dataframe\">\n",
              "  <thead>\n",
              "    <tr style=\"text-align: right;\">\n",
              "      <th></th>\n",
              "      <th>Total_Visitors</th>\n",
              "      <th>Arcade_Visitors</th>\n",
              "      <th>Total_Revenue</th>\n",
              "      <th>Arcade_Revenue</th>\n",
              "      <th>Total_Labor_Hours</th>\n",
              "      <th>Customer_Complaints</th>\n",
              "      <th>Passholder_Percentage</th>\n",
              "      <th>International_Visitors</th>\n",
              "      <th>High_Temperature</th>\n",
              "      <th>Precipitation</th>\n",
              "      <th>Staff_Efficiency</th>\n",
              "    </tr>\n",
              "  </thead>\n",
              "  <tbody>\n",
              "    <tr>\n",
              "      <th>count</th>\n",
              "      <td>10.000000</td>\n",
              "      <td>10.000000</td>\n",
              "      <td>10.000000</td>\n",
              "      <td>10.000000</td>\n",
              "      <td>10.000000</td>\n",
              "      <td>10.000000</td>\n",
              "      <td>10.000000</td>\n",
              "      <td>10.000000</td>\n",
              "      <td>10.00000</td>\n",
              "      <td>10.000000</td>\n",
              "      <td>10.000000</td>\n",
              "    </tr>\n",
              "    <tr>\n",
              "      <th>mean</th>\n",
              "      <td>1505.200000</td>\n",
              "      <td>446.800000</td>\n",
              "      <td>19300.670000</td>\n",
              "      <td>3131.416000</td>\n",
              "      <td>172.135000</td>\n",
              "      <td>7.300000</td>\n",
              "      <td>0.224000</td>\n",
              "      <td>541.700000</td>\n",
              "      <td>76.61000</td>\n",
              "      <td>0.500000</td>\n",
              "      <td>113.119469</td>\n",
              "    </tr>\n",
              "    <tr>\n",
              "      <th>std</th>\n",
              "      <td>570.860909</td>\n",
              "      <td>166.256027</td>\n",
              "      <td>5206.932479</td>\n",
              "      <td>1875.003213</td>\n",
              "      <td>48.616705</td>\n",
              "      <td>4.785394</td>\n",
              "      <td>0.038644</td>\n",
              "      <td>251.041409</td>\n",
              "      <td>9.52149</td>\n",
              "      <td>0.527046</td>\n",
              "      <td>15.817609</td>\n",
              "    </tr>\n",
              "    <tr>\n",
              "      <th>min</th>\n",
              "      <td>659.000000</td>\n",
              "      <td>239.000000</td>\n",
              "      <td>12301.130000</td>\n",
              "      <td>747.600000</td>\n",
              "      <td>122.350000</td>\n",
              "      <td>0.000000</td>\n",
              "      <td>0.160000</td>\n",
              "      <td>224.000000</td>\n",
              "      <td>65.40000</td>\n",
              "      <td>0.000000</td>\n",
              "      <td>97.467971</td>\n",
              "    </tr>\n",
              "    <tr>\n",
              "      <th>25%</th>\n",
              "      <td>1093.750000</td>\n",
              "      <td>295.250000</td>\n",
              "      <td>15275.412500</td>\n",
              "      <td>1547.740000</td>\n",
              "      <td>137.507500</td>\n",
              "      <td>3.750000</td>\n",
              "      <td>0.210000</td>\n",
              "      <td>348.750000</td>\n",
              "      <td>69.70000</td>\n",
              "      <td>0.000000</td>\n",
              "      <td>100.166024</td>\n",
              "    </tr>\n",
              "    <tr>\n",
              "      <th>50%</th>\n",
              "      <td>1706.500000</td>\n",
              "      <td>429.000000</td>\n",
              "      <td>18588.745000</td>\n",
              "      <td>2992.415000</td>\n",
              "      <td>152.015000</td>\n",
              "      <td>8.000000</td>\n",
              "      <td>0.220000</td>\n",
              "      <td>516.500000</td>\n",
              "      <td>73.35000</td>\n",
              "      <td>0.500000</td>\n",
              "      <td>108.092319</td>\n",
              "    </tr>\n",
              "    <tr>\n",
              "      <th>75%</th>\n",
              "      <td>1823.250000</td>\n",
              "      <td>567.000000</td>\n",
              "      <td>21833.022500</td>\n",
              "      <td>4458.240000</td>\n",
              "      <td>192.927500</td>\n",
              "      <td>11.250000</td>\n",
              "      <td>0.252500</td>\n",
              "      <td>646.500000</td>\n",
              "      <td>85.47500</td>\n",
              "      <td>1.000000</td>\n",
              "      <td>121.380816</td>\n",
              "    </tr>\n",
              "    <tr>\n",
              "      <th>max</th>\n",
              "      <td>2261.000000</td>\n",
              "      <td>691.000000</td>\n",
              "      <td>28409.060000</td>\n",
              "      <td>5818.360000</td>\n",
              "      <td>269.390000</td>\n",
              "      <td>13.000000</td>\n",
              "      <td>0.290000</td>\n",
              "      <td>952.000000</td>\n",
              "      <td>91.30000</td>\n",
              "      <td>1.000000</td>\n",
              "      <td>140.045432</td>\n",
              "    </tr>\n",
              "  </tbody>\n",
              "</table>\n",
              "</div>"
            ],
            "text/plain": [
              "       Total_Visitors  Arcade_Visitors  Total_Revenue  Arcade_Revenue  \\\n",
              "count       10.000000        10.000000      10.000000       10.000000   \n",
              "mean      1505.200000       446.800000   19300.670000     3131.416000   \n",
              "std        570.860909       166.256027    5206.932479     1875.003213   \n",
              "min        659.000000       239.000000   12301.130000      747.600000   \n",
              "25%       1093.750000       295.250000   15275.412500     1547.740000   \n",
              "50%       1706.500000       429.000000   18588.745000     2992.415000   \n",
              "75%       1823.250000       567.000000   21833.022500     4458.240000   \n",
              "max       2261.000000       691.000000   28409.060000     5818.360000   \n",
              "\n",
              "       Total_Labor_Hours  Customer_Complaints  Passholder_Percentage  \\\n",
              "count          10.000000            10.000000              10.000000   \n",
              "mean          172.135000             7.300000               0.224000   \n",
              "std            48.616705             4.785394               0.038644   \n",
              "min           122.350000             0.000000               0.160000   \n",
              "25%           137.507500             3.750000               0.210000   \n",
              "50%           152.015000             8.000000               0.220000   \n",
              "75%           192.927500            11.250000               0.252500   \n",
              "max           269.390000            13.000000               0.290000   \n",
              "\n",
              "       International_Visitors  High_Temperature  Precipitation  \\\n",
              "count               10.000000          10.00000      10.000000   \n",
              "mean               541.700000          76.61000       0.500000   \n",
              "std                251.041409           9.52149       0.527046   \n",
              "min                224.000000          65.40000       0.000000   \n",
              "25%                348.750000          69.70000       0.000000   \n",
              "50%                516.500000          73.35000       0.500000   \n",
              "75%                646.500000          85.47500       1.000000   \n",
              "max                952.000000          91.30000       1.000000   \n",
              "\n",
              "       Staff_Efficiency  \n",
              "count         10.000000  \n",
              "mean         113.119469  \n",
              "std           15.817609  \n",
              "min           97.467971  \n",
              "25%          100.166024  \n",
              "50%          108.092319  \n",
              "75%          121.380816  \n",
              "max          140.045432  "
            ]
          },
          "execution_count": 38,
          "metadata": {},
          "output_type": "execute_result"
        }
      ],
      "source": [
        "eff_days.describe()"
      ]
    },
    {
      "cell_type": "code",
      "execution_count": null,
      "metadata": {
        "colab": {
          "base_uri": "https://localhost:8080/",
          "height": 320
        },
        "id": "2cghR-ShQzHk",
        "outputId": "e90badb6-1c4e-4af7-dbd4-3bafb8537c3d"
      },
      "outputs": [
        {
          "data": {
            "text/html": [
              "<div>\n",
              "<style scoped>\n",
              "    .dataframe tbody tr th:only-of-type {\n",
              "        vertical-align: middle;\n",
              "    }\n",
              "\n",
              "    .dataframe tbody tr th {\n",
              "        vertical-align: top;\n",
              "    }\n",
              "\n",
              "    .dataframe thead th {\n",
              "        text-align: right;\n",
              "    }\n",
              "</style>\n",
              "<table border=\"1\" class=\"dataframe\">\n",
              "  <thead>\n",
              "    <tr style=\"text-align: right;\">\n",
              "      <th></th>\n",
              "      <th>Total_Visitors</th>\n",
              "      <th>Arcade_Visitors</th>\n",
              "      <th>Total_Revenue</th>\n",
              "      <th>Arcade_Revenue</th>\n",
              "      <th>Total_Labor_Hours</th>\n",
              "      <th>Customer_Complaints</th>\n",
              "      <th>Passholder_Percentage</th>\n",
              "      <th>International_Visitors</th>\n",
              "      <th>High_Temperature</th>\n",
              "      <th>Precipitation</th>\n",
              "      <th>Staff_Efficiency</th>\n",
              "    </tr>\n",
              "  </thead>\n",
              "  <tbody>\n",
              "    <tr>\n",
              "      <th>count</th>\n",
              "      <td>99.000000</td>\n",
              "      <td>99.000000</td>\n",
              "      <td>99.000000</td>\n",
              "      <td>99.000000</td>\n",
              "      <td>99.000000</td>\n",
              "      <td>99.000000</td>\n",
              "      <td>99.000000</td>\n",
              "      <td>99.000000</td>\n",
              "      <td>99.000000</td>\n",
              "      <td>99.000000</td>\n",
              "      <td>99.000000</td>\n",
              "    </tr>\n",
              "    <tr>\n",
              "      <th>mean</th>\n",
              "      <td>1399.737374</td>\n",
              "      <td>408.050505</td>\n",
              "      <td>15712.011818</td>\n",
              "      <td>3120.240808</td>\n",
              "      <td>309.008586</td>\n",
              "      <td>7.111111</td>\n",
              "      <td>0.226869</td>\n",
              "      <td>497.606061</td>\n",
              "      <td>75.900000</td>\n",
              "      <td>0.464646</td>\n",
              "      <td>57.158463</td>\n",
              "    </tr>\n",
              "    <tr>\n",
              "      <th>std</th>\n",
              "      <td>651.157801</td>\n",
              "      <td>182.460137</td>\n",
              "      <td>5737.163102</td>\n",
              "      <td>1744.706699</td>\n",
              "      <td>107.571613</td>\n",
              "      <td>4.302085</td>\n",
              "      <td>0.041049</td>\n",
              "      <td>280.366954</td>\n",
              "      <td>10.234515</td>\n",
              "      <td>0.501287</td>\n",
              "      <td>27.949720</td>\n",
              "    </tr>\n",
              "    <tr>\n",
              "      <th>min</th>\n",
              "      <td>221.000000</td>\n",
              "      <td>51.000000</td>\n",
              "      <td>5271.130000</td>\n",
              "      <td>568.870000</td>\n",
              "      <td>115.590000</td>\n",
              "      <td>0.000000</td>\n",
              "      <td>0.150000</td>\n",
              "      <td>78.000000</td>\n",
              "      <td>60.400000</td>\n",
              "      <td>0.000000</td>\n",
              "      <td>17.989591</td>\n",
              "    </tr>\n",
              "    <tr>\n",
              "      <th>25%</th>\n",
              "      <td>924.500000</td>\n",
              "      <td>268.000000</td>\n",
              "      <td>11069.275000</td>\n",
              "      <td>1638.020000</td>\n",
              "      <td>233.360000</td>\n",
              "      <td>3.500000</td>\n",
              "      <td>0.190000</td>\n",
              "      <td>274.000000</td>\n",
              "      <td>67.200000</td>\n",
              "      <td>0.000000</td>\n",
              "      <td>35.155928</td>\n",
              "    </tr>\n",
              "    <tr>\n",
              "      <th>50%</th>\n",
              "      <td>1380.000000</td>\n",
              "      <td>426.000000</td>\n",
              "      <td>16028.240000</td>\n",
              "      <td>3047.170000</td>\n",
              "      <td>311.350000</td>\n",
              "      <td>7.000000</td>\n",
              "      <td>0.220000</td>\n",
              "      <td>426.000000</td>\n",
              "      <td>74.300000</td>\n",
              "      <td>0.000000</td>\n",
              "      <td>51.830884</td>\n",
              "    </tr>\n",
              "    <tr>\n",
              "      <th>75%</th>\n",
              "      <td>1924.500000</td>\n",
              "      <td>559.500000</td>\n",
              "      <td>19003.970000</td>\n",
              "      <td>4511.465000</td>\n",
              "      <td>393.735000</td>\n",
              "      <td>11.000000</td>\n",
              "      <td>0.260000</td>\n",
              "      <td>758.500000</td>\n",
              "      <td>84.550000</td>\n",
              "      <td>1.000000</td>\n",
              "      <td>73.218877</td>\n",
              "    </tr>\n",
              "    <tr>\n",
              "      <th>max</th>\n",
              "      <td>2478.000000</td>\n",
              "      <td>698.000000</td>\n",
              "      <td>28599.960000</td>\n",
              "      <td>7088.790000</td>\n",
              "      <td>498.370000</td>\n",
              "      <td>14.000000</td>\n",
              "      <td>0.300000</td>\n",
              "      <td>1053.000000</td>\n",
              "      <td>94.500000</td>\n",
              "      <td>1.000000</td>\n",
              "      <td>140.045432</td>\n",
              "    </tr>\n",
              "  </tbody>\n",
              "</table>\n",
              "</div>"
            ],
            "text/plain": [
              "       Total_Visitors  Arcade_Visitors  Total_Revenue  Arcade_Revenue  \\\n",
              "count       99.000000        99.000000      99.000000       99.000000   \n",
              "mean      1399.737374       408.050505   15712.011818     3120.240808   \n",
              "std        651.157801       182.460137    5737.163102     1744.706699   \n",
              "min        221.000000        51.000000    5271.130000      568.870000   \n",
              "25%        924.500000       268.000000   11069.275000     1638.020000   \n",
              "50%       1380.000000       426.000000   16028.240000     3047.170000   \n",
              "75%       1924.500000       559.500000   19003.970000     4511.465000   \n",
              "max       2478.000000       698.000000   28599.960000     7088.790000   \n",
              "\n",
              "       Total_Labor_Hours  Customer_Complaints  Passholder_Percentage  \\\n",
              "count          99.000000            99.000000              99.000000   \n",
              "mean          309.008586             7.111111               0.226869   \n",
              "std           107.571613             4.302085               0.041049   \n",
              "min           115.590000             0.000000               0.150000   \n",
              "25%           233.360000             3.500000               0.190000   \n",
              "50%           311.350000             7.000000               0.220000   \n",
              "75%           393.735000            11.000000               0.260000   \n",
              "max           498.370000            14.000000               0.300000   \n",
              "\n",
              "       International_Visitors  High_Temperature  Precipitation  \\\n",
              "count               99.000000         99.000000      99.000000   \n",
              "mean               497.606061         75.900000       0.464646   \n",
              "std                280.366954         10.234515       0.501287   \n",
              "min                 78.000000         60.400000       0.000000   \n",
              "25%                274.000000         67.200000       0.000000   \n",
              "50%                426.000000         74.300000       0.000000   \n",
              "75%                758.500000         84.550000       1.000000   \n",
              "max               1053.000000         94.500000       1.000000   \n",
              "\n",
              "       Staff_Efficiency  \n",
              "count         99.000000  \n",
              "mean          57.158463  \n",
              "std           27.949720  \n",
              "min           17.989591  \n",
              "25%           35.155928  \n",
              "50%           51.830884  \n",
              "75%           73.218877  \n",
              "max          140.045432  "
            ]
          },
          "execution_count": 39,
          "metadata": {},
          "output_type": "execute_result"
        }
      ],
      "source": [
        "lobster24.describe()"
      ]
    },
    {
      "cell_type": "markdown",
      "metadata": {
        "id": "X0l3YI049q8n"
      },
      "source": [
        "\n",
        "*The 10 efficient days are noticeably different from the overall dataset.*\n",
        "\n",
        "*The total revenue during these days is,on average of 19,300 dollar when compared to 15,712 dollar in\n",
        "the overall dataset, showing increase of approximately $ 3,588.*\n",
        "\n",
        "*The most significant difference is in staff efficiency, which is 113 on these days,\n",
        "nearly double the overall average of 57, an increase of 55.*\n",
        "\n",
        "*Additionally, although total labor hours are lower during the efficient days at 172\n",
        "compared to 309 (a reduction of 136.87 hours), visitor numbers are still higher,\n",
        "with 1,505 visitors on average compared to 1,399 an increase of 105 visitors.*\n",
        "\n",
        "*These differences suggest that these efficient days are exceptional and not a\n",
        "random sample from the rest of the dataset.*"
      ]
    },
    {
      "cell_type": "markdown",
      "metadata": {
        "id": "127Q9xXK8qeQ"
      },
      "source": [
        "**H. Create a new variable called ‘international_percentage’. This variable should\n",
        "indicate the percentage of all visitors who were international, on any given day\n",
        "(so for instance, this would show ‘50’ if there were 4000 total visitors on a given\n",
        "day, and if 2000 of them were international).**"
      ]
    },
    {
      "cell_type": "code",
      "execution_count": null,
      "metadata": {
        "colab": {
          "base_uri": "https://localhost:8080/",
          "height": 261
        },
        "id": "jrQY1Z6MQzEE",
        "outputId": "12355e41-9393-4503-fd89-06e2bf52b1da"
      },
      "outputs": [
        {
          "data": {
            "text/html": [
              "<div>\n",
              "<style scoped>\n",
              "    .dataframe tbody tr th:only-of-type {\n",
              "        vertical-align: middle;\n",
              "    }\n",
              "\n",
              "    .dataframe tbody tr th {\n",
              "        vertical-align: top;\n",
              "    }\n",
              "\n",
              "    .dataframe thead th {\n",
              "        text-align: right;\n",
              "    }\n",
              "</style>\n",
              "<table border=\"1\" class=\"dataframe\">\n",
              "  <thead>\n",
              "    <tr style=\"text-align: right;\">\n",
              "      <th></th>\n",
              "      <th>Date</th>\n",
              "      <th>Day_of_Week</th>\n",
              "      <th>Total_Visitors</th>\n",
              "      <th>Arcade_Visitors</th>\n",
              "      <th>Total_Revenue</th>\n",
              "      <th>Arcade_Revenue</th>\n",
              "      <th>Total_Labor_Hours</th>\n",
              "      <th>Weather_Type</th>\n",
              "      <th>Special_Events</th>\n",
              "      <th>Customer_Complaints</th>\n",
              "      <th>Passholder_Percentage</th>\n",
              "      <th>International_Visitors</th>\n",
              "      <th>High_Temperature</th>\n",
              "      <th>General_Weather</th>\n",
              "      <th>Precipitation</th>\n",
              "      <th>Staff_Efficiency</th>\n",
              "      <th>International_Percentage</th>\n",
              "    </tr>\n",
              "  </thead>\n",
              "  <tbody>\n",
              "    <tr>\n",
              "      <th>36</th>\n",
              "      <td>7/2/2024</td>\n",
              "      <td>Tuesday</td>\n",
              "      <td>2261</td>\n",
              "      <td>239</td>\n",
              "      <td>19604.96</td>\n",
              "      <td>3715.68</td>\n",
              "      <td>139.99</td>\n",
              "      <td>Rainy</td>\n",
              "      <td>Fireworks</td>\n",
              "      <td>9</td>\n",
              "      <td>0.16</td>\n",
              "      <td>928</td>\n",
              "      <td>66.4</td>\n",
              "      <td>Rainy/Stormy</td>\n",
              "      <td>1</td>\n",
              "      <td>140.045432</td>\n",
              "      <td>41.043786</td>\n",
              "    </tr>\n",
              "    <tr>\n",
              "      <th>97</th>\n",
              "      <td>9/1/2024</td>\n",
              "      <td>Sunday</td>\n",
              "      <td>1685</td>\n",
              "      <td>398</td>\n",
              "      <td>18142.97</td>\n",
              "      <td>2066.83</td>\n",
              "      <td>133.16</td>\n",
              "      <td>Sunny</td>\n",
              "      <td>Food Festival</td>\n",
              "      <td>3</td>\n",
              "      <td>0.21</td>\n",
              "      <td>657</td>\n",
              "      <td>73.6</td>\n",
              "      <td>Mild</td>\n",
              "      <td>0</td>\n",
              "      <td>136.249399</td>\n",
              "      <td>38.991098</td>\n",
              "    </tr>\n",
              "    <tr>\n",
              "      <th>0</th>\n",
              "      <td>5/27/2024</td>\n",
              "      <td>Monday</td>\n",
              "      <td>1060</td>\n",
              "      <td>267</td>\n",
              "      <td>22575.71</td>\n",
              "      <td>3524.30</td>\n",
              "      <td>185.84</td>\n",
              "      <td>Sunny</td>\n",
              "      <td>Arcade Tournament</td>\n",
              "      <td>9</td>\n",
              "      <td>0.22</td>\n",
              "      <td>357</td>\n",
              "      <td>65.4</td>\n",
              "      <td>Cool</td>\n",
              "      <td>0</td>\n",
              "      <td>121.479283</td>\n",
              "      <td>33.679245</td>\n",
              "    </tr>\n",
              "    <tr>\n",
              "      <th>4</th>\n",
              "      <td>5/31/2024</td>\n",
              "      <td>Friday</td>\n",
              "      <td>1838</td>\n",
              "      <td>256</td>\n",
              "      <td>28409.06</td>\n",
              "      <td>747.60</td>\n",
              "      <td>234.62</td>\n",
              "      <td>Sunny</td>\n",
              "      <td>Arcade Tournament</td>\n",
              "      <td>0</td>\n",
              "      <td>0.21</td>\n",
              "      <td>615</td>\n",
              "      <td>73.1</td>\n",
              "      <td>Mild</td>\n",
              "      <td>0</td>\n",
              "      <td>121.085415</td>\n",
              "      <td>33.460283</td>\n",
              "    </tr>\n",
              "    <tr>\n",
              "      <th>69</th>\n",
              "      <td>8/4/2024</td>\n",
              "      <td>Sunday</td>\n",
              "      <td>692</td>\n",
              "      <td>691</td>\n",
              "      <td>17466.68</td>\n",
              "      <td>5818.36</td>\n",
              "      <td>158.64</td>\n",
              "      <td>Stormy</td>\n",
              "      <td>No Event</td>\n",
              "      <td>1</td>\n",
              "      <td>0.23</td>\n",
              "      <td>305</td>\n",
              "      <td>69.5</td>\n",
              "      <td>Rainy/Stormy</td>\n",
              "      <td>1</td>\n",
              "      <td>110.102622</td>\n",
              "      <td>44.075145</td>\n",
              "    </tr>\n",
              "  </tbody>\n",
              "</table>\n",
              "</div>"
            ],
            "text/plain": [
              "         Date Day_of_Week  Total_Visitors  Arcade_Visitors  Total_Revenue  \\\n",
              "36   7/2/2024     Tuesday            2261              239       19604.96   \n",
              "97   9/1/2024      Sunday            1685              398       18142.97   \n",
              "0   5/27/2024      Monday            1060              267       22575.71   \n",
              "4   5/31/2024      Friday            1838              256       28409.06   \n",
              "69   8/4/2024      Sunday             692              691       17466.68   \n",
              "\n",
              "    Arcade_Revenue  Total_Labor_Hours Weather_Type     Special_Events  \\\n",
              "36         3715.68             139.99        Rainy          Fireworks   \n",
              "97         2066.83             133.16        Sunny      Food Festival   \n",
              "0          3524.30             185.84        Sunny  Arcade Tournament   \n",
              "4           747.60             234.62        Sunny  Arcade Tournament   \n",
              "69         5818.36             158.64       Stormy           No Event   \n",
              "\n",
              "    Customer_Complaints  Passholder_Percentage  International_Visitors  \\\n",
              "36                    9                   0.16                     928   \n",
              "97                    3                   0.21                     657   \n",
              "0                     9                   0.22                     357   \n",
              "4                     0                   0.21                     615   \n",
              "69                    1                   0.23                     305   \n",
              "\n",
              "    High_Temperature General_Weather  Precipitation  Staff_Efficiency  \\\n",
              "36              66.4    Rainy/Stormy              1        140.045432   \n",
              "97              73.6            Mild              0        136.249399   \n",
              "0               65.4            Cool              0        121.479283   \n",
              "4               73.1            Mild              0        121.085415   \n",
              "69              69.5    Rainy/Stormy              1        110.102622   \n",
              "\n",
              "    International_Percentage  \n",
              "36                 41.043786  \n",
              "97                 38.991098  \n",
              "0                  33.679245  \n",
              "4                  33.460283  \n",
              "69                 44.075145  "
            ]
          },
          "execution_count": 42,
          "metadata": {},
          "output_type": "execute_result"
        }
      ],
      "source": [
        "# Creating new variable international_percentage:\n",
        "\n",
        "lobster24['International_Percentage'] = (lobster24['International_Visitors']/lobster24['Total_Visitors'])*100\n",
        "lobster24.head()"
      ]
    },
    {
      "cell_type": "markdown",
      "metadata": {
        "id": "tPPeMTAaBgAJ"
      },
      "source": [
        "**a. Find the correlation between international percentage and\n",
        "passholder percentage. What is this correlation? Is it positive or\n",
        "negative? Strong, moderate, or weak? Next, take a moment to offer a\n",
        "reason as to ‘why’ this relationship might look the way it does – what\n",
        "could explain it?**"
      ]
    },
    {
      "cell_type": "code",
      "execution_count": null,
      "metadata": {
        "colab": {
          "base_uri": "https://localhost:8080/"
        },
        "id": "5m_Y4sbsQzA5",
        "outputId": "b1e1b0fa-c0e1-4311-e0c0-3470289991b7"
      },
      "outputs": [
        {
          "name": "stdout",
          "output_type": "stream",
          "text": [
            "-0.6721775465715213\n"
          ]
        }
      ],
      "source": [
        "# correlation between International_Percentage and Passholder_Percentage:\n",
        "\n",
        "corr = lobster24['International_Percentage'].corr(lobster24['Passholder_Percentage'])\n",
        "print(corr)"
      ]
    },
    {
      "cell_type": "markdown",
      "metadata": {
        "id": "t0113bjQEjjH"
      },
      "source": [
        "    \n",
        "*The correlation value of -0.672 suggests a moderate to\n",
        "strong negative relationship between International Visitors\n",
        "and Passholder Percentage.*\n",
        "\n",
        "*The negative value indicates that as the percentage\n",
        "of international visitors increases, the passholder percentage tends to decrease.\n",
        "This suggests that international visitors are less likely to be passholders.\n",
        "The strength of the correlation (-0.672) falls in the moderate to strong range,\n",
        "meaning that there is a fairly consistent inverse relationship between these two variables.*\n",
        "\n",
        "*Possible Resons for this negative correlation:*\n",
        "    \n",
        "*Short-Term Visits: International visitors typically have short stays, making long-term passes less appealing.\n",
        "Cost Sensitivity: International visitors may prefer one-time tickets over long-term passes due to cost concerns.\n",
        "Lack of Marketing: Passholder benefits might be marketed more to locals than to international tourists.\n",
        "Cultural Preferences: Some cultures may not value park memberships or passes as much as others.\n",
        "Visit Frequency: Local visitors visit more frequently, making passes more worthwhile compared to international tourists.*\n"
      ]
    },
    {
      "cell_type": "markdown",
      "metadata": {
        "id": "zB8WrvCKg7iw"
      },
      "source": [
        "**I. A ‘Date’ variable type. Use the info() function to determine the data type for the ‘Date’ variable. What type of variable does pandas see it as, currently? Convert this variable into a datetime object, and show that the conversion was successful.What impact could this have on the variable? (In other words, what is the point of having Python ‘see’ that your date variable is truly a date?)**\n"
      ]
    },
    {
      "cell_type": "code",
      "execution_count": null,
      "metadata": {
        "colab": {
          "base_uri": "https://localhost:8080/"
        },
        "id": "Sa6XPfaHhWXy",
        "outputId": "5a9cf4f7-46a1-466c-ecd2-423eee157cab"
      },
      "outputs": [
        {
          "name": "stdout",
          "output_type": "stream",
          "text": [
            "<class 'pandas.core.frame.DataFrame'>\n",
            "Index: 99 entries, 36 to 43\n",
            "Data columns (total 17 columns):\n",
            " #   Column                    Non-Null Count  Dtype  \n",
            "---  ------                    --------------  -----  \n",
            " 0   Date                      99 non-null     object \n",
            " 1   Day_of_Week               99 non-null     object \n",
            " 2   Total_Visitors            99 non-null     int64  \n",
            " 3   Arcade_Visitors           99 non-null     int64  \n",
            " 4   Total_Revenue             99 non-null     float64\n",
            " 5   Arcade_Revenue            99 non-null     float64\n",
            " 6   Total_Labor_Hours         99 non-null     float64\n",
            " 7   Weather_Type              99 non-null     object \n",
            " 8   Special_Events            99 non-null     object \n",
            " 9   Customer_Complaints       99 non-null     int64  \n",
            " 10  Passholder_Percentage     99 non-null     float64\n",
            " 11  International_Visitors    99 non-null     int64  \n",
            " 12  High_Temperature          99 non-null     float64\n",
            " 13  General_Weather           99 non-null     object \n",
            " 14  Precipitation             99 non-null     int64  \n",
            " 15  Staff_Efficiency          99 non-null     float64\n",
            " 16  International_Percentage  99 non-null     float64\n",
            "dtypes: float64(7), int64(5), object(5)\n",
            "memory usage: 13.9+ KB\n"
          ]
        }
      ],
      "source": [
        "lobster24.info()"
      ]
    },
    {
      "cell_type": "code",
      "execution_count": null,
      "metadata": {
        "colab": {
          "base_uri": "https://localhost:8080/"
        },
        "id": "kXStbEVJ9HVM",
        "outputId": "846a45ae-4d1c-4373-eeaf-65591f390656"
      },
      "outputs": [
        {
          "name": "stdout",
          "output_type": "stream",
          "text": [
            "<class 'pandas.core.frame.DataFrame'>\n",
            "Index: 99 entries, 36 to 43\n",
            "Data columns (total 17 columns):\n",
            " #   Column                    Non-Null Count  Dtype         \n",
            "---  ------                    --------------  -----         \n",
            " 0   Date                      99 non-null     datetime64[ns]\n",
            " 1   Day_of_Week               99 non-null     object        \n",
            " 2   Total_Visitors            99 non-null     int64         \n",
            " 3   Arcade_Visitors           99 non-null     int64         \n",
            " 4   Total_Revenue             99 non-null     float64       \n",
            " 5   Arcade_Revenue            99 non-null     float64       \n",
            " 6   Total_Labor_Hours         99 non-null     float64       \n",
            " 7   Weather_Type              99 non-null     object        \n",
            " 8   Special_Events            99 non-null     object        \n",
            " 9   Customer_Complaints       99 non-null     int64         \n",
            " 10  Passholder_Percentage     99 non-null     float64       \n",
            " 11  International_Visitors    99 non-null     int64         \n",
            " 12  High_Temperature          99 non-null     float64       \n",
            " 13  General_Weather           99 non-null     object        \n",
            " 14  Precipitation             99 non-null     int64         \n",
            " 15  Staff_Efficiency          99 non-null     float64       \n",
            " 16  International_Percentage  99 non-null     float64       \n",
            "dtypes: datetime64[ns](1), float64(7), int64(5), object(4)\n",
            "memory usage: 13.9+ KB\n"
          ]
        }
      ],
      "source": [
        "# converting Date object into Datetime data type:\n",
        "\n",
        "lobster24['Date'] = pd.to_datetime(lobster24['Date'])\n",
        "lobster24.info()"
      ]
    },
    {
      "cell_type": "markdown",
      "metadata": {
        "id": "9Lc6sOmnjL8X"
      },
      "source": [
        "\n",
        "*Initially, the 'Date' variable is likely treated as an object (string), limiting date-specific operations.*\n",
        "    \n",
        "*After converting it to a datetime object, Python recognizes it as a true date.*\n",
        "    \n",
        "*This allows operations like extracting day, month, year, calculating time differences,\n",
        "date-based indexing, and proper sorting/grouping. This conversion enhances the ability\n",
        "to manipulate and analyze data efficiently in time-related analyses.*"
      ]
    },
    {
      "cell_type": "markdown",
      "metadata": {
        "id": "7DtN8SPEkX5-"
      },
      "source": [
        "**J. Using the groupby() function, along with the describe() function, explore the relationship between day of the week and total revenue. What stands out here? In a few sentences, describe anything noteworthy, and also include some speculation about why the results look the way that they do.**\n"
      ]
    },
    {
      "cell_type": "code",
      "execution_count": null,
      "metadata": {
        "colab": {
          "base_uri": "https://localhost:8080/",
          "height": 300
        },
        "id": "ZQFwAehg9HEq",
        "outputId": "1d718cc2-19a6-43bd-e9d3-e5eac17b66a6"
      },
      "outputs": [
        {
          "data": {
            "text/html": [
              "<div>\n",
              "<style scoped>\n",
              "    .dataframe tbody tr th:only-of-type {\n",
              "        vertical-align: middle;\n",
              "    }\n",
              "\n",
              "    .dataframe tbody tr th {\n",
              "        vertical-align: top;\n",
              "    }\n",
              "\n",
              "    .dataframe thead th {\n",
              "        text-align: right;\n",
              "    }\n",
              "</style>\n",
              "<table border=\"1\" class=\"dataframe\">\n",
              "  <thead>\n",
              "    <tr style=\"text-align: right;\">\n",
              "      <th></th>\n",
              "      <th>count</th>\n",
              "      <th>mean</th>\n",
              "      <th>std</th>\n",
              "      <th>min</th>\n",
              "      <th>25%</th>\n",
              "      <th>50%</th>\n",
              "      <th>75%</th>\n",
              "      <th>max</th>\n",
              "    </tr>\n",
              "    <tr>\n",
              "      <th>Day_of_Week</th>\n",
              "      <th></th>\n",
              "      <th></th>\n",
              "      <th></th>\n",
              "      <th></th>\n",
              "      <th></th>\n",
              "      <th></th>\n",
              "      <th></th>\n",
              "      <th></th>\n",
              "    </tr>\n",
              "  </thead>\n",
              "  <tbody>\n",
              "    <tr>\n",
              "      <th>Friday</th>\n",
              "      <td>14.0</td>\n",
              "      <td>17133.101429</td>\n",
              "      <td>6309.542051</td>\n",
              "      <td>8052.76</td>\n",
              "      <td>12365.9700</td>\n",
              "      <td>15628.680</td>\n",
              "      <td>21562.4450</td>\n",
              "      <td>28409.06</td>\n",
              "    </tr>\n",
              "    <tr>\n",
              "      <th>Monday</th>\n",
              "      <td>15.0</td>\n",
              "      <td>13525.969333</td>\n",
              "      <td>5161.017456</td>\n",
              "      <td>7624.32</td>\n",
              "      <td>9002.9300</td>\n",
              "      <td>12301.130</td>\n",
              "      <td>18278.0500</td>\n",
              "      <td>22575.71</td>\n",
              "    </tr>\n",
              "    <tr>\n",
              "      <th>Saturday</th>\n",
              "      <td>14.0</td>\n",
              "      <td>21448.985000</td>\n",
              "      <td>4161.667899</td>\n",
              "      <td>15353.92</td>\n",
              "      <td>18287.3075</td>\n",
              "      <td>21655.475</td>\n",
              "      <td>23664.5925</td>\n",
              "      <td>28599.96</td>\n",
              "    </tr>\n",
              "    <tr>\n",
              "      <th>Sunday</th>\n",
              "      <td>14.0</td>\n",
              "      <td>18807.897143</td>\n",
              "      <td>4946.299831</td>\n",
              "      <td>11984.34</td>\n",
              "      <td>15227.6475</td>\n",
              "      <td>17804.825</td>\n",
              "      <td>21440.6825</td>\n",
              "      <td>28132.69</td>\n",
              "    </tr>\n",
              "    <tr>\n",
              "      <th>Thursday</th>\n",
              "      <td>14.0</td>\n",
              "      <td>12125.405000</td>\n",
              "      <td>4653.834452</td>\n",
              "      <td>6056.24</td>\n",
              "      <td>7931.7700</td>\n",
              "      <td>12138.675</td>\n",
              "      <td>16272.5750</td>\n",
              "      <td>19296.08</td>\n",
              "    </tr>\n",
              "    <tr>\n",
              "      <th>Tuesday</th>\n",
              "      <td>14.0</td>\n",
              "      <td>14155.262143</td>\n",
              "      <td>5128.831358</td>\n",
              "      <td>5271.13</td>\n",
              "      <td>10193.9950</td>\n",
              "      <td>16138.935</td>\n",
              "      <td>18130.2900</td>\n",
              "      <td>19732.53</td>\n",
              "    </tr>\n",
              "    <tr>\n",
              "      <th>Wednesday</th>\n",
              "      <td>14.0</td>\n",
              "      <td>12943.608571</td>\n",
              "      <td>3422.424946</td>\n",
              "      <td>9183.07</td>\n",
              "      <td>9936.1925</td>\n",
              "      <td>12520.310</td>\n",
              "      <td>15416.1950</td>\n",
              "      <td>19034.52</td>\n",
              "    </tr>\n",
              "  </tbody>\n",
              "</table>\n",
              "</div>"
            ],
            "text/plain": [
              "             count          mean          std       min         25%  \\\n",
              "Day_of_Week                                                           \n",
              "Friday        14.0  17133.101429  6309.542051   8052.76  12365.9700   \n",
              "Monday        15.0  13525.969333  5161.017456   7624.32   9002.9300   \n",
              "Saturday      14.0  21448.985000  4161.667899  15353.92  18287.3075   \n",
              "Sunday        14.0  18807.897143  4946.299831  11984.34  15227.6475   \n",
              "Thursday      14.0  12125.405000  4653.834452   6056.24   7931.7700   \n",
              "Tuesday       14.0  14155.262143  5128.831358   5271.13  10193.9950   \n",
              "Wednesday     14.0  12943.608571  3422.424946   9183.07   9936.1925   \n",
              "\n",
              "                   50%         75%       max  \n",
              "Day_of_Week                                   \n",
              "Friday       15628.680  21562.4450  28409.06  \n",
              "Monday       12301.130  18278.0500  22575.71  \n",
              "Saturday     21655.475  23664.5925  28599.96  \n",
              "Sunday       17804.825  21440.6825  28132.69  \n",
              "Thursday     12138.675  16272.5750  19296.08  \n",
              "Tuesday      16138.935  18130.2900  19732.53  \n",
              "Wednesday    12520.310  15416.1950  19034.52  "
            ]
          },
          "execution_count": 51,
          "metadata": {},
          "output_type": "execute_result"
        }
      ],
      "source": [
        "# Grouping total revenue by day of the week:\n",
        "\n",
        "lobster24.groupby('Day_of_Week')['Total_Revenue'].describe()"
      ]
    },
    {
      "cell_type": "markdown",
      "metadata": {
        "id": "-6iV0cS5mzbd"
      },
      "source": [
        "*Some interesting trends in the relationship between Day of Week and Total Revenue:*\n",
        "\n",
        "*Highest Average Revenue: Saturday has the highest average total revenue at $21,448\n",
        "followed by Sunday at dollar 18,807. This is likely due to higher visitor numbers on\n",
        "weekends when people have more free time.*\n",
        "\n",
        "*Lowest Average Revenue: Thursday has the lowest average total revenue at $12,125 and\n",
        "Wednesday also shows relatively lower revenue. These weekdays likely see fewer visitors,\n",
        "as many people may be working or attending to weekday responsibilities.*\n",
        "\n",
        "*Weekday vs. Weekend Trend: The revenue generally peaks on the\n",
        "weekends (Saturday and Sunday) and drops during the weekdays, particularly on\n",
        "Thursday and Wednesday. Friday has a slightly higher mean revenue, likely because\n",
        "it’s the start of the weekend, attracting more visitors.*\n",
        "\n",
        "*Revenue Variability: The standard deviation (std) shows how much the revenue varies\n",
        "day-to-day. Friday and Saturday show higher variability, suggesting that while\n",
        "revenue is generally higher, it can fluctuate significantly depending on the\n",
        "specific day.*\n",
        "\n",
        "*Speculation:\n",
        "This pattern is typical for entertainment or park industries, where weekends tend\n",
        "to attract more visitors due to people having more free time. The lower revenue\n",
        "during the weekdays could be explained by the fact that people are more occupied\n",
        "with work or school.*"
      ]
    },
    {
      "cell_type": "markdown",
      "metadata": {
        "id": "y8IUpj6snny7"
      },
      "source": [
        "**K. Which two variables in this dataset are not identical, but mostly redundant?\n",
        "Identify this pair of variables, and remove one of them (but not both!) You will\n",
        "be able to complete all of the subsequent steps, regardless of which one you\n",
        "remove here.**"
      ]
    },
    {
      "cell_type": "code",
      "execution_count": null,
      "metadata": {
        "id": "6aCnJvQQ9JKa"
      },
      "outputs": [],
      "source": [
        "# Removing the 'Arcade_Visitors' column:\n",
        "\n",
        "lobster24.drop('General_Weather', axis=1, inplace=True)"
      ]
    },
    {
      "cell_type": "markdown",
      "metadata": {
        "id": "-8hktu_LvPfs"
      },
      "source": [
        "# II. Data Visualization\n"
      ]
    },
    {
      "cell_type": "markdown",
      "metadata": {
        "id": "BsxmFbzxxHdS"
      },
      "source": [
        "**L. Using any plotting tool in Python, generate a bar plot that shows the weather\n",
        "type one on one axis, and shows average (mean) total revenue on the other axis.\n",
        "Be sure to give your plot a clear, descriptive title.**\n"
      ]
    },
    {
      "cell_type": "code",
      "execution_count": null,
      "metadata": {
        "colab": {
          "base_uri": "https://localhost:8080/",
          "height": 508
        },
        "id": "m5mP0aWW9Gob",
        "outputId": "b8905aed-a1d9-4543-9c8c-90893e5efef4"
      },
      "outputs": [
        {
          "data": {
            "image/png": "[encoded data removed]",
            "text/plain": [
              "<Figure size 640x480 with 1 Axes>"
            ]
          },
          "metadata": {},
          "output_type": "display_data"
        }
      ],
      "source": [
        "# Grouping by 'Weather_Type' and calculating the mean of 'Total_Revenue', then plotting :\n",
        "\n",
        "lobster24.groupby('Weather_Type')['Total_Revenue'].mean().plot(\n",
        "    color='lightgreen',\n",
        "    kind='bar')\n",
        "plt.xticks(rotation=0)\n",
        "plt.title('Average Total Revenue ($) by Weather Type')\n",
        "plt.xlabel('Weather Type')\n",
        "plt.ylabel('Average Total Revenue ($)')\n",
        "plt.show()"
      ]
    },
    {
      "cell_type": "markdown",
      "metadata": {
        "id": "1VqgNeYKzTbk"
      },
      "source": [
        "**a. What do you notice about this plot? Does it surprise you, or does it\n",
        "align with your expectations? In a couple of sentences, how would you\n",
        "describe what you see here?**"
      ]
    },
    {
      "cell_type": "markdown",
      "metadata": {
        "id": "xIRrCBkAziod"
      },
      "source": [
        "\n",
        "*Looking at this plot, I notice that the Average Total Revenue across different weather\n",
        "types is pretty consistent, which is a bit surprising. I expected that bad weather,\n",
        "like rainy or stormy days, would result in lower revenue because fewer people might visit the park.*\n",
        "    \n",
        "*But what I see here suggests that people are coming to the park regardless of the weather,\n",
        "or maybe there are other factors, like indoor attractions or special events, that\n",
        "help keep the revenue steady across all types of weather.*"
      ]
    },
    {
      "cell_type": "markdown",
      "metadata": {
        "id": "5OCHTVwO0-0I"
      },
      "source": [
        "**M.  Generate a histogram that depicts total spending at the Gold Zone (the\n",
        "Lobster Land arcade) across the days of the 2024 season. Be sure to give your\n",
        "plot a clear, descriptive title.**\n"
      ]
    },
    {
      "cell_type": "code",
      "execution_count": null,
      "metadata": {
        "colab": {
          "base_uri": "https://localhost:8080/",
          "height": 472
        },
        "id": "3dL_vvRezd4l",
        "outputId": "51ccf668-61e4-4e08-972c-1d99cf62a31a"
      },
      "outputs": [
        {
          "data": {
            "image/png": "[encoded data removed]",
            "text/plain": [
              "<Figure size 640x480 with 1 Axes>"
            ]
          },
          "metadata": {},
          "output_type": "display_data"
        }
      ],
      "source": [
        "# Histogram that depicts total spending at the Gold Zone (the Lobster Land arcade) across the days of the 2024 season:\n",
        "\n",
        "plt.hist(lobster24['Arcade_Revenue'], bins=10, color='lightcoral',edgecolor='black')\n",
        "plt.title('Distribution of Total Spending at the Gold Zone (Lobster Land Arcade)')\n",
        "plt.xlabel('Total Spending at the Gold Zone ($)')\n",
        "plt.ylabel('Frequency')\n",
        "plt.show()"
      ]
    },
    {
      "cell_type": "markdown",
      "metadata": {
        "id": "fuFn4ieVzkhH"
      },
      "source": [
        "**a. What do you notice about this plot? Does it surprise you, or does it\n",
        "align with your expectations? In a couple of sentences, how would you\n",
        "describe what you see here?**"
      ]
    },
    {
      "cell_type": "markdown",
      "metadata": {
        "id": "1j9xVvj-AWLe"
      },
      "source": [
        "*I notice that the total spending at the Gold Zone (arcade) is quite varied.\n",
        "There is a higher frequency of spending around the lower end of the spectrum,\n",
        "particularly under 1,000 dollar with another peak around the $2,000 range.*\n",
        "\n",
        "*Interestingly, there's a significant drop-off around $4,000, followed by another\n",
        "increase closer to 5,000 dollar. What surprises me is that the spending is not evenly\n",
        "distributed and tends to cluster around certain amounts, rather than being spread out.*\n",
        "\n",
        "*This suggests that the arcade might be attracting different types of customers,\n",
        "some who spend a small amount and others who spend significantly more, with fewer\n",
        "customers in the middle range.*"
      ]
    },
    {
      "cell_type": "markdown",
      "metadata": {
        "id": "0jIRHev2BFTw"
      },
      "source": [
        "**b. Now, increase the number of bins. What can you say about this second\n",
        "histogram, compared with the first one? What impact can changing the\n",
        "number of bins (either higher or lower) have on a histogram?**"
      ]
    },
    {
      "cell_type": "code",
      "execution_count": null,
      "metadata": {
        "colab": {
          "base_uri": "https://localhost:8080/",
          "height": 472
        },
        "id": "EY0lNEESzjzk",
        "outputId": "9a829a29-ebd4-4dcd-9229-d5909e0c7224"
      },
      "outputs": [
        {
          "data": {
            "image/png": "[encoded data removed]",
            "text/plain": [
              "<Figure size 640x480 with 1 Axes>"
            ]
          },
          "metadata": {},
          "output_type": "display_data"
        }
      ],
      "source": [
        "# histogram with more bins:\n",
        "\n",
        "plt.hist(lobster24['Arcade_Revenue'], bins=50, color='lightyellow',edgecolor='red')\n",
        "plt.title('Distribution of Total Spending at the Gold Zone (Lobster Land Arcade)')\n",
        "plt.xlabel('Total Spending at the Gold Zone ($)')\n",
        "plt.ylabel('Frequency')\n",
        "plt.show()"
      ]
    },
    {
      "cell_type": "markdown",
      "metadata": {
        "id": "7qv5lA2jE3iJ"
      },
      "source": [
        "*With 50 bins, the second histogram shows more detailed patterns in the distribution\n",
        "of arcade revenue compared to the first histogram with 10 bins. Increasing the\n",
        "number of bins provides finer granularity, revealing subtle variations in the data\n",
        "but also make the data look noisy if the bin size is too small., while fewer bins\n",
        "give a smoother, more generalized view.*"
      ]
    },
    {
      "cell_type": "markdown",
      "metadata": {
        "id": "dSUwhrjDzlz1"
      },
      "source": [
        "**N. One member of the Lobster Land Board of Directors thinks that people tend to\n",
        "complain more on hot days. Let’s see whether the data supports this theory!\n",
        "Generate a scatterplot with the day’s high temperature on the x-axis, and with\n",
        "the number of customer complaints on the y-axis. Be sure to give your plot a\n",
        "clear, descriptive title.**\n"
      ]
    },
    {
      "cell_type": "code",
      "execution_count": null,
      "metadata": {
        "colab": {
          "base_uri": "https://localhost:8080/",
          "height": 472
        },
        "id": "AkwhFuysF-hb",
        "outputId": "f520d2d6-8105-4973-db3a-49096ae40e0c"
      },
      "outputs": [
        {
          "data": {
            "image/png": "[encoded data removed]",
            "text/plain": [
              "<Figure size 640x480 with 1 Axes>"
            ]
          },
          "metadata": {},
          "output_type": "display_data"
        }
      ],
      "source": [
        "# scatterplot with the day’s high temperature on the x-axis, and with the number of customer complaints on the y-axis:\n",
        "\n",
        "plt.scatter(x = 'High_Temperature', y= 'Customer_Complaints',data= lobster24, color='#E74C3C')\n",
        "plt.title('Relationship between High Temperature and Customer Complaints')\n",
        "plt.xlabel('High Temperature (°F)')\n",
        "plt.ylabel('Number of Customer Complaints')\n",
        "plt.show()"
      ]
    },
    {
      "cell_type": "markdown",
      "metadata": {
        "id": "M0OSEy7QNqTo"
      },
      "source": [
        "**a. What does the scatterplot show? If there is a relationship between these\n",
        "variables, what might explain it? If there is not a relationship between\n",
        "these variables, why do you think this is the case?**"
      ]
    },
    {
      "cell_type": "markdown",
      "metadata": {
        "id": "DicRFi88O2jH"
      },
      "source": [
        "*For temperatures between 75°F and 80°F, the scatterplot shows that the number of\n",
        "customer complaints tends to be lower compared to other temperature ranges,\n",
        "with most values clustering around 2 to 6 complaints. This suggests that this\n",
        "temperature range, which is generally considered comfortable, may result in fewer\n",
        "customer complaints. The relatively low number of complaints could indicate that\n",
        "visitors find this temperature range more enjoyable, reducing discomfort and\n",
        "dissatisfaction.*"
      ]
    },
    {
      "cell_type": "markdown",
      "metadata": {
        "id": "fQNxqsNZQrgi"
      },
      "source": [
        "**O. Generate a boxplot that shows day of week on one axis, and passholder\n",
        "percentage on the other axis. Be sure to give your plot a clear, descriptive title.**\n"
      ]
    },
    {
      "cell_type": "code",
      "execution_count": null,
      "metadata": {
        "colab": {
          "base_uri": "https://localhost:8080/",
          "height": 410
        },
        "id": "QdeZErhIF-V6",
        "outputId": "ba466e3d-caf1-4aef-c9bb-f20d15259685"
      },
      "outputs": [
        {
          "data": {
            "image/png": "[encoded data removed]",
            "text/plain": [
              "<Figure size 700x400 with 1 Axes>"
            ]
          },
          "metadata": {},
          "output_type": "display_data"
        }
      ],
      "source": [
        "# Boxplot that shows day of week on one axis, and passholder percentage on the other axis:\n",
        "\n",
        "plt.figure(figsize=(7, 4))\n",
        "sns.boxplot(x='Day_of_Week',y='Passholder_Percentage',data=lobster24,color = 'skyblue')\n",
        "plt.title('Passholder Percentage by Day of the Week')\n",
        "plt.xlabel('Day of the Week')\n",
        "plt.ylabel('Passholder Percentage (%)')\n",
        "plt.show()"
      ]
    },
    {
      "cell_type": "markdown",
      "metadata": {
        "id": "7APV0sJqqRTB"
      },
      "source": [
        "**a. In a few sentences, what does this plot show you? Why do you think it\n",
        "looks this way – what could explain this?**"
      ]
    },
    {
      "cell_type": "markdown",
      "metadata": {
        "id": "gVTc0u7Rruqq"
      },
      "source": [
        "*This boxplot shows the distribution of Passholder Percentage across different days\n",
        "of the week. The boxes represent the interquartile range (middle 50% of the data),\n",
        "while the lines (whiskers) extend to show the range of the data,and outliers.*\n",
        "\n",
        "*Observation:*\n",
        "\n",
        "*Monday (0.26%) have the highest median passholder percentages,\n",
        "followed by Thursday,Tuesday and wednesday.\n",
        "Consequently, the Friday,Sunday and Saturday show low median passholder percentage.\n",
        "Monday and Friday have relatively wide spread, indicating\n",
        "more variability in passholder percentage.*\n",
        "\n",
        "*Explanation:*\n",
        "\n",
        "*The higher passholder percentage on weekdays like Monday,Tuesday and Wednesday\n",
        "suggests that locals or regular visitors (who are more likely to hold passes)\n",
        "prefer to visit on less crowded days. On weekends, particularly Saturday and Sunday,\n",
        "the park may attract more non-passholder visitors, such as tourists or one-time visitors,\n",
        "resulting in a lower passholder percentage.*\n"
      ]
    },
    {
      "cell_type": "markdown",
      "metadata": {
        "id": "mO9Ty6uNwL1G"
      },
      "source": [
        "**P. Generate a barplot that shows Special Events on one axis, and international\n",
        "visitors on the other axis. Do not include confidence intervals (‘error bars’) on\n",
        "your plot. Order your bars either from shortest to tallest, or from tallest to\n",
        "shortest. Be sure to give your plot a clear, descriptive title. What does your\n",
        "plot show? Why can we *not* conclude causality based on the relationships\n",
        "shown here?**"
      ]
    },
    {
      "cell_type": "code",
      "execution_count": null,
      "metadata": {
        "colab": {
          "base_uri": "https://localhost:8080/",
          "height": 502
        },
        "id": "8abTb-KvF8-Y",
        "outputId": "d8c986e2-b40c-4439-824d-0aa0b0ef4930"
      },
      "outputs": [
        {
          "data": {
            "image/png": "[encoded data removed]",
            "text/plain": [
              "<Figure size 700x400 with 1 Axes>"
            ]
          },
          "metadata": {},
          "output_type": "display_data"
        }
      ],
      "source": [
        "# Barplot that with Special Events on one axis, and international visitors on the other axis:\n",
        "\n",
        "plt.figure(figsize=(7, 4))\n",
        "sns.barplot(x='Special_Events', y='International_Visitors', data=lobster24,\n",
        "            order=lobster24.groupby('Special_Events')['International_Visitors'].\n",
        "            mean().sort_values().index,color = 'plum',errorbar= None)\n",
        "plt.xticks(rotation=45)\n",
        "plt.title('International Visitors by Special Events')\n",
        "plt.xlabel('Special Events')\n",
        "plt.ylabel('International Visitors')\n",
        "plt.show()"
      ]
    },
    {
      "cell_type": "markdown",
      "metadata": {
        "id": "5dgQty9X3RwA"
      },
      "source": [
        "*The plot shows the median number of international visitors based on different\n",
        "special events at the park. From the plot, we observe that the Fireworks\n",
        "event draws the most international visitors, followed by Music Festival,\n",
        "while other events such as Food Festival and Arcade Tournament have similar\n",
        "but lower levels of international visitors.*\n",
        "\n",
        "*Why Causality Cannot Be Concluded:*\n",
        "*This plot only shows correlation, not causation. It illustrates a relationship between\n",
        "special events and the number of international visitors, but it doesn’t prove that\n",
        "these events are the cause of the changes in international visitor numbers. Other\n",
        "factors, such as the overall park popularity, seasonality, or marketing efforts,\n",
        "could be influencing the visitor numbers. To conclude causality, additional\n",
        "controlled experiments or more detailed analysis would be needed to isolate the\n",
        "specific effect of each event on international visitors.*"
      ]
    },
    {
      "cell_type": "markdown",
      "metadata": {
        "id": "0ArH5tL_3w7T"
      },
      "source": [
        "**Q. Create a faceted bar plot showing arcade revenue, with facets for different\n",
        "weather types and bars representing each day of the week. Do not show\n",
        "confidence intervals (‘error bars’) on your plot. Be sure to give your plot a clear,\n",
        "descriptive title. What looks interesting here? Are there some day of\n",
        "week/weather combinations that seem particularly noteworthy? Also, what’s\n",
        "an important limitation to note when interpreting this graph?**"
      ]
    },
    {
      "cell_type": "code",
      "execution_count": null,
      "metadata": {
        "colab": {
          "base_uri": "https://localhost:8080/",
          "height": 355
        },
        "id": "aSJx3SfJxDf-",
        "outputId": "7401ba58-d0ec-4c29-cf52-8f81646244d5"
      },
      "outputs": [
        {
          "data": {
            "image/png": "[encoded data removed]",
            "text/plain": [
              "<Figure size 2000x500 with 4 Axes>"
            ]
          },
          "metadata": {},
          "output_type": "display_data"
        }
      ],
      "source": [
        "# weather types and bars representing each day of the week:\n",
        "# Faceted bar plot:\n",
        "\n",
        "order = ['Monday', 'Tuesday', 'Wednesday', 'Thursday', 'Friday', 'Saturday', 'Sunday']\n",
        "lobster24['Day_of_Week'] = pd.Categorical(lobster24['Day_of_Week'], categories=order, ordered=True)\n",
        "g = sns.catplot(x='Day_of_Week', y='Arcade_Revenue', hue='Day_of_Week',\n",
        "                col='Weather_Type', data=lobster24, kind='bar',\n",
        "                errorbar=None)\n",
        "for ax in g.axes.flat:\n",
        "    ax.tick_params(axis='x', rotation=45)\n",
        "g.fig.suptitle('Arcade Revenue by Day of Week and Weather Type', y=1.05)\n",
        "plt.show()"
      ]
    },
    {
      "cell_type": "markdown",
      "metadata": {
        "id": "Hby0OS201Brr"
      },
      "source": [
        "*Interesting Observations:*\n",
        "\n",
        "*Across all weather types, Friday consistently exhibits higher arcade revenue, particularly during Rainy and Cloudy weather conditions. This pattern suggests that people prefer indoor entertainment on Fridays regardless of the weather, possibly due to the beginning of the weekend. Additionally, Saturday and Sunday show increased revenue, with Saturdays in Cloudy weather showing the highest spikes. This indicates that weekends, especially with less favorable outdoor weather, drive more people to indoor venues like arcades.*\n",
        "\n",
        "*Noteworthy Day and Weather Combinations:*\n",
        "\n",
        "*A particularly noteworthy combination is Cloudy Saturday, where arcade revenue peaks the highest, suggesting that bad weather on weekends encourages indoor activity. Similarly, Rainy Fridays stand out with significant revenue increases, indicating that rainy weather on a typically popular day for leisure activities may lead people to arcades instead of outdoor options. These patterns suggest that adverse weather on weekends may positively influence indoor arcade attendance.*\n",
        "\n",
        "*Important Limitation:*\n",
        "\n",
        "*One limitation of interpreting this graph is the absence of data on the number of visitors. The graph only reflects revenue, which could result from fewer visitors spending more, rather than an overall increase in foot traffic. Additionally, the graph doesn't account for seasonal or holiday variations, which could greatly impact arcade attendance trends and weather patterns, potentially leading to misinterpretations of how weather affects revenue.*"
      ]
    },
    {
      "cell_type": "markdown",
      "metadata": {
        "id": "zTQsJa8X4mVU"
      },
      "source": [
        "**R. Lobster Land wishes to dig just a bit deeper into its revenue trends across the\n",
        "entire 2024 season. Right now, the data is aggregated on a daily basis. Using\n",
        "Python, aggregate the data by week instead of day. Next, create a lineplot that\n",
        "shows ‘Week Number’ on the x-axis, and total revenue on the y-axis. What\n",
        "general trend does this lineplot show, if any? If you were explaining it to an\n",
        "outside audience, what would you point out about the graph?**"
      ]
    },
    {
      "cell_type": "code",
      "execution_count": null,
      "metadata": {
        "colab": {
          "base_uri": "https://localhost:8080/",
          "height": 472
        },
        "id": "NWbnPok56V5h",
        "outputId": "d9101836-232b-4999-a883-d42909d23cd6"
      },
      "outputs": [
        {
          "data": {
            "image/png": "[encoded data removed]",
            "text/plain": [
              "<Figure size 640x480 with 1 Axes>"
            ]
          },
          "metadata": {},
          "output_type": "display_data"
        }
      ],
      "source": [
        "# 'Week_Number' column by extracting the week number from the 'Date' column\n",
        "\n",
        "lobster24['Week_Number'] = lobster24['Date'].dt.isocalendar().week\n",
        "\n",
        "# Grouping the data by 'Week_Number' and sum the 'Total_Revenue'\n",
        "\n",
        "weekly_revenue = lobster24.groupby('Week_Number')['Total_Revenue'].sum()\n",
        "\n",
        "# lineplot:\n",
        "\n",
        "plt.plot(weekly_revenue.index, weekly_revenue.values, color= \"brown\")\n",
        "plt.xlabel('Week Number')\n",
        "plt.ylabel('Total Revenue')\n",
        "plt.title('Total Revenue Trend Across 2024 Season (Weekly)')\n",
        "plt.show()"
      ]
    },
    {
      "cell_type": "markdown",
      "metadata": {
        "id": "5MLe7Ojy5rM7"
      },
      "source": [
        "*This line plot illustrates the total revenue trend across the 2024 season on a weekly basis. From weeks 22 to 33, the revenue fluctuates between 100,000 and 130,000 units, demonstrating a relatively stable pattern with some minor ups and downs. However, the general level of revenue remains high throughout this period, indicating steady performance.*\n",
        "\n",
        "*The most notable aspect of the graph is the sharp decline that occurs after week 33. By week 36, the total revenue drops to its lowest point. This sudden and significant decrease suggests a potential issue or external factor that may have impacted revenue, such as the end of a season, market change, or other disruptions. This drastic fall would likely raise concerns and prompt further investigation into the cause.*\n"
      ]
    }
  ],
  "metadata": {
    "colab": {
      "provenance": []
    },
    "kernelspec": {
      "display_name": "Python 3 (ipykernel)",
      "language": "python",
      "name": "python3"
    },
    "language_info": {
      "codemirror_mode": {
        "name": "ipython",
        "version": 3
      },
      "file_extension": ".py",
      "mimetype": "text/x-python",
      "name": "python",
      "nbconvert_exporter": "python",
      "pygments_lexer": "ipython3",
      "version": "3.12.4"
    }
  },
  "nbformat": 4,
  "nbformat_minor": 0
}