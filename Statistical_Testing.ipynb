{
  "cells": [
    {
      "cell_type": "markdown",
      "source": [
        "#**Marketing Analytics**#\n"
      ],
      "metadata": {
        "id": "JcfnE2OwHhOo"
      }
    },
    {
      "cell_type": "markdown",
      "source": [
        "#**Statistical Testing**#\n",
        "**PRABU JEYABALAN**"
      ],
      "metadata": {
        "id": "U-HI05g5HjHV"
      }
    },
    {
      "cell_type": "code",
      "source": [
        "import numpy as np\n",
        "import pandas as pd\n",
        "import matplotlib.pyplot as plt\n",
        "import seaborn as sns\n",
        "from scipy import stats\n",
        "from statsmodels.formula.api import ols\n",
        "import warnings\n",
        "warnings.filterwarnings('ignore')\n",
        "from google.colab import files\n",
        "import matplotlib.image as mpimg"
      ],
      "metadata": {
        "id": "cRo-q__QRe1S"
      },
      "execution_count": null,
      "outputs": []
    },
    {
      "cell_type": "markdown",
      "source": [
        "**A.Examine your variables. Which ones are numeric, and which ones are\n",
        "categorical?**\n"
      ],
      "metadata": {
        "id": "HF6Afs-nf4EJ"
      }
    },
    {
      "cell_type": "code",
      "source": [
        "df = pd.read_csv('/content/merch_23 (1).csv')\n",
        "df.head()"
      ],
      "metadata": {
        "colab": {
          "base_uri": "https://localhost:8080/",
          "height": 206
        },
        "id": "wp6GYzR3eIcc",
        "outputId": "1e637a4f-cc72-42f7-a4eb-414f285c8eb7"
      },
      "execution_count": null,
      "outputs": [
        {
          "output_type": "execute_result",
          "data": {
            "text/plain": [
              "   purchaseID day_code  merch_total  returns  return_total\n",
              "0           1        R        17.23        0          0.00\n",
              "1           2        W        34.83        0          0.00\n",
              "2           3        R        25.02        1          6.26\n",
              "3           4        R        39.15        0          0.00\n",
              "4           5        H        18.38        0          0.00"
            ],
            "text/html": [
              "\n",
              "  <div id=\"df-382ad571-78bf-4c30-8239-f4871e505cdf\" class=\"colab-df-container\">\n",
              "    <div>\n",
              "<style scoped>\n",
              "    .dataframe tbody tr th:only-of-type {\n",
              "        vertical-align: middle;\n",
              "    }\n",
              "\n",
              "    .dataframe tbody tr th {\n",
              "        vertical-align: top;\n",
              "    }\n",
              "\n",
              "    .dataframe thead th {\n",
              "        text-align: right;\n",
              "    }\n",
              "</style>\n",
              "<table border=\"1\" class=\"dataframe\">\n",
              "  <thead>\n",
              "    <tr style=\"text-align: right;\">\n",
              "      <th></th>\n",
              "      <th>purchaseID</th>\n",
              "      <th>day_code</th>\n",
              "      <th>merch_total</th>\n",
              "      <th>returns</th>\n",
              "      <th>return_total</th>\n",
              "    </tr>\n",
              "  </thead>\n",
              "  <tbody>\n",
              "    <tr>\n",
              "      <th>0</th>\n",
              "      <td>1</td>\n",
              "      <td>R</td>\n",
              "      <td>17.23</td>\n",
              "      <td>0</td>\n",
              "      <td>0.00</td>\n",
              "    </tr>\n",
              "    <tr>\n",
              "      <th>1</th>\n",
              "      <td>2</td>\n",
              "      <td>W</td>\n",
              "      <td>34.83</td>\n",
              "      <td>0</td>\n",
              "      <td>0.00</td>\n",
              "    </tr>\n",
              "    <tr>\n",
              "      <th>2</th>\n",
              "      <td>3</td>\n",
              "      <td>R</td>\n",
              "      <td>25.02</td>\n",
              "      <td>1</td>\n",
              "      <td>6.26</td>\n",
              "    </tr>\n",
              "    <tr>\n",
              "      <th>3</th>\n",
              "      <td>4</td>\n",
              "      <td>R</td>\n",
              "      <td>39.15</td>\n",
              "      <td>0</td>\n",
              "      <td>0.00</td>\n",
              "    </tr>\n",
              "    <tr>\n",
              "      <th>4</th>\n",
              "      <td>5</td>\n",
              "      <td>H</td>\n",
              "      <td>18.38</td>\n",
              "      <td>0</td>\n",
              "      <td>0.00</td>\n",
              "    </tr>\n",
              "  </tbody>\n",
              "</table>\n",
              "</div>\n",
              "    <div class=\"colab-df-buttons\">\n",
              "\n",
              "  <div class=\"colab-df-container\">\n",
              "    <button class=\"colab-df-convert\" onclick=\"convertToInteractive('df-382ad571-78bf-4c30-8239-f4871e505cdf')\"\n",
              "            title=\"Convert this dataframe to an interactive table.\"\n",
              "            style=\"display:none;\">\n",
              "\n",
              "  <svg xmlns=\"http://www.w3.org/2000/svg\" height=\"24px\" viewBox=\"0 -960 960 960\">\n",
              "    <path d=\"M120-120v-720h720v720H120Zm60-500h600v-160H180v160Zm220 220h160v-160H400v160Zm0 220h160v-160H400v160ZM180-400h160v-160H180v160Zm440 0h160v-160H620v160ZM180-180h160v-160H180v160Zm440 0h160v-160H620v160Z\"/>\n",
              "  </svg>\n",
              "    </button>\n",
              "\n",
              "  <style>\n",
              "    .colab-df-container {\n",
              "      display:flex;\n",
              "      gap: 12px;\n",
              "    }\n",
              "\n",
              "    .colab-df-convert {\n",
              "      background-color: #E8F0FE;\n",
              "      border: none;\n",
              "      border-radius: 50%;\n",
              "      cursor: pointer;\n",
              "      display: none;\n",
              "      fill: #1967D2;\n",
              "      height: 32px;\n",
              "      padding: 0 0 0 0;\n",
              "      width: 32px;\n",
              "    }\n",
              "\n",
              "    .colab-df-convert:hover {\n",
              "      background-color: #E2EBFA;\n",
              "      box-shadow: 0px 1px 2px rgba(60, 64, 67, 0.3), 0px 1px 3px 1px rgba(60, 64, 67, 0.15);\n",
              "      fill: #174EA6;\n",
              "    }\n",
              "\n",
              "    .colab-df-buttons div {\n",
              "      margin-bottom: 4px;\n",
              "    }\n",
              "\n",
              "    [theme=dark] .colab-df-convert {\n",
              "      background-color: #3B4455;\n",
              "      fill: #D2E3FC;\n",
              "    }\n",
              "\n",
              "    [theme=dark] .colab-df-convert:hover {\n",
              "      background-color: #434B5C;\n",
              "      box-shadow: 0px 1px 3px 1px rgba(0, 0, 0, 0.15);\n",
              "      filter: drop-shadow(0px 1px 2px rgba(0, 0, 0, 0.3));\n",
              "      fill: #FFFFFF;\n",
              "    }\n",
              "  </style>\n",
              "\n",
              "    <script>\n",
              "      const buttonEl =\n",
              "        document.querySelector('#df-382ad571-78bf-4c30-8239-f4871e505cdf button.colab-df-convert');\n",
              "      buttonEl.style.display =\n",
              "        google.colab.kernel.accessAllowed ? 'block' : 'none';\n",
              "\n",
              "      async function convertToInteractive(key) {\n",
              "        const element = document.querySelector('#df-382ad571-78bf-4c30-8239-f4871e505cdf');\n",
              "        const dataTable =\n",
              "          await google.colab.kernel.invokeFunction('convertToInteractive',\n",
              "                                                    [key], {});\n",
              "        if (!dataTable) return;\n",
              "\n",
              "        const docLinkHtml = 'Like what you see? Visit the ' +\n",
              "          '<a target=\"_blank\" href=https://colab.research.google.com/notebooks/data_table.ipynb>data table notebook</a>'\n",
              "          + ' to learn more about interactive tables.';\n",
              "        element.innerHTML = '';\n",
              "        dataTable['output_type'] = 'display_data';\n",
              "        await google.colab.output.renderOutput(dataTable, element);\n",
              "        const docLink = document.createElement('div');\n",
              "        docLink.innerHTML = docLinkHtml;\n",
              "        element.appendChild(docLink);\n",
              "      }\n",
              "    </script>\n",
              "  </div>\n",
              "\n",
              "\n",
              "<div id=\"df-a15bb419-ad26-4797-b172-5eec6d861f73\">\n",
              "  <button class=\"colab-df-quickchart\" onclick=\"quickchart('df-a15bb419-ad26-4797-b172-5eec6d861f73')\"\n",
              "            title=\"Suggest charts\"\n",
              "            style=\"display:none;\">\n",
              "\n",
              "<svg xmlns=\"http://www.w3.org/2000/svg\" height=\"24px\"viewBox=\"0 0 24 24\"\n",
              "     width=\"24px\">\n",
              "    <g>\n",
              "        <path d=\"M19 3H5c-1.1 0-2 .9-2 2v14c0 1.1.9 2 2 2h14c1.1 0 2-.9 2-2V5c0-1.1-.9-2-2-2zM9 17H7v-7h2v7zm4 0h-2V7h2v10zm4 0h-2v-4h2v4z\"/>\n",
              "    </g>\n",
              "</svg>\n",
              "  </button>\n",
              "\n",
              "<style>\n",
              "  .colab-df-quickchart {\n",
              "      --bg-color: #E8F0FE;\n",
              "      --fill-color: #1967D2;\n",
              "      --hover-bg-color: #E2EBFA;\n",
              "      --hover-fill-color: #174EA6;\n",
              "      --disabled-fill-color: #AAA;\n",
              "      --disabled-bg-color: #DDD;\n",
              "  }\n",
              "\n",
              "  [theme=dark] .colab-df-quickchart {\n",
              "      --bg-color: #3B4455;\n",
              "      --fill-color: #D2E3FC;\n",
              "      --hover-bg-color: #434B5C;\n",
              "      --hover-fill-color: #FFFFFF;\n",
              "      --disabled-bg-color: #3B4455;\n",
              "      --disabled-fill-color: #666;\n",
              "  }\n",
              "\n",
              "  .colab-df-quickchart {\n",
              "    background-color: var(--bg-color);\n",
              "    border: none;\n",
              "    border-radius: 50%;\n",
              "    cursor: pointer;\n",
              "    display: none;\n",
              "    fill: var(--fill-color);\n",
              "    height: 32px;\n",
              "    padding: 0;\n",
              "    width: 32px;\n",
              "  }\n",
              "\n",
              "  .colab-df-quickchart:hover {\n",
              "    background-color: var(--hover-bg-color);\n",
              "    box-shadow: 0 1px 2px rgba(60, 64, 67, 0.3), 0 1px 3px 1px rgba(60, 64, 67, 0.15);\n",
              "    fill: var(--button-hover-fill-color);\n",
              "  }\n",
              "\n",
              "  .colab-df-quickchart-complete:disabled,\n",
              "  .colab-df-quickchart-complete:disabled:hover {\n",
              "    background-color: var(--disabled-bg-color);\n",
              "    fill: var(--disabled-fill-color);\n",
              "    box-shadow: none;\n",
              "  }\n",
              "\n",
              "  .colab-df-spinner {\n",
              "    border: 2px solid var(--fill-color);\n",
              "    border-color: transparent;\n",
              "    border-bottom-color: var(--fill-color);\n",
              "    animation:\n",
              "      spin 1s steps(1) infinite;\n",
              "  }\n",
              "\n",
              "  @keyframes spin {\n",
              "    0% {\n",
              "      border-color: transparent;\n",
              "      border-bottom-color: var(--fill-color);\n",
              "      border-left-color: var(--fill-color);\n",
              "    }\n",
              "    20% {\n",
              "      border-color: transparent;\n",
              "      border-left-color: var(--fill-color);\n",
              "      border-top-color: var(--fill-color);\n",
              "    }\n",
              "    30% {\n",
              "      border-color: transparent;\n",
              "      border-left-color: var(--fill-color);\n",
              "      border-top-color: var(--fill-color);\n",
              "      border-right-color: var(--fill-color);\n",
              "    }\n",
              "    40% {\n",
              "      border-color: transparent;\n",
              "      border-right-color: var(--fill-color);\n",
              "      border-top-color: var(--fill-color);\n",
              "    }\n",
              "    60% {\n",
              "      border-color: transparent;\n",
              "      border-right-color: var(--fill-color);\n",
              "    }\n",
              "    80% {\n",
              "      border-color: transparent;\n",
              "      border-right-color: var(--fill-color);\n",
              "      border-bottom-color: var(--fill-color);\n",
              "    }\n",
              "    90% {\n",
              "      border-color: transparent;\n",
              "      border-bottom-color: var(--fill-color);\n",
              "    }\n",
              "  }\n",
              "</style>\n",
              "\n",
              "  <script>\n",
              "    async function quickchart(key) {\n",
              "      const quickchartButtonEl =\n",
              "        document.querySelector('#' + key + ' button');\n",
              "      quickchartButtonEl.disabled = true;  // To prevent multiple clicks.\n",
              "      quickchartButtonEl.classList.add('colab-df-spinner');\n",
              "      try {\n",
              "        const charts = await google.colab.kernel.invokeFunction(\n",
              "            'suggestCharts', [key], {});\n",
              "      } catch (error) {\n",
              "        console.error('Error during call to suggestCharts:', error);\n",
              "      }\n",
              "      quickchartButtonEl.classList.remove('colab-df-spinner');\n",
              "      quickchartButtonEl.classList.add('colab-df-quickchart-complete');\n",
              "    }\n",
              "    (() => {\n",
              "      let quickchartButtonEl =\n",
              "        document.querySelector('#df-a15bb419-ad26-4797-b172-5eec6d861f73 button');\n",
              "      quickchartButtonEl.style.display =\n",
              "        google.colab.kernel.accessAllowed ? 'block' : 'none';\n",
              "    })();\n",
              "  </script>\n",
              "</div>\n",
              "\n",
              "    </div>\n",
              "  </div>\n"
            ],
            "application/vnd.google.colaboratory.intrinsic+json": {
              "type": "dataframe",
              "variable_name": "df",
              "summary": "{\n  \"name\": \"df\",\n  \"rows\": 2850,\n  \"fields\": [\n    {\n      \"column\": \"purchaseID\",\n      \"properties\": {\n        \"dtype\": \"number\",\n        \"std\": 822,\n        \"min\": 1,\n        \"max\": 2850,\n        \"num_unique_values\": 2850,\n        \"samples\": [\n          1578,\n          325,\n          2090\n        ],\n        \"semantic_type\": \"\",\n        \"description\": \"\"\n      }\n    },\n    {\n      \"column\": \"day_code\",\n      \"properties\": {\n        \"dtype\": \"category\",\n        \"num_unique_values\": 3,\n        \"samples\": [\n          \"R\",\n          \"W\",\n          \"H\"\n        ],\n        \"semantic_type\": \"\",\n        \"description\": \"\"\n      }\n    },\n    {\n      \"column\": \"merch_total\",\n      \"properties\": {\n        \"dtype\": \"number\",\n        \"std\": 11.590250936487417,\n        \"min\": -7.0,\n        \"max\": 78.75,\n        \"num_unique_values\": 2083,\n        \"samples\": [\n          37.3,\n          29.08,\n          45.76\n        ],\n        \"semantic_type\": \"\",\n        \"description\": \"\"\n      }\n    },\n    {\n      \"column\": \"returns\",\n      \"properties\": {\n        \"dtype\": \"number\",\n        \"std\": 0,\n        \"min\": 0,\n        \"max\": 1,\n        \"num_unique_values\": 2,\n        \"samples\": [\n          1,\n          0\n        ],\n        \"semantic_type\": \"\",\n        \"description\": \"\"\n      }\n    },\n    {\n      \"column\": \"return_total\",\n      \"properties\": {\n        \"dtype\": \"number\",\n        \"std\": 10.884610377977292,\n        \"min\": -7.0,\n        \"max\": 57.13,\n        \"num_unique_values\": 924,\n        \"samples\": [\n          27.75,\n          8.27\n        ],\n        \"semantic_type\": \"\",\n        \"description\": \"\"\n      }\n    }\n  ]\n}"
            }
          },
          "metadata": {},
          "execution_count": 23
        }
      ]
    },
    {
      "cell_type": "code",
      "source": [
        "df_info = df.info()\n",
        "\n",
        "# Identify numeric and categorical columns based on data type.\n",
        "numeric_cols = df.select_dtypes(include=np.number).columns.tolist()\n",
        "categorical_cols = df.select_dtypes(include=['object']).columns.tolist()\n",
        "\n",
        "print(\"Numeric variables:\", numeric_cols)\n",
        "print(\"Categorical variables:\", categorical_cols)"
      ],
      "metadata": {
        "colab": {
          "base_uri": "https://localhost:8080/"
        },
        "id": "WULPdGeJOZ8g",
        "outputId": "30236d05-762d-4280-d713-ec48121bf8e1"
      },
      "execution_count": null,
      "outputs": [
        {
          "output_type": "stream",
          "name": "stdout",
          "text": [
            "<class 'pandas.core.frame.DataFrame'>\n",
            "RangeIndex: 2850 entries, 0 to 2849\n",
            "Data columns (total 5 columns):\n",
            " #   Column        Non-Null Count  Dtype  \n",
            "---  ------        --------------  -----  \n",
            " 0   purchaseID    2850 non-null   int64  \n",
            " 1   day_code      2850 non-null   object \n",
            " 2   merch_total   2850 non-null   float64\n",
            " 3   returns       2850 non-null   int64  \n",
            " 4   return_total  2850 non-null   float64\n",
            "dtypes: float64(2), int64(2), object(1)\n",
            "memory usage: 111.5+ KB\n",
            "Numeric variables: ['purchaseID', 'merch_total', 'returns', 'return_total']\n",
            "Categorical variables: ['day_code']\n"
          ]
        }
      ]
    },
    {
      "cell_type": "markdown",
      "source": [
        "*Even though 'purchaseID' and 'returns' were initially interpreted as numerical by Python, it's clear from the dataset that they are actually categorical in nature. 'purchaseID' is a unique transaction identifier, and 'returns' is a binary variable indicating whether or not a return was made. To ensure these variables do not affect the accuracy of my statistical tests, I have converted them to categorical. This step ensures that they are treated appropriately in the analysis and that their nature as identifiers and binary outcomes is preserved, avoiding any potential skew in the results.*"
      ],
      "metadata": {
        "id": "wlScoSiuvMSY"
      }
    },
    {
      "cell_type": "code",
      "source": [
        "# i) Converting Purchase ID as categorical variable\n",
        "df['purchaseID'] = df['purchaseID'].astype('category')\n",
        "\n",
        "# ii) Converting Returns variable as categorical variable\n",
        "df['returns'] = df['returns'].astype('category')\n",
        "\n",
        "# iii) Converting day_code as categorical variable\n",
        "df['day_code'] = df['day_code'].astype('category')\n",
        "\n",
        "df.info()"
      ],
      "metadata": {
        "colab": {
          "base_uri": "https://localhost:8080/"
        },
        "id": "MzDa5PULrjRY",
        "outputId": "e9d06adf-dd57-43c7-b90f-b40d927e77df"
      },
      "execution_count": null,
      "outputs": [
        {
          "output_type": "stream",
          "name": "stdout",
          "text": [
            "<class 'pandas.core.frame.DataFrame'>\n",
            "RangeIndex: 2850 entries, 0 to 2849\n",
            "Data columns (total 5 columns):\n",
            " #   Column        Non-Null Count  Dtype   \n",
            "---  ------        --------------  -----   \n",
            " 0   purchaseID    2850 non-null   category\n",
            " 1   day_code      2850 non-null   category\n",
            " 2   merch_total   2850 non-null   float64 \n",
            " 3   returns       2850 non-null   category\n",
            " 4   return_total  2850 non-null   float64 \n",
            "dtypes: category(3), float64(2)\n",
            "memory usage: 142.8 KB\n"
          ]
        }
      ]
    },
    {
      "cell_type": "markdown",
      "source": [
        "**B. What was the last item that you purchased online, and then returned? Why did\n",
        "you return it? (If you have never returned an item that you purchased online, just\n",
        "say that here – but you should still answer the next two questions). How is the\n",
        "returns process a hassle for consumers? How can returns be problematic for\n",
        "online businesses?**"
      ],
      "metadata": {
        "id": "5MiuY_uDPqnq"
      }
    },
    {
      "cell_type": "markdown",
      "source": [
        "*A couple of years ago, I purchased an air conditioner through Flipkart in India after carefully reviewing the specifications. The AC was delivered within a few days but since I was not at home they left it at my front door. The next day when I checked the product I noticed that the manufacturing year was different from what was listed on the website.*\n",
        "\n",
        "*I contacted customer service and they informed me that the seller would reach out directly. After waiting two more days, I received an email from the seller claiming they had delivered the correct product. I responded with screenshots comparing the websites specifications to the actual product I received. After reviewing the evidence, the seller admitted their mistake and agreed to a return.*\n",
        "\n",
        "*However, the return process turned out to be another problem. They scheduled the return for a week later, as their technician needed to inspect the product first as the product was opened. Additionally, the return logistics didn't operate as efficiently as the forward supply chain, as they tried to optimize the return process to minimize costs. Eventually, they collected the product and refunded my money, but the entire experience left me feeling frustrated.*\n",
        "\n",
        "*I had to endure nearly 20 days without an AC during a hot summer in India, with temperatures reaching 38 degrees Celsius. This whole ordeal was quite stressful and disappointing.*"
      ],
      "metadata": {
        "id": "nESoiCvQP6bn"
      }
    },
    {
      "cell_type": "markdown",
      "source": [
        "**C. Generate a barplot to show the average merch_total values, separated by the\n",
        "different day_code types.**\n"
      ],
      "metadata": {
        "id": "Xg4owjuyQEL7"
      }
    },
    {
      "cell_type": "code",
      "source": [
        "average_merch_by_day = df.groupby('day_code')['merch_total'].mean()\n",
        "\n",
        "# barplot\n",
        "plt.figure(figsize=(6, 4))\n",
        "sns.barplot(x=average_merch_by_day.index, y=average_merch_by_day.values)\n",
        "plt.xlabel('Day Code')\n",
        "plt.ylabel('Average Merch Total')\n",
        "plt.title('Average Merch Total by Day Code')\n",
        "plt.show()"
      ],
      "metadata": {
        "colab": {
          "base_uri": "https://localhost:8080/",
          "height": 410
        },
        "id": "ZSiZibFZPd1b",
        "outputId": "55f5639f-72c9-4185-f78b-3890570f134f"
      },
      "execution_count": null,
      "outputs": [
        {
          "output_type": "display_data",
          "data": {
            "text/plain": [
              "<Figure size 600x400 with 1 Axes>"
            ],
            "image/png": "[encoded data removed]"
          },
          "metadata": {}
        }
      ]
    },
    {
      "cell_type": "markdown",
      "source": [
        "**a. Describe your barplot in a few sentences. Why do you think it might\n",
        "look the way that it does?**"
      ],
      "metadata": {
        "id": "sGJhXSsPR8t4"
      }
    },
    {
      "cell_type": "markdown",
      "source": [
        "*The bar plot shows that people tend to spend the most on holidays, with an average purchase total around 40 dollars, while regular days and weekends see lower spending, averaging about $30. This is because holiday promotions or sales events encourage customers to spend more, either by buying bigger or more expensive items. During holidays people often plan ahead for celebrations which might be the reason for higher totals.*\n",
        "\n",
        "*Another reason could be that holidays bring more group or family shopping, where people make larger purchases together unlike regular days or weekends when shopping is more routine. Holiday-specific products or special bundles might also tempt people to spend more than they would on a typical day.*\n",
        "\n",
        "*It's possible that shoppers often buy gifts or prepare for specific events or gifts, which keeps the total amount spent higher during holidays. In contrast, on regular days and weekends people might be buying everyday items like groceries which naturally leads to lower purchase totals.*\n",
        "\n",
        "*Holidays often mean travel or celebrations so shoppers may be stocking up on more than just gifts they might be buying food, decorations or supplies for gatherings pushing their spending even higher. By understanding these patterns Lobster Land can focus on maximizing holiday sales and look for ways to boost regular and weekend spending, perhaps with promotions or incentives.*"
      ],
      "metadata": {
        "id": "3drMQocSSBuE"
      }
    },
    {
      "cell_type": "markdown",
      "source": [
        "**D.Its time for some feature engineering!**\n",
        "\n",
        "**a.Create a new variable in this dataset called return_proportion. Return\n",
        "proportion should be found by taking the return_total value, and dividing\n",
        "by the merch_total value. If customers did not return any items, they ll\n",
        "just have a zero in this column.**\n"
      ],
      "metadata": {
        "id": "xvp-CGoDYLWc"
      }
    },
    {
      "cell_type": "code",
      "source": [
        "df['return_proportion']=df['return_total']/df['merch_total']\n",
        "df['return_proportion'].fillna(0,inplace=True)\n",
        "df.head()"
      ],
      "metadata": {
        "colab": {
          "base_uri": "https://localhost:8080/",
          "height": 206
        },
        "id": "m7A_c2QIR1jP",
        "outputId": "29d514be-0f8f-4d61-cde1-76a1511976a3"
      },
      "execution_count": null,
      "outputs": [
        {
          "output_type": "execute_result",
          "data": {
            "text/plain": [
              "  purchaseID day_code  merch_total returns  return_total  return_proportion\n",
              "0          1        R        17.23       0          0.00             0.0000\n",
              "1          2        W        34.83       0          0.00             0.0000\n",
              "2          3        R        25.02       1          6.26             0.2502\n",
              "3          4        R        39.15       0          0.00             0.0000\n",
              "4          5        H        18.38       0          0.00             0.0000"
            ],
            "text/html": [
              "\n",
              "  <div id=\"df-4612cb3c-8a14-4840-af47-2d57710e55d3\" class=\"colab-df-container\">\n",
              "    <div>\n",
              "<style scoped>\n",
              "    .dataframe tbody tr th:only-of-type {\n",
              "        vertical-align: middle;\n",
              "    }\n",
              "\n",
              "    .dataframe tbody tr th {\n",
              "        vertical-align: top;\n",
              "    }\n",
              "\n",
              "    .dataframe thead th {\n",
              "        text-align: right;\n",
              "    }\n",
              "</style>\n",
              "<table border=\"1\" class=\"dataframe\">\n",
              "  <thead>\n",
              "    <tr style=\"text-align: right;\">\n",
              "      <th></th>\n",
              "      <th>purchaseID</th>\n",
              "      <th>day_code</th>\n",
              "      <th>merch_total</th>\n",
              "      <th>returns</th>\n",
              "      <th>return_total</th>\n",
              "      <th>return_proportion</th>\n",
              "    </tr>\n",
              "  </thead>\n",
              "  <tbody>\n",
              "    <tr>\n",
              "      <th>0</th>\n",
              "      <td>1</td>\n",
              "      <td>R</td>\n",
              "      <td>17.23</td>\n",
              "      <td>0</td>\n",
              "      <td>0.00</td>\n",
              "      <td>0.0000</td>\n",
              "    </tr>\n",
              "    <tr>\n",
              "      <th>1</th>\n",
              "      <td>2</td>\n",
              "      <td>W</td>\n",
              "      <td>34.83</td>\n",
              "      <td>0</td>\n",
              "      <td>0.00</td>\n",
              "      <td>0.0000</td>\n",
              "    </tr>\n",
              "    <tr>\n",
              "      <th>2</th>\n",
              "      <td>3</td>\n",
              "      <td>R</td>\n",
              "      <td>25.02</td>\n",
              "      <td>1</td>\n",
              "      <td>6.26</td>\n",
              "      <td>0.2502</td>\n",
              "    </tr>\n",
              "    <tr>\n",
              "      <th>3</th>\n",
              "      <td>4</td>\n",
              "      <td>R</td>\n",
              "      <td>39.15</td>\n",
              "      <td>0</td>\n",
              "      <td>0.00</td>\n",
              "      <td>0.0000</td>\n",
              "    </tr>\n",
              "    <tr>\n",
              "      <th>4</th>\n",
              "      <td>5</td>\n",
              "      <td>H</td>\n",
              "      <td>18.38</td>\n",
              "      <td>0</td>\n",
              "      <td>0.00</td>\n",
              "      <td>0.0000</td>\n",
              "    </tr>\n",
              "  </tbody>\n",
              "</table>\n",
              "</div>\n",
              "    <div class=\"colab-df-buttons\">\n",
              "\n",
              "  <div class=\"colab-df-container\">\n",
              "    <button class=\"colab-df-convert\" onclick=\"convertToInteractive('df-4612cb3c-8a14-4840-af47-2d57710e55d3')\"\n",
              "            title=\"Convert this dataframe to an interactive table.\"\n",
              "            style=\"display:none;\">\n",
              "\n",
              "  <svg xmlns=\"http://www.w3.org/2000/svg\" height=\"24px\" viewBox=\"0 -960 960 960\">\n",
              "    <path d=\"M120-120v-720h720v720H120Zm60-500h600v-160H180v160Zm220 220h160v-160H400v160Zm0 220h160v-160H400v160ZM180-400h160v-160H180v160Zm440 0h160v-160H620v160ZM180-180h160v-160H180v160Zm440 0h160v-160H620v160Z\"/>\n",
              "  </svg>\n",
              "    </button>\n",
              "\n",
              "  <style>\n",
              "    .colab-df-container {\n",
              "      display:flex;\n",
              "      gap: 12px;\n",
              "    }\n",
              "\n",
              "    .colab-df-convert {\n",
              "      background-color: #E8F0FE;\n",
              "      border: none;\n",
              "      border-radius: 50%;\n",
              "      cursor: pointer;\n",
              "      display: none;\n",
              "      fill: #1967D2;\n",
              "      height: 32px;\n",
              "      padding: 0 0 0 0;\n",
              "      width: 32px;\n",
              "    }\n",
              "\n",
              "    .colab-df-convert:hover {\n",
              "      background-color: #E2EBFA;\n",
              "      box-shadow: 0px 1px 2px rgba(60, 64, 67, 0.3), 0px 1px 3px 1px rgba(60, 64, 67, 0.15);\n",
              "      fill: #174EA6;\n",
              "    }\n",
              "\n",
              "    .colab-df-buttons div {\n",
              "      margin-bottom: 4px;\n",
              "    }\n",
              "\n",
              "    [theme=dark] .colab-df-convert {\n",
              "      background-color: #3B4455;\n",
              "      fill: #D2E3FC;\n",
              "    }\n",
              "\n",
              "    [theme=dark] .colab-df-convert:hover {\n",
              "      background-color: #434B5C;\n",
              "      box-shadow: 0px 1px 3px 1px rgba(0, 0, 0, 0.15);\n",
              "      filter: drop-shadow(0px 1px 2px rgba(0, 0, 0, 0.3));\n",
              "      fill: #FFFFFF;\n",
              "    }\n",
              "  </style>\n",
              "\n",
              "    <script>\n",
              "      const buttonEl =\n",
              "        document.querySelector('#df-4612cb3c-8a14-4840-af47-2d57710e55d3 button.colab-df-convert');\n",
              "      buttonEl.style.display =\n",
              "        google.colab.kernel.accessAllowed ? 'block' : 'none';\n",
              "\n",
              "      async function convertToInteractive(key) {\n",
              "        const element = document.querySelector('#df-4612cb3c-8a14-4840-af47-2d57710e55d3');\n",
              "        const dataTable =\n",
              "          await google.colab.kernel.invokeFunction('convertToInteractive',\n",
              "                                                    [key], {});\n",
              "        if (!dataTable) return;\n",
              "\n",
              "        const docLinkHtml = 'Like what you see? Visit the ' +\n",
              "          '<a target=\"_blank\" href=https://colab.research.google.com/notebooks/data_table.ipynb>data table notebook</a>'\n",
              "          + ' to learn more about interactive tables.';\n",
              "        element.innerHTML = '';\n",
              "        dataTable['output_type'] = 'display_data';\n",
              "        await google.colab.output.renderOutput(dataTable, element);\n",
              "        const docLink = document.createElement('div');\n",
              "        docLink.innerHTML = docLinkHtml;\n",
              "        element.appendChild(docLink);\n",
              "      }\n",
              "    </script>\n",
              "  </div>\n",
              "\n",
              "\n",
              "<div id=\"df-3894e85e-f7d8-43c2-a5f7-ab534f14cc63\">\n",
              "  <button class=\"colab-df-quickchart\" onclick=\"quickchart('df-3894e85e-f7d8-43c2-a5f7-ab534f14cc63')\"\n",
              "            title=\"Suggest charts\"\n",
              "            style=\"display:none;\">\n",
              "\n",
              "<svg xmlns=\"http://www.w3.org/2000/svg\" height=\"24px\"viewBox=\"0 0 24 24\"\n",
              "     width=\"24px\">\n",
              "    <g>\n",
              "        <path d=\"M19 3H5c-1.1 0-2 .9-2 2v14c0 1.1.9 2 2 2h14c1.1 0 2-.9 2-2V5c0-1.1-.9-2-2-2zM9 17H7v-7h2v7zm4 0h-2V7h2v10zm4 0h-2v-4h2v4z\"/>\n",
              "    </g>\n",
              "</svg>\n",
              "  </button>\n",
              "\n",
              "<style>\n",
              "  .colab-df-quickchart {\n",
              "      --bg-color: #E8F0FE;\n",
              "      --fill-color: #1967D2;\n",
              "      --hover-bg-color: #E2EBFA;\n",
              "      --hover-fill-color: #174EA6;\n",
              "      --disabled-fill-color: #AAA;\n",
              "      --disabled-bg-color: #DDD;\n",
              "  }\n",
              "\n",
              "  [theme=dark] .colab-df-quickchart {\n",
              "      --bg-color: #3B4455;\n",
              "      --fill-color: #D2E3FC;\n",
              "      --hover-bg-color: #434B5C;\n",
              "      --hover-fill-color: #FFFFFF;\n",
              "      --disabled-bg-color: #3B4455;\n",
              "      --disabled-fill-color: #666;\n",
              "  }\n",
              "\n",
              "  .colab-df-quickchart {\n",
              "    background-color: var(--bg-color);\n",
              "    border: none;\n",
              "    border-radius: 50%;\n",
              "    cursor: pointer;\n",
              "    display: none;\n",
              "    fill: var(--fill-color);\n",
              "    height: 32px;\n",
              "    padding: 0;\n",
              "    width: 32px;\n",
              "  }\n",
              "\n",
              "  .colab-df-quickchart:hover {\n",
              "    background-color: var(--hover-bg-color);\n",
              "    box-shadow: 0 1px 2px rgba(60, 64, 67, 0.3), 0 1px 3px 1px rgba(60, 64, 67, 0.15);\n",
              "    fill: var(--button-hover-fill-color);\n",
              "  }\n",
              "\n",
              "  .colab-df-quickchart-complete:disabled,\n",
              "  .colab-df-quickchart-complete:disabled:hover {\n",
              "    background-color: var(--disabled-bg-color);\n",
              "    fill: var(--disabled-fill-color);\n",
              "    box-shadow: none;\n",
              "  }\n",
              "\n",
              "  .colab-df-spinner {\n",
              "    border: 2px solid var(--fill-color);\n",
              "    border-color: transparent;\n",
              "    border-bottom-color: var(--fill-color);\n",
              "    animation:\n",
              "      spin 1s steps(1) infinite;\n",
              "  }\n",
              "\n",
              "  @keyframes spin {\n",
              "    0% {\n",
              "      border-color: transparent;\n",
              "      border-bottom-color: var(--fill-color);\n",
              "      border-left-color: var(--fill-color);\n",
              "    }\n",
              "    20% {\n",
              "      border-color: transparent;\n",
              "      border-left-color: var(--fill-color);\n",
              "      border-top-color: var(--fill-color);\n",
              "    }\n",
              "    30% {\n",
              "      border-color: transparent;\n",
              "      border-left-color: var(--fill-color);\n",
              "      border-top-color: var(--fill-color);\n",
              "      border-right-color: var(--fill-color);\n",
              "    }\n",
              "    40% {\n",
              "      border-color: transparent;\n",
              "      border-right-color: var(--fill-color);\n",
              "      border-top-color: var(--fill-color);\n",
              "    }\n",
              "    60% {\n",
              "      border-color: transparent;\n",
              "      border-right-color: var(--fill-color);\n",
              "    }\n",
              "    80% {\n",
              "      border-color: transparent;\n",
              "      border-right-color: var(--fill-color);\n",
              "      border-bottom-color: var(--fill-color);\n",
              "    }\n",
              "    90% {\n",
              "      border-color: transparent;\n",
              "      border-bottom-color: var(--fill-color);\n",
              "    }\n",
              "  }\n",
              "</style>\n",
              "\n",
              "  <script>\n",
              "    async function quickchart(key) {\n",
              "      const quickchartButtonEl =\n",
              "        document.querySelector('#' + key + ' button');\n",
              "      quickchartButtonEl.disabled = true;  // To prevent multiple clicks.\n",
              "      quickchartButtonEl.classList.add('colab-df-spinner');\n",
              "      try {\n",
              "        const charts = await google.colab.kernel.invokeFunction(\n",
              "            'suggestCharts', [key], {});\n",
              "      } catch (error) {\n",
              "        console.error('Error during call to suggestCharts:', error);\n",
              "      }\n",
              "      quickchartButtonEl.classList.remove('colab-df-spinner');\n",
              "      quickchartButtonEl.classList.add('colab-df-quickchart-complete');\n",
              "    }\n",
              "    (() => {\n",
              "      let quickchartButtonEl =\n",
              "        document.querySelector('#df-3894e85e-f7d8-43c2-a5f7-ab534f14cc63 button');\n",
              "      quickchartButtonEl.style.display =\n",
              "        google.colab.kernel.accessAllowed ? 'block' : 'none';\n",
              "    })();\n",
              "  </script>\n",
              "</div>\n",
              "\n",
              "    </div>\n",
              "  </div>\n"
            ],
            "application/vnd.google.colaboratory.intrinsic+json": {
              "type": "dataframe",
              "variable_name": "df",
              "summary": "{\n  \"name\": \"df\",\n  \"rows\": 2850,\n  \"fields\": [\n    {\n      \"column\": \"purchaseID\",\n      \"properties\": {\n        \"dtype\": \"category\",\n        \"num_unique_values\": 2850,\n        \"samples\": [\n          1578,\n          325,\n          2090\n        ],\n        \"semantic_type\": \"\",\n        \"description\": \"\"\n      }\n    },\n    {\n      \"column\": \"day_code\",\n      \"properties\": {\n        \"dtype\": \"category\",\n        \"num_unique_values\": 3,\n        \"samples\": [\n          \"R\",\n          \"W\",\n          \"H\"\n        ],\n        \"semantic_type\": \"\",\n        \"description\": \"\"\n      }\n    },\n    {\n      \"column\": \"merch_total\",\n      \"properties\": {\n        \"dtype\": \"number\",\n        \"std\": 11.590250936487417,\n        \"min\": -7.0,\n        \"max\": 78.75,\n        \"num_unique_values\": 2083,\n        \"samples\": [\n          37.3,\n          29.08,\n          45.76\n        ],\n        \"semantic_type\": \"\",\n        \"description\": \"\"\n      }\n    },\n    {\n      \"column\": \"returns\",\n      \"properties\": {\n        \"dtype\": \"category\",\n        \"num_unique_values\": 2,\n        \"samples\": [\n          1,\n          0\n        ],\n        \"semantic_type\": \"\",\n        \"description\": \"\"\n      }\n    },\n    {\n      \"column\": \"return_total\",\n      \"properties\": {\n        \"dtype\": \"number\",\n        \"std\": 10.884610377977292,\n        \"min\": -7.0,\n        \"max\": 57.13,\n        \"num_unique_values\": 924,\n        \"samples\": [\n          27.75,\n          8.27\n        ],\n        \"semantic_type\": \"\",\n        \"description\": \"\"\n      }\n    },\n    {\n      \"column\": \"return_proportion\",\n      \"properties\": {\n        \"dtype\": \"number\",\n        \"std\": 0.3000721141861838,\n        \"min\": 0.0,\n        \"max\": 1.0,\n        \"num_unique_values\": 1019,\n        \"samples\": [\n          0.7457364341085271,\n          0.31157469717362046\n        ],\n        \"semantic_type\": \"\",\n        \"description\": \"\"\n      }\n    }\n  ]\n}"
            }
          },
          "metadata": {},
          "execution_count": 27
        }
      ]
    },
    {
      "cell_type": "markdown",
      "source": [
        "**E. Next, let’s run some statistical tests. We will use two-sample t-tests here to\n",
        "make comparisons among each of the day_code groups. Since we have three\n",
        "groups, we’ll need to run three tests (R vs. H, R vs. W, and H vs. W). Your\n",
        "response variable in these tests will be return_proportion.**"
      ],
      "metadata": {
        "id": "qz-KYe3faKqO"
      }
    },
    {
      "cell_type": "markdown",
      "source": [
        "**a. What null hypothesis will you use for your tests?**"
      ],
      "metadata": {
        "id": "h7tBKpr-cujt"
      }
    },
    {
      "cell_type": "markdown",
      "source": [
        "*For the two-sample t-tests between each pair of day_code groups (R vs. H, R vs. W, and H vs. W), my null hypothesis will be that there is no difference in the return proportion between the two groups being compared.*\n",
        "\n",
        "*R vs. H: The return proportion on regular days (R) is equal to the return proportion on holidays (H).*\n",
        "\n",
        "*R vs. W: The return proportion on regular days (R) is equal to the return proportion on weekends (W).*\n",
        "\n",
        "*H vs. W: The return proportion on holidays (H) is equal to the return proportion on weekends (W).*\n"
      ],
      "metadata": {
        "id": "oToWeSO2dDiC"
      }
    },
    {
      "cell_type": "markdown",
      "source": [
        "**b. What alpha threshold do you wish to use for this test?**"
      ],
      "metadata": {
        "id": "2TIb2WGidUbh"
      }
    },
    {
      "cell_type": "markdown",
      "source": [
        "*I wish to choose standard alpha threshold of 0.05, which means there is a 5% risk of committing a Type I error (rejecting the null hypothesis when it is actually true).*"
      ],
      "metadata": {
        "id": "6Dr25lSAh-zp"
      }
    },
    {
      "cell_type": "markdown",
      "source": [
        "**c. What is a Bonferroni correction? Explain its purpose**"
      ],
      "metadata": {
        "id": "aF0cyb7AhGo-"
      }
    },
    {
      "cell_type": "markdown",
      "source": [
        "*The Bonferroni correction is a method used to adjust the significance threshold (alpha level) when performing multiple statistical tests. Its purpose is to reduce the risk of Type I errors, which occur when we falsely reject the null hypothesis due to the increased chance of finding significant results by chance when conducting multiple tests. The Bonferroni correction achieves this by dividing the alpha level by the number of tests being performed, effectively lowering the threshold for significance in each individual test.*"
      ],
      "metadata": {
        "id": "N4BC9hfldi7L"
      }
    },
    {
      "cell_type": "markdown",
      "source": [
        "**d.With a Bonferroni correction in mind, what is the new alpha threshold\n",
        "that you will use for the three tests?**"
      ],
      "metadata": {
        "id": "KuIwzur4dkrN"
      }
    },
    {
      "cell_type": "markdown",
      "source": [
        "*he formula for the corrected alpha is alpha(corrected) = alpha/number of tests.*\n",
        "\n",
        "*In this case alpha(corrected) = 0.05/3 , since we are performing 3 tests.*\n",
        "\n",
        "*Therefore, alpha (corrected) = 0.0167*"
      ],
      "metadata": {
        "id": "mfUCw6eTjG07"
      }
    },
    {
      "cell_type": "markdown",
      "source": [
        "**e.Execute the three tests in Python**"
      ],
      "metadata": {
        "id": "GuH44MXLkZWh"
      }
    },
    {
      "cell_type": "code",
      "source": [
        "# Test 1: R vs. H\n",
        "regular_return_proportion = df[df['day_code'] == 'R']['return_proportion']\n",
        "holiday_return_proportion = df[df['day_code'] == 'H']['return_proportion']\n",
        "t_statistic, p_value = stats.ttest_ind(regular_return_proportion, holiday_return_proportion)\n",
        "print(\"R vs. H:\")\n",
        "print(\"t-statistic:\", t_statistic)\n",
        "print(\"p-value:\", p_value)\n",
        "\n",
        "\n",
        "# Test 2: R vs. W\n",
        "regular_return_proportion = df[df['day_code'] == 'R']['return_proportion']\n",
        "weekend_return_proportion = df[df['day_code'] == 'W']['return_proportion']\n",
        "t_statistic, p_value = stats.ttest_ind(regular_return_proportion, weekend_return_proportion)\n",
        "print(\"\\nR vs. W:\")\n",
        "print(\"t-statistic:\", t_statistic)\n",
        "print(\"p-value:\", p_value)\n",
        "\n",
        "\n",
        "# Test 3: H vs. W\n",
        "holiday_return_proportion = df[df['day_code'] == 'H']['return_proportion']\n",
        "weekend_return_proportion = df[df['day_code'] == 'W']['return_proportion']\n",
        "t_statistic, p_value = stats.ttest_ind(holiday_return_proportion, weekend_return_proportion)\n",
        "print(\"\\nH vs. W:\")\n",
        "print(\"t-statistic:\", t_statistic)\n",
        "print(\"p-value:\", p_value)"
      ],
      "metadata": {
        "colab": {
          "base_uri": "https://localhost:8080/"
        },
        "id": "FOj9F6RLjrIZ",
        "outputId": "692e7283-7d04-423a-dede-1e29aa3feec7"
      },
      "execution_count": null,
      "outputs": [
        {
          "output_type": "stream",
          "name": "stdout",
          "text": [
            "R vs. H:\n",
            "t-statistic: -2.6368275778750876\n",
            "p-value: 0.008437632002881588\n",
            "\n",
            "R vs. W:\n",
            "t-statistic: -0.5350242797628775\n",
            "p-value: 0.5926850371557939\n",
            "\n",
            "H vs. W:\n",
            "t-statistic: 2.0239658771157774\n",
            "p-value: 0.043147154842248056\n"
          ]
        }
      ]
    },
    {
      "cell_type": "markdown",
      "source": [
        "**f. What results did you obtain here? What do these results mean? Based\n",
        "on these results, write 3-4 sentences about what this could mean for\n",
        "Lobster Land – how should they use/interpret these results?**"
      ],
      "metadata": {
        "id": "HlMFC1g_r-eH"
      }
    },
    {
      "cell_type": "markdown",
      "source": [
        "**R vs H:**\n",
        "\n",
        "*Since the p-value (0.0084) is less than the Bonferroni-corrected alpha (0.0167), we reject the null hypothesis. This means there is a statistically significant difference in return proportions between regular days and holidays.*\n",
        "\n",
        "**R vs W**\n",
        "\n",
        "*The p-value (0.593) is greater than the corrected alpha (0.0167), so we fail to reject the null hypothesis. This suggests there is no significant difference in return proportions between regular days and weekends.*\n",
        "\n",
        "**H vs W**\n",
        "\n",
        "*The p-value (0.0431) is greater than the corrected alpha (0.0167), so we fail to reject the null hypothesis. This means there is no significant difference in return proportions between holidays and weekends.*\n",
        "\n",
        "**Interpretation**\n",
        "\n",
        "*Holiday periods show a noticeable increase in return proportions compared to regular shopping days, partly because more sales happen during the holidays which naturally leads to a higher volume of returns. To address this, Lobster Land should focus on managing returns more effectively during these periods by refining return policies and adjusting holiday promotions to reduce the likelihood of returns.*\n",
        "\n",
        "*Since weekends and regular days have similar return rates Lobster Land doesn't need to treat them differently.*\n",
        "\n",
        "*Holidays and weeekends show no significant difference in return propotion since weekend return proportion lies inbetween Regular day and holiday.*\n",
        "\n"
      ],
      "metadata": {
        "id": "GNpi9wuQqNPb"
      }
    },
    {
      "cell_type": "markdown",
      "source": [
        "**F. Filter the data. Create a subset of the original dataset, so that only the rows for\n",
        "which *something* was returned are included (in other words, discard the rows\n",
        "for which there was no return at all). Using the same alpha threshold as you\n",
        "used in the previous step (with the Bonferroni correction), run another set of\n",
        "three tests using this filtered data**"
      ],
      "metadata": {
        "id": "95DMwiR0jHYb"
      }
    },
    {
      "cell_type": "code",
      "source": [
        "df_filtered = df[df['return_total'] > 0]\n",
        "\n",
        "# Test 1: R vs. H (filtered data)\n",
        "regular_return_proportion = df_filtered[df_filtered['day_code'] == 'R']['return_proportion']\n",
        "holiday_return_proportion = df_filtered[df_filtered['day_code'] == 'H']['return_proportion']\n",
        "t_statistic, p_value = stats.ttest_ind(regular_return_proportion, holiday_return_proportion)\n",
        "print(\"R vs. H (filtered):\")\n",
        "print(\"t-statistic:\", t_statistic)\n",
        "print(\"p-value:\", p_value)\n",
        "\n",
        "\n",
        "# Test 2: R vs. W (filtered data)\n",
        "regular_return_proportion = df_filtered[df_filtered['day_code'] == 'R']['return_proportion']\n",
        "weekend_return_proportion = df_filtered[df_filtered['day_code'] == 'W']['return_proportion']\n",
        "t_statistic, p_value = stats.ttest_ind(regular_return_proportion, weekend_return_proportion)\n",
        "print(\"\\nR vs. W (filtered):\")\n",
        "print(\"t-statistic:\", t_statistic)\n",
        "print(\"p-value:\", p_value)\n",
        "\n",
        "\n",
        "# Test 3: H vs. W (filtered data)\n",
        "holiday_return_proportion = df_filtered[df_filtered['day_code'] == 'H']['return_proportion']\n",
        "weekend_return_proportion = df_filtered[df_filtered['day_code'] == 'W']['return_proportion']\n",
        "t_statistic, p_value = stats.ttest_ind(holiday_return_proportion, weekend_return_proportion)\n",
        "print(\"\\nH vs. W (filtered):\")\n",
        "print(\"t-statistic:\", t_statistic)\n",
        "print(\"p-value:\", p_value)"
      ],
      "metadata": {
        "colab": {
          "base_uri": "https://localhost:8080/"
        },
        "id": "I37g7bhExq5N",
        "outputId": "41558011-3779-4256-ace9-63df693bfbf6"
      },
      "execution_count": null,
      "outputs": [
        {
          "output_type": "stream",
          "name": "stdout",
          "text": [
            "R vs. H (filtered):\n",
            "t-statistic: -4.758996544971903\n",
            "p-value: 2.3723470662049705e-06\n",
            "\n",
            "R vs. W (filtered):\n",
            "t-statistic: -0.747149924235664\n",
            "p-value: 0.4551816539874729\n",
            "\n",
            "H vs. W (filtered):\n",
            "t-statistic: 3.7379117895743517\n",
            "p-value: 0.00020433593078581953\n"
          ]
        }
      ]
    },
    {
      "cell_type": "markdown",
      "source": [
        "**a.What were the t-statistics and p-statistics for each head-to-head test?\n",
        "What conclusions can be drawn from them?**"
      ],
      "metadata": {
        "id": "oYK4YKE0xVkG"
      }
    },
    {
      "cell_type": "markdown",
      "source": [
        "*R vs. H The t-statistic of -4.76 indicates a large negative difference between returns on regular days and holidays.The p-value (2.37e-06) is much smaller than the alpha level (0.0167), which suggests strong evidence to reject the null hypothesis.*\n",
        "\n",
        "*Conclusion:*\n",
        "*There is a significant difference in return rates between regular days and holidays, with holidays having a higher return rate compared to regular days.*\n",
        "\n",
        "*R vs. W The t-statistic of -0.75 is quite small, indicating no substantial difference between regular days and weekends.The p-value of 0.455 is greater than the alpha level (0.0167), meaning there is insufficient evidence to reject the null hypothesis.*\n",
        "\n",
        "*Conclusion:*\n",
        "*There is no significant difference in return rates between regular days and weekends.*\n",
        "\n",
        "*H vs. W The t-statistic of 3.74 indicates a strong positive difference between returns on holidays and weekends, with holidays showing higher returns.The p-value (0.000204) is much smaller than the alpha level (0.0167), providing strong evidence to reject the null hypothesis.*\n",
        "\n",
        "*Conclusion:*\n",
        "*There is a significant difference in return rates between holidays and weekends, with holidays having higher return rates than weekends.*\n",
        "\n",
        "\n",
        "\n",
        "\n"
      ],
      "metadata": {
        "id": "2DrKvODZy1Ea"
      }
    },
    {
      "cell_type": "markdown",
      "source": [
        "**b. In a few sentences, based on these results, what can you suggest for\n",
        "Lobster Land?**"
      ],
      "metadata": {
        "id": "GvpQt8Ay4YDq"
      }
    },
    {
      "cell_type": "markdown",
      "source": [
        "*The filtered data, which focuses on cases where returns occurred, suggests that holidays are particularly prone to higher return rates compared to both regular days and weekends. Lobster Land should prioritize creating targeted strategies to reduce returns during holidays, including improving customer service, offering holiday-specific return policies, and possibly managing inventory differently. Regular days and weekends can be treated similarly, as they show no significant difference in return rates.*\n",
        "\n",
        "*Additionally, Lobster Land should ensure that product images and descriptions on its website and in advertisements clearly communicate key details like dimensions, colors, and features. Providing accurate descriptions and transparent shipping timelines can help set proper customer expectations, ultimately reducing returns and improving satisfaction.*"
      ],
      "metadata": {
        "id": "Qr65jFocxVYP"
      }
    },
    {
      "cell_type": "markdown",
      "source": [
        "**B. Using the actual numbers of people from each of the three groups who made\n",
        "returns, run a chi-square goodness of fit test to assess your null hypothesis. Show\n",
        "your results.**\n"
      ],
      "metadata": {
        "id": "HNboDBLgjm1g"
      }
    },
    {
      "cell_type": "code",
      "source": [
        "observed_returns = df_filtered.groupby('day_code')['return_total'].count().values\n",
        "\n",
        "# Expected proportions (equal proportions for three groups)\n",
        "expected_proportions = [1/3, 1/3, 1/3]\n",
        "\n",
        "# Total number of returns\n",
        "total_returns = sum(observed_returns)\n",
        "\n",
        "\n",
        "# Expected values based on the expected proportions\n",
        "expected_returns = [total_returns * prop for prop in expected_proportions]\n",
        "\n",
        "# Chi-Square goodness of fit test\n",
        "chi2_stat, p_value = stats.chisquare(observed_returns, f_exp=expected_returns)\n",
        "\n",
        "# results\n",
        "\n",
        "print(\"Observed returns:\", observed_returns)\n",
        "print(\"Expected returns:\", expected_returns)\n",
        "print(\"Chi-square statistic:\", chi2_stat)\n",
        "print(\"p-value:\", p_value)\n",
        "\n",
        "# Interpretation\n",
        "alpha = 0.0167\n",
        "if p_value < alpha:\n",
        "    print(\"Reject the null hypothesis. The proportions of returns differ significantly across the day_code groups.\")\n",
        "else:\n",
        "    print(\"Fail to reject the null hypothesis. No significant difference in return proportions across day_code groups.\")"
      ],
      "metadata": {
        "colab": {
          "base_uri": "https://localhost:8080/"
        },
        "id": "DSMxXFkupslV",
        "outputId": "738ad362-d8e0-463d-acff-0dd2269fdbf9"
      },
      "execution_count": null,
      "outputs": [
        {
          "output_type": "stream",
          "name": "stdout",
          "text": [
            "Observed returns: [208 482 362]\n",
            "Expected returns: [350.66666666666663, 350.66666666666663, 350.66666666666663]\n",
            "Chi-square statistic: 107.59695817490496\n",
            "p-value: 4.321329650666232e-24\n",
            "Reject the null hypothesis. The proportions of returns differ significantly across the day_code groups.\n"
          ]
        }
      ]
    },
    {
      "cell_type": "markdown",
      "source": [
        "**a. What is the p-value of this test? Based on this value, what will you\n",
        "conclude? Be sure to mention the null hypothesis in your answer to this\n",
        "question.**"
      ],
      "metadata": {
        "id": "ulUHOQ2iI5mj"
      }
    },
    {
      "cell_type": "markdown",
      "source": [
        "*The null hypothesis for the chi-square goodness of fit test is that observed return proportions for Holidays (H), Regular Days (R), and Weekends (W) are equal to the expected return proportions, assuming that there is no difference among these groups.*\n",
        "\n",
        "*Since p-value is extremly low, which is far below any conventional alpha threshold 0.05 or our alpha (corrected) 0.0167, we reject the null hypothesis.*\n",
        "\n",
        "*This means that there is a significant difference in return proportions among the three groups, suggesting that the pattern of returns differs significantly across Holidays, Regular Days, and Weekends.*"
      ],
      "metadata": {
        "id": "0nzxNFBEJCK0"
      }
    },
    {
      "cell_type": "markdown",
      "source": [
        "**C. Demonstrate where the chi-square number from your test came from. Use\n",
        "Jupyter Notebook or Colab to do this, but do not use any Python libraries or\n",
        "modules. Instead, show the calculation used to determine the chi-square value\n",
        "using numeric values (in the same manner as the hat example from class, for\n",
        "which the script is posted to Blackboard).**"
      ],
      "metadata": {
        "id": "X2XSo9flKbSr"
      }
    },
    {
      "cell_type": "code",
      "source": [
        " chi_sq_using_numeric_values = (208-351)**2 / 351 + (482-351)**2 / 351 + (362-351)**2 / 351\n",
        " print(\"chi-square value using numeric values:\",chi_sq_using_numeric_values)"
      ],
      "metadata": {
        "colab": {
          "base_uri": "https://localhost:8080/"
        },
        "id": "cVGgEPRnHRnp",
        "outputId": "617a2beb-8609-41e0-c1fc-d5865ae7fd12"
      },
      "execution_count": null,
      "outputs": [
        {
          "output_type": "stream",
          "name": "stdout",
          "text": [
            "chi-square value using numeric values: 107.49572649572649\n"
          ]
        }
      ]
    }
  ],
  "metadata": {
    "colab": {
      "provenance": []
    },
    "kernelspec": {
      "display_name": "Python 3",
      "name": "python3"
    }
  },
  "nbformat": 4,
  "nbformat_minor": 0
}