{
  "cells": [
    {
      "cell_type": "markdown",
      "metadata": {
        "id": "lk-7Bonefvln"
      },
      "source": [
        "# **Marketing Analytics**\n",
        "\n",
        "**PRABU JEYABALAN**"
      ]
    },
    {
      "cell_type": "markdown",
      "metadata": {
        "id": "ga-EyNzYfviu"
      },
      "source": [
        "**Part I: Logistic Regression Model:**"
      ]
    },
    {
      "cell_type": "code",
      "execution_count": null,
      "metadata": {
        "id": "fsuaBPsefRcE"
      },
      "outputs": [],
      "source": [
        "import numpy as np\n",
        "import pandas as pd\n",
        "import statsmodels.api as sm\n",
        "from sklearn.preprocessing import LabelEncoder\n",
        "from sklearn.model_selection import train_test_split\n",
        "from sklearn.linear_model import LogisticRegression\n",
        "from sklearn.metrics import accuracy_score, confusion_matrix, classification_report\n",
        "from sklearn.metrics import recall_score, precision_score, f1_score\n",
        "from sklearn.ensemble import RandomForestClassifier\n",
        "from sklearn.model_selection import GridSearchCV\n",
        "from sklearn.metrics import roc_curve, auc\n",
        "import matplotlib.pyplot as plt\n",
        "from sklearn import metrics\n",
        "import seaborn as sns"
      ]
    },
    {
      "cell_type": "markdown",
      "metadata": {
        "id": "8O9WIXhphSG8"
      },
      "source": [
        "**A. Bring the dataset IBM.csv into your environment, and use the head() function to\n",
        "explore the variables.**"
      ]
    },
    {
      "cell_type": "code",
      "execution_count": null,
      "metadata": {
        "colab": {
          "base_uri": "https://localhost:8080/",
          "height": 295
        },
        "id": "P1y7eqqAfuAl",
        "outputId": "a143dd36-c970-429d-9a2b-de787e3c08ad"
      },
      "outputs": [
        {
          "data": {
            "text/html": [
              "<div>\n",
              "<style scoped>\n",
              "    .dataframe tbody tr th:only-of-type {\n",
              "        vertical-align: middle;\n",
              "    }\n",
              "\n",
              "    .dataframe tbody tr th {\n",
              "        vertical-align: top;\n",
              "    }\n",
              "\n",
              "    .dataframe thead th {\n",
              "        text-align: right;\n",
              "    }\n",
              "</style>\n",
              "<table border=\"1\" class=\"dataframe\">\n",
              "  <thead>\n",
              "    <tr style=\"text-align: right;\">\n",
              "      <th></th>\n",
              "      <th>Age</th>\n",
              "      <th>Attrition</th>\n",
              "      <th>Department</th>\n",
              "      <th>DistanceFromHome</th>\n",
              "      <th>Education</th>\n",
              "      <th>EducationField</th>\n",
              "      <th>EnvironmentSatisfaction</th>\n",
              "      <th>JobSatisfaction</th>\n",
              "      <th>MaritalStatus</th>\n",
              "      <th>MonthlyIncome</th>\n",
              "      <th>NumCompaniesWorked</th>\n",
              "      <th>WorkLifeBalance</th>\n",
              "      <th>YearsAtCompany</th>\n",
              "    </tr>\n",
              "  </thead>\n",
              "  <tbody>\n",
              "    <tr>\n",
              "      <th>0</th>\n",
              "      <td>41</td>\n",
              "      <td>Yes</td>\n",
              "      <td>Sales</td>\n",
              "      <td>1</td>\n",
              "      <td>2</td>\n",
              "      <td>Life Sciences</td>\n",
              "      <td>2</td>\n",
              "      <td>4</td>\n",
              "      <td>Single</td>\n",
              "      <td>5993</td>\n",
              "      <td>8</td>\n",
              "      <td>1</td>\n",
              "      <td>6</td>\n",
              "    </tr>\n",
              "    <tr>\n",
              "      <th>1</th>\n",
              "      <td>49</td>\n",
              "      <td>No</td>\n",
              "      <td>Research &amp; Development</td>\n",
              "      <td>8</td>\n",
              "      <td>1</td>\n",
              "      <td>Life Sciences</td>\n",
              "      <td>3</td>\n",
              "      <td>2</td>\n",
              "      <td>Married</td>\n",
              "      <td>5130</td>\n",
              "      <td>1</td>\n",
              "      <td>3</td>\n",
              "      <td>10</td>\n",
              "    </tr>\n",
              "    <tr>\n",
              "      <th>2</th>\n",
              "      <td>37</td>\n",
              "      <td>Yes</td>\n",
              "      <td>Research &amp; Development</td>\n",
              "      <td>2</td>\n",
              "      <td>2</td>\n",
              "      <td>Other</td>\n",
              "      <td>4</td>\n",
              "      <td>3</td>\n",
              "      <td>Single</td>\n",
              "      <td>2090</td>\n",
              "      <td>6</td>\n",
              "      <td>3</td>\n",
              "      <td>0</td>\n",
              "    </tr>\n",
              "    <tr>\n",
              "      <th>3</th>\n",
              "      <td>33</td>\n",
              "      <td>No</td>\n",
              "      <td>Research &amp; Development</td>\n",
              "      <td>3</td>\n",
              "      <td>4</td>\n",
              "      <td>Life Sciences</td>\n",
              "      <td>4</td>\n",
              "      <td>3</td>\n",
              "      <td>Married</td>\n",
              "      <td>2909</td>\n",
              "      <td>1</td>\n",
              "      <td>3</td>\n",
              "      <td>8</td>\n",
              "    </tr>\n",
              "    <tr>\n",
              "      <th>4</th>\n",
              "      <td>27</td>\n",
              "      <td>No</td>\n",
              "      <td>Research &amp; Development</td>\n",
              "      <td>2</td>\n",
              "      <td>1</td>\n",
              "      <td>Medical</td>\n",
              "      <td>1</td>\n",
              "      <td>2</td>\n",
              "      <td>Married</td>\n",
              "      <td>3468</td>\n",
              "      <td>9</td>\n",
              "      <td>3</td>\n",
              "      <td>2</td>\n",
              "    </tr>\n",
              "  </tbody>\n",
              "</table>\n",
              "</div>"
            ],
            "text/plain": [
              "   Age Attrition              Department  DistanceFromHome  Education  \\\n",
              "0   41       Yes                   Sales                 1          2   \n",
              "1   49        No  Research & Development                 8          1   \n",
              "2   37       Yes  Research & Development                 2          2   \n",
              "3   33        No  Research & Development                 3          4   \n",
              "4   27        No  Research & Development                 2          1   \n",
              "\n",
              "  EducationField  EnvironmentSatisfaction  JobSatisfaction MaritalStatus  \\\n",
              "0  Life Sciences                        2                4        Single   \n",
              "1  Life Sciences                        3                2       Married   \n",
              "2          Other                        4                3        Single   \n",
              "3  Life Sciences                        4                3       Married   \n",
              "4        Medical                        1                2       Married   \n",
              "\n",
              "   MonthlyIncome  NumCompaniesWorked  WorkLifeBalance  YearsAtCompany  \n",
              "0           5993                   8                1               6  \n",
              "1           5130                   1                3              10  \n",
              "2           2090                   6                3               0  \n",
              "3           2909                   1                3               8  \n",
              "4           3468                   9                3               2  "
            ]
          },
          "execution_count": 5,
          "metadata": {},
          "output_type": "execute_result"
        }
      ],
      "source": [
        "df = pd.read_csv(r'C:\\Users\\prabu\\Downloads\\IBM (1).csv')\n",
        "df.head()"
      ]
    },
    {
      "cell_type": "code",
      "execution_count": null,
      "metadata": {
        "colab": {
          "base_uri": "https://localhost:8080/",
          "height": 320
        },
        "id": "kxF18a1ROtjR",
        "outputId": "7fa85fb7-049f-4622-b984-76875bf58601"
      },
      "outputs": [
        {
          "data": {
            "text/html": [
              "<div>\n",
              "<style scoped>\n",
              "    .dataframe tbody tr th:only-of-type {\n",
              "        vertical-align: middle;\n",
              "    }\n",
              "\n",
              "    .dataframe tbody tr th {\n",
              "        vertical-align: top;\n",
              "    }\n",
              "\n",
              "    .dataframe thead th {\n",
              "        text-align: right;\n",
              "    }\n",
              "</style>\n",
              "<table border=\"1\" class=\"dataframe\">\n",
              "  <thead>\n",
              "    <tr style=\"text-align: right;\">\n",
              "      <th></th>\n",
              "      <th>Age</th>\n",
              "      <th>DistanceFromHome</th>\n",
              "      <th>Education</th>\n",
              "      <th>EnvironmentSatisfaction</th>\n",
              "      <th>JobSatisfaction</th>\n",
              "      <th>MonthlyIncome</th>\n",
              "      <th>NumCompaniesWorked</th>\n",
              "      <th>WorkLifeBalance</th>\n",
              "      <th>YearsAtCompany</th>\n",
              "    </tr>\n",
              "  </thead>\n",
              "  <tbody>\n",
              "    <tr>\n",
              "      <th>count</th>\n",
              "      <td>1470.000000</td>\n",
              "      <td>1470.000000</td>\n",
              "      <td>1470.000000</td>\n",
              "      <td>1470.000000</td>\n",
              "      <td>1470.000000</td>\n",
              "      <td>1470.000000</td>\n",
              "      <td>1470.000000</td>\n",
              "      <td>1470.000000</td>\n",
              "      <td>1470.000000</td>\n",
              "    </tr>\n",
              "    <tr>\n",
              "      <th>mean</th>\n",
              "      <td>36.923810</td>\n",
              "      <td>9.192517</td>\n",
              "      <td>2.912925</td>\n",
              "      <td>2.721769</td>\n",
              "      <td>2.728571</td>\n",
              "      <td>6502.931293</td>\n",
              "      <td>2.693197</td>\n",
              "      <td>2.761224</td>\n",
              "      <td>7.008163</td>\n",
              "    </tr>\n",
              "    <tr>\n",
              "      <th>std</th>\n",
              "      <td>9.135373</td>\n",
              "      <td>8.106864</td>\n",
              "      <td>1.024165</td>\n",
              "      <td>1.093082</td>\n",
              "      <td>1.102846</td>\n",
              "      <td>4707.956783</td>\n",
              "      <td>2.498009</td>\n",
              "      <td>0.706476</td>\n",
              "      <td>6.126525</td>\n",
              "    </tr>\n",
              "    <tr>\n",
              "      <th>min</th>\n",
              "      <td>18.000000</td>\n",
              "      <td>1.000000</td>\n",
              "      <td>1.000000</td>\n",
              "      <td>1.000000</td>\n",
              "      <td>1.000000</td>\n",
              "      <td>1009.000000</td>\n",
              "      <td>0.000000</td>\n",
              "      <td>1.000000</td>\n",
              "      <td>0.000000</td>\n",
              "    </tr>\n",
              "    <tr>\n",
              "      <th>25%</th>\n",
              "      <td>30.000000</td>\n",
              "      <td>2.000000</td>\n",
              "      <td>2.000000</td>\n",
              "      <td>2.000000</td>\n",
              "      <td>2.000000</td>\n",
              "      <td>2911.000000</td>\n",
              "      <td>1.000000</td>\n",
              "      <td>2.000000</td>\n",
              "      <td>3.000000</td>\n",
              "    </tr>\n",
              "    <tr>\n",
              "      <th>50%</th>\n",
              "      <td>36.000000</td>\n",
              "      <td>7.000000</td>\n",
              "      <td>3.000000</td>\n",
              "      <td>3.000000</td>\n",
              "      <td>3.000000</td>\n",
              "      <td>4919.000000</td>\n",
              "      <td>2.000000</td>\n",
              "      <td>3.000000</td>\n",
              "      <td>5.000000</td>\n",
              "    </tr>\n",
              "    <tr>\n",
              "      <th>75%</th>\n",
              "      <td>43.000000</td>\n",
              "      <td>14.000000</td>\n",
              "      <td>4.000000</td>\n",
              "      <td>4.000000</td>\n",
              "      <td>4.000000</td>\n",
              "      <td>8379.000000</td>\n",
              "      <td>4.000000</td>\n",
              "      <td>3.000000</td>\n",
              "      <td>9.000000</td>\n",
              "    </tr>\n",
              "    <tr>\n",
              "      <th>max</th>\n",
              "      <td>60.000000</td>\n",
              "      <td>29.000000</td>\n",
              "      <td>5.000000</td>\n",
              "      <td>4.000000</td>\n",
              "      <td>4.000000</td>\n",
              "      <td>19999.000000</td>\n",
              "      <td>9.000000</td>\n",
              "      <td>4.000000</td>\n",
              "      <td>40.000000</td>\n",
              "    </tr>\n",
              "  </tbody>\n",
              "</table>\n",
              "</div>"
            ],
            "text/plain": [
              "               Age  DistanceFromHome    Education  EnvironmentSatisfaction  \\\n",
              "count  1470.000000       1470.000000  1470.000000              1470.000000   \n",
              "mean     36.923810          9.192517     2.912925                 2.721769   \n",
              "std       9.135373          8.106864     1.024165                 1.093082   \n",
              "min      18.000000          1.000000     1.000000                 1.000000   \n",
              "25%      30.000000          2.000000     2.000000                 2.000000   \n",
              "50%      36.000000          7.000000     3.000000                 3.000000   \n",
              "75%      43.000000         14.000000     4.000000                 4.000000   \n",
              "max      60.000000         29.000000     5.000000                 4.000000   \n",
              "\n",
              "       JobSatisfaction  MonthlyIncome  NumCompaniesWorked  WorkLifeBalance  \\\n",
              "count      1470.000000    1470.000000         1470.000000      1470.000000   \n",
              "mean          2.728571    6502.931293            2.693197         2.761224   \n",
              "std           1.102846    4707.956783            2.498009         0.706476   \n",
              "min           1.000000    1009.000000            0.000000         1.000000   \n",
              "25%           2.000000    2911.000000            1.000000         2.000000   \n",
              "50%           3.000000    4919.000000            2.000000         3.000000   \n",
              "75%           4.000000    8379.000000            4.000000         3.000000   \n",
              "max           4.000000   19999.000000            9.000000         4.000000   \n",
              "\n",
              "       YearsAtCompany  \n",
              "count     1470.000000  \n",
              "mean         7.008163  \n",
              "std          6.126525  \n",
              "min          0.000000  \n",
              "25%          3.000000  \n",
              "50%          5.000000  \n",
              "75%          9.000000  \n",
              "max         40.000000  "
            ]
          },
          "execution_count": 6,
          "metadata": {},
          "output_type": "execute_result"
        }
      ],
      "source": [
        "df.describe()"
      ]
    },
    {
      "cell_type": "markdown",
      "metadata": {
        "id": "9ZTAmnQ4jVuJ"
      },
      "source": [
        "**B. Which of the variables here are categorical? Which are numerical? (Note: For\n",
        "ordinal variables, you can make the call on this – there is not a single ‘correct’\n",
        "answer for the way to handle them).**"
      ]
    },
    {
      "cell_type": "markdown",
      "metadata": {
        "id": "JNa6R9W8mRaH"
      },
      "source": [
        "**The numerical variables** *are Age, DistanceFromHome, MonthlyIncome, NumCompaniesWorked, and YearsAtCompany.*\n",
        "\n",
        "\n",
        "**Categorical variables includes**\n",
        "\n",
        "**Nominal variables** *such as Attrition, Department, EducationField, and MaritalStatus.*\n",
        "\n",
        "**Ordinal variables** *Education, EnvironmentSatisfaction, JobSatisfaction, and WorkLifeBalance.*\n",
        "\n",
        "\n",
        "\n",
        "\n",
        "\n",
        "\n",
        "\n",
        "\n"
      ]
    },
    {
      "cell_type": "markdown",
      "metadata": {
        "id": "i9-DRlhin52S"
      },
      "source": [
        "**C. Use the value_counts() function from pandas to learn more about the outcome\n",
        "variable, ‘Attrition’**"
      ]
    },
    {
      "cell_type": "code",
      "execution_count": null,
      "metadata": {
        "colab": {
          "base_uri": "https://localhost:8080/",
          "height": 178
        },
        "id": "yLsL4BkdlIHs",
        "outputId": "f742210c-5cd7-45b6-f41c-e5aee73a9650"
      },
      "outputs": [
        {
          "data": {
            "text/plain": [
              "Attrition\n",
              "No     1233\n",
              "Yes     237\n",
              "Name: count, dtype: int64"
            ]
          },
          "execution_count": 10,
          "metadata": {},
          "output_type": "execute_result"
        }
      ],
      "source": [
        "df['Attrition'].value_counts()"
      ]
    },
    {
      "cell_type": "markdown",
      "metadata": {
        "id": "oYpOX3Kno1hY"
      },
      "source": [
        "**a. Describe your findings -- what are the different outcome classes here,\n",
        "and how common are each of them in the dataset?**"
      ]
    },
    {
      "cell_type": "markdown",
      "metadata": {
        "id": "v9C9vkK2pNQ-"
      },
      "source": [
        "*The outcome variable \"Attrition\" has two classes: \"No\" and \"Yes\".  \"No\" is the much more common outcome, with 1233 instances (representing employees who have not left the company), while \"Yes\" represents 237 instances (employees who have left).  This indicates a class imbalance, where the \"No\" class significantly outnumbers the \"Yes\" class.*"
      ]
    },
    {
      "cell_type": "markdown",
      "metadata": {
        "id": "7n5YknPspdB0"
      },
      "source": [
        "**b. In machine learning modeling, what is oversampling? (Note: We won’t\n",
        "actually do it here – just answer the question, though).**"
      ]
    },
    {
      "cell_type": "markdown",
      "metadata": {
        "id": "ZCHu5L-fpdpE"
      },
      "source": [
        "*In machine learning modeling, oversampling is a technique used to address class imbalance in a dataset.*\n",
        "\n",
        "*When one class (often the minority class) has significantly fewer examples than another (the majority class), models may perform poorly on the minority class due to the imbalance.*\n",
        "\n",
        "*Oversampling involves increasing the number of examples in the minority class, either by duplicating existing samples or creating synthetic samples (e.g., using methods like SMOTE - Synthetic Minority Over-sampling Technique). This helps balance the dataset, allowing the model to learn better from both classes and improve its performance, especially in classification tasks.*"
      ]
    },
    {
      "cell_type": "markdown",
      "metadata": {
        "id": "h2RQEkUwq3SO"
      },
      "source": [
        "**D. Right now, the ‘Attrition’ variable’s values are represented by words – but you\n",
        "should convert these to numbers.**\n"
      ]
    },
    {
      "cell_type": "markdown",
      "metadata": {
        "id": "Gr1cVz3RrFPo"
      },
      "source": [
        "  **a. While there are many possible methods for this, you are encouraged to\n",
        "explore the use of a label encoder.**"
      ]
    },
    {
      "cell_type": "code",
      "execution_count": null,
      "metadata": {
        "colab": {
          "base_uri": "https://localhost:8080/",
          "height": 295
        },
        "id": "_Z2EsD3eo-BV",
        "outputId": "72425bf8-395d-48f1-da1c-c5e37f23af66"
      },
      "outputs": [
        {
          "data": {
            "text/html": [
              "<div>\n",
              "<style scoped>\n",
              "    .dataframe tbody tr th:only-of-type {\n",
              "        vertical-align: middle;\n",
              "    }\n",
              "\n",
              "    .dataframe tbody tr th {\n",
              "        vertical-align: top;\n",
              "    }\n",
              "\n",
              "    .dataframe thead th {\n",
              "        text-align: right;\n",
              "    }\n",
              "</style>\n",
              "<table border=\"1\" class=\"dataframe\">\n",
              "  <thead>\n",
              "    <tr style=\"text-align: right;\">\n",
              "      <th></th>\n",
              "      <th>Age</th>\n",
              "      <th>Attrition</th>\n",
              "      <th>Department</th>\n",
              "      <th>DistanceFromHome</th>\n",
              "      <th>Education</th>\n",
              "      <th>EducationField</th>\n",
              "      <th>EnvironmentSatisfaction</th>\n",
              "      <th>JobSatisfaction</th>\n",
              "      <th>MaritalStatus</th>\n",
              "      <th>MonthlyIncome</th>\n",
              "      <th>NumCompaniesWorked</th>\n",
              "      <th>WorkLifeBalance</th>\n",
              "      <th>YearsAtCompany</th>\n",
              "    </tr>\n",
              "  </thead>\n",
              "  <tbody>\n",
              "    <tr>\n",
              "      <th>0</th>\n",
              "      <td>41</td>\n",
              "      <td>1</td>\n",
              "      <td>Sales</td>\n",
              "      <td>1</td>\n",
              "      <td>2</td>\n",
              "      <td>Life Sciences</td>\n",
              "      <td>2</td>\n",
              "      <td>4</td>\n",
              "      <td>Single</td>\n",
              "      <td>5993</td>\n",
              "      <td>8</td>\n",
              "      <td>1</td>\n",
              "      <td>6</td>\n",
              "    </tr>\n",
              "    <tr>\n",
              "      <th>1</th>\n",
              "      <td>49</td>\n",
              "      <td>0</td>\n",
              "      <td>Research &amp; Development</td>\n",
              "      <td>8</td>\n",
              "      <td>1</td>\n",
              "      <td>Life Sciences</td>\n",
              "      <td>3</td>\n",
              "      <td>2</td>\n",
              "      <td>Married</td>\n",
              "      <td>5130</td>\n",
              "      <td>1</td>\n",
              "      <td>3</td>\n",
              "      <td>10</td>\n",
              "    </tr>\n",
              "    <tr>\n",
              "      <th>2</th>\n",
              "      <td>37</td>\n",
              "      <td>1</td>\n",
              "      <td>Research &amp; Development</td>\n",
              "      <td>2</td>\n",
              "      <td>2</td>\n",
              "      <td>Other</td>\n",
              "      <td>4</td>\n",
              "      <td>3</td>\n",
              "      <td>Single</td>\n",
              "      <td>2090</td>\n",
              "      <td>6</td>\n",
              "      <td>3</td>\n",
              "      <td>0</td>\n",
              "    </tr>\n",
              "    <tr>\n",
              "      <th>3</th>\n",
              "      <td>33</td>\n",
              "      <td>0</td>\n",
              "      <td>Research &amp; Development</td>\n",
              "      <td>3</td>\n",
              "      <td>4</td>\n",
              "      <td>Life Sciences</td>\n",
              "      <td>4</td>\n",
              "      <td>3</td>\n",
              "      <td>Married</td>\n",
              "      <td>2909</td>\n",
              "      <td>1</td>\n",
              "      <td>3</td>\n",
              "      <td>8</td>\n",
              "    </tr>\n",
              "    <tr>\n",
              "      <th>4</th>\n",
              "      <td>27</td>\n",
              "      <td>0</td>\n",
              "      <td>Research &amp; Development</td>\n",
              "      <td>2</td>\n",
              "      <td>1</td>\n",
              "      <td>Medical</td>\n",
              "      <td>1</td>\n",
              "      <td>2</td>\n",
              "      <td>Married</td>\n",
              "      <td>3468</td>\n",
              "      <td>9</td>\n",
              "      <td>3</td>\n",
              "      <td>2</td>\n",
              "    </tr>\n",
              "  </tbody>\n",
              "</table>\n",
              "</div>"
            ],
            "text/plain": [
              "   Age  Attrition              Department  DistanceFromHome  Education  \\\n",
              "0   41          1                   Sales                 1          2   \n",
              "1   49          0  Research & Development                 8          1   \n",
              "2   37          1  Research & Development                 2          2   \n",
              "3   33          0  Research & Development                 3          4   \n",
              "4   27          0  Research & Development                 2          1   \n",
              "\n",
              "  EducationField  EnvironmentSatisfaction  JobSatisfaction MaritalStatus  \\\n",
              "0  Life Sciences                        2                4        Single   \n",
              "1  Life Sciences                        3                2       Married   \n",
              "2          Other                        4                3        Single   \n",
              "3  Life Sciences                        4                3       Married   \n",
              "4        Medical                        1                2       Married   \n",
              "\n",
              "   MonthlyIncome  NumCompaniesWorked  WorkLifeBalance  YearsAtCompany  \n",
              "0           5993                   8                1               6  \n",
              "1           5130                   1                3              10  \n",
              "2           2090                   6                3               0  \n",
              "3           2909                   1                3               8  \n",
              "4           3468                   9                3               2  "
            ]
          },
          "execution_count": 17,
          "metadata": {},
          "output_type": "execute_result"
        }
      ],
      "source": [
        "# Initializing LabelEncoder\n",
        "label_encoder = LabelEncoder()\n",
        "\n",
        "# Fitting and transforming the 'Attrition' column\n",
        "df['Attrition'] = label_encoder.fit_transform(df['Attrition'])\n",
        "\n",
        "# First few rows to verify the changes\n",
        "df.head()"
      ]
    },
    {
      "cell_type": "markdown",
      "metadata": {
        "id": "I12uWkGesW5f"
      },
      "source": [
        "**E. Missing values. Are there any variables in this dataset for which more than half\n",
        "the values are missing? If so, remove them. (Note: This is not a trick question –\n",
        "just answer it literally).**"
      ]
    },
    {
      "cell_type": "code",
      "execution_count": null,
      "metadata": {
        "colab": {
          "base_uri": "https://localhost:8080/",
          "height": 491
        },
        "id": "ozhNgSCsq9LK",
        "outputId": "9cefc664-4f89-42ff-c9ae-cfd0f539a47c"
      },
      "outputs": [
        {
          "data": {
            "text/plain": [
              "Age                        0\n",
              "Attrition                  0\n",
              "Department                 0\n",
              "DistanceFromHome           0\n",
              "Education                  0\n",
              "EducationField             0\n",
              "EnvironmentSatisfaction    0\n",
              "JobSatisfaction            0\n",
              "MaritalStatus              0\n",
              "MonthlyIncome              0\n",
              "NumCompaniesWorked         0\n",
              "WorkLifeBalance            0\n",
              "YearsAtCompany             0\n",
              "dtype: int64"
            ]
          },
          "execution_count": 19,
          "metadata": {},
          "output_type": "execute_result"
        }
      ],
      "source": [
        "df.isnull().sum()"
      ]
    },
    {
      "cell_type": "markdown",
      "metadata": {
        "id": "lQagegGHsWsY"
      },
      "source": [
        "*There no missing value or NAN in the dataset . So there is nothing required to be removed*"
      ]
    },
    {
      "cell_type": "markdown",
      "metadata": {
        "id": "h5pPsBfwtYyF"
      },
      "source": [
        "**a. Why might it be dangerous to impute values for variables with a huge %\n",
        "of missingness?**"
      ]
    },
    {
      "cell_type": "markdown",
      "metadata": {
        "id": "xY1YDFTTtgLW"
      },
      "source": [
        "*Imputing values for variables with a high percentage of missing data can be dangerous because it will introduce bias or inaccuracies in the data, leading to unreliable model predictions.*\n",
        "\n",
        "*When a large portion of data is missing, any imputed values (such as the mean, median, or a predicted value) are likely to represent the actual missing data poorly, potentially skewing the dataset's overall distribution and relationships.*\n",
        "\n",
        "*This can distort the insights and patterns that the model learns, ultimately decreasing the model’s accuracy and generalizability. Additionally, heavy imputation can mask genuine patterns or anomalies that could be meaningful for analysis.*"
      ]
    },
    {
      "cell_type": "markdown",
      "metadata": {
        "id": "tDRCXWfjuOF5"
      },
      "source": [
        "**F. Examining correlations**\n",
        "\n",
        "**a. Build a correlation table to examine the correlations among your numeric\n",
        "independent variables.**"
      ]
    },
    {
      "cell_type": "code",
      "execution_count": null,
      "metadata": {
        "colab": {
          "base_uri": "https://localhost:8080/",
          "height": 206
        },
        "id": "uMbr-Oa9vWUo",
        "outputId": "b6764445-7de0-4ac2-ef12-2c76b0d9d4cf"
      },
      "outputs": [
        {
          "data": {
            "text/html": [
              "<div>\n",
              "<style scoped>\n",
              "    .dataframe tbody tr th:only-of-type {\n",
              "        vertical-align: middle;\n",
              "    }\n",
              "\n",
              "    .dataframe tbody tr th {\n",
              "        vertical-align: top;\n",
              "    }\n",
              "\n",
              "    .dataframe thead th {\n",
              "        text-align: right;\n",
              "    }\n",
              "</style>\n",
              "<table border=\"1\" class=\"dataframe\">\n",
              "  <thead>\n",
              "    <tr style=\"text-align: right;\">\n",
              "      <th></th>\n",
              "      <th>Age</th>\n",
              "      <th>DistanceFromHome</th>\n",
              "      <th>MonthlyIncome</th>\n",
              "      <th>NumCompaniesWorked</th>\n",
              "      <th>YearsAtCompany</th>\n",
              "    </tr>\n",
              "  </thead>\n",
              "  <tbody>\n",
              "    <tr>\n",
              "      <th>Age</th>\n",
              "      <td>1.000000</td>\n",
              "      <td>-0.001686</td>\n",
              "      <td>0.497855</td>\n",
              "      <td>0.299635</td>\n",
              "      <td>0.311309</td>\n",
              "    </tr>\n",
              "    <tr>\n",
              "      <th>DistanceFromHome</th>\n",
              "      <td>-0.001686</td>\n",
              "      <td>1.000000</td>\n",
              "      <td>-0.017014</td>\n",
              "      <td>-0.029251</td>\n",
              "      <td>0.009508</td>\n",
              "    </tr>\n",
              "    <tr>\n",
              "      <th>MonthlyIncome</th>\n",
              "      <td>0.497855</td>\n",
              "      <td>-0.017014</td>\n",
              "      <td>1.000000</td>\n",
              "      <td>0.149515</td>\n",
              "      <td>0.514285</td>\n",
              "    </tr>\n",
              "    <tr>\n",
              "      <th>NumCompaniesWorked</th>\n",
              "      <td>0.299635</td>\n",
              "      <td>-0.029251</td>\n",
              "      <td>0.149515</td>\n",
              "      <td>1.000000</td>\n",
              "      <td>-0.118421</td>\n",
              "    </tr>\n",
              "    <tr>\n",
              "      <th>YearsAtCompany</th>\n",
              "      <td>0.311309</td>\n",
              "      <td>0.009508</td>\n",
              "      <td>0.514285</td>\n",
              "      <td>-0.118421</td>\n",
              "      <td>1.000000</td>\n",
              "    </tr>\n",
              "  </tbody>\n",
              "</table>\n",
              "</div>"
            ],
            "text/plain": [
              "                         Age  DistanceFromHome  MonthlyIncome  \\\n",
              "Age                 1.000000         -0.001686       0.497855   \n",
              "DistanceFromHome   -0.001686          1.000000      -0.017014   \n",
              "MonthlyIncome       0.497855         -0.017014       1.000000   \n",
              "NumCompaniesWorked  0.299635         -0.029251       0.149515   \n",
              "YearsAtCompany      0.311309          0.009508       0.514285   \n",
              "\n",
              "                    NumCompaniesWorked  YearsAtCompany  \n",
              "Age                           0.299635        0.311309  \n",
              "DistanceFromHome             -0.029251        0.009508  \n",
              "MonthlyIncome                 0.149515        0.514285  \n",
              "NumCompaniesWorked            1.000000       -0.118421  \n",
              "YearsAtCompany               -0.118421        1.000000  "
            ]
          },
          "execution_count": 24,
          "metadata": {},
          "output_type": "execute_result"
        }
      ],
      "source": [
        "# Selecting only the numeric independent variables for correlation analysis:\n",
        "numeric_cols = [\"Age\", \"DistanceFromHome\", \"MonthlyIncome\", \"NumCompaniesWorked\", \"YearsAtCompany\"]\n",
        "correlation_table = df[numeric_cols].corr()\n",
        "\n",
        "# Correlation table\n",
        "correlation_table"
      ]
    },
    {
      "cell_type": "markdown",
      "metadata": {
        "id": "lumEn4zywKOb"
      },
      "source": [
        "**i. Are there any correlations here that are so high as to present a\n",
        "likely problem with multicollinearity? If so, remove one member\n",
        "of any highly-correlated pair. If not, keep rolling on.**\n"
      ]
    },
    {
      "cell_type": "markdown",
      "metadata": {
        "id": "aUCUVgSGwdAl"
      },
      "source": [
        "*In this correlation table, none of the variable pairs have a correlation coefficient that is high enough to indicate a serious problem with multicollinearity.*\n",
        "\n",
        "*Typically, multicollinearity concerns arise with correlation values above 0.8 or 0.9.*\n",
        "\n",
        "*The highest correlation here is between MonthlyIncome and YearsAtCompany at 0.514285, which does not reach a level that would suggest significant multicollinearity. Therefore, there is no need to remove any variables based on multicollinearity concerns in this dataset.*"
      ]
    },
    {
      "cell_type": "markdown",
      "metadata": {
        "id": "5UN_fAQUw0EJ"
      },
      "source": [
        "**G. For any variables that need further treatment, dummify them, being sure to drop\n",
        "one level as you do.**"
      ]
    },
    {
      "cell_type": "code",
      "execution_count": null,
      "metadata": {
        "colab": {
          "base_uri": "https://localhost:8080/",
          "height": 273
        },
        "id": "V40OzdDgrgox",
        "outputId": "53840d98-cb8d-4383-8578-f149e217f02f"
      },
      "outputs": [
        {
          "data": {
            "text/html": [
              "<div>\n",
              "<style scoped>\n",
              "    .dataframe tbody tr th:only-of-type {\n",
              "        vertical-align: middle;\n",
              "    }\n",
              "\n",
              "    .dataframe tbody tr th {\n",
              "        vertical-align: top;\n",
              "    }\n",
              "\n",
              "    .dataframe thead th {\n",
              "        text-align: right;\n",
              "    }\n",
              "</style>\n",
              "<table border=\"1\" class=\"dataframe\">\n",
              "  <thead>\n",
              "    <tr style=\"text-align: right;\">\n",
              "      <th></th>\n",
              "      <th>Age</th>\n",
              "      <th>Attrition</th>\n",
              "      <th>DistanceFromHome</th>\n",
              "      <th>MonthlyIncome</th>\n",
              "      <th>NumCompaniesWorked</th>\n",
              "      <th>YearsAtCompany</th>\n",
              "      <th>Department_Research &amp; Development</th>\n",
              "      <th>Department_Sales</th>\n",
              "      <th>EducationField_Life Sciences</th>\n",
              "      <th>EducationField_Marketing</th>\n",
              "      <th>...</th>\n",
              "      <th>Education_5</th>\n",
              "      <th>EnvironmentSatisfaction_2</th>\n",
              "      <th>EnvironmentSatisfaction_3</th>\n",
              "      <th>EnvironmentSatisfaction_4</th>\n",
              "      <th>JobSatisfaction_2</th>\n",
              "      <th>JobSatisfaction_3</th>\n",
              "      <th>JobSatisfaction_4</th>\n",
              "      <th>WorkLifeBalance_2</th>\n",
              "      <th>WorkLifeBalance_3</th>\n",
              "      <th>WorkLifeBalance_4</th>\n",
              "    </tr>\n",
              "  </thead>\n",
              "  <tbody>\n",
              "    <tr>\n",
              "      <th>0</th>\n",
              "      <td>41</td>\n",
              "      <td>1</td>\n",
              "      <td>1</td>\n",
              "      <td>5993</td>\n",
              "      <td>8</td>\n",
              "      <td>6</td>\n",
              "      <td>0</td>\n",
              "      <td>1</td>\n",
              "      <td>1</td>\n",
              "      <td>0</td>\n",
              "      <td>...</td>\n",
              "      <td>0</td>\n",
              "      <td>1</td>\n",
              "      <td>0</td>\n",
              "      <td>0</td>\n",
              "      <td>0</td>\n",
              "      <td>0</td>\n",
              "      <td>1</td>\n",
              "      <td>0</td>\n",
              "      <td>0</td>\n",
              "      <td>0</td>\n",
              "    </tr>\n",
              "    <tr>\n",
              "      <th>1</th>\n",
              "      <td>49</td>\n",
              "      <td>0</td>\n",
              "      <td>8</td>\n",
              "      <td>5130</td>\n",
              "      <td>1</td>\n",
              "      <td>10</td>\n",
              "      <td>1</td>\n",
              "      <td>0</td>\n",
              "      <td>1</td>\n",
              "      <td>0</td>\n",
              "      <td>...</td>\n",
              "      <td>0</td>\n",
              "      <td>0</td>\n",
              "      <td>1</td>\n",
              "      <td>0</td>\n",
              "      <td>1</td>\n",
              "      <td>0</td>\n",
              "      <td>0</td>\n",
              "      <td>0</td>\n",
              "      <td>1</td>\n",
              "      <td>0</td>\n",
              "    </tr>\n",
              "    <tr>\n",
              "      <th>2</th>\n",
              "      <td>37</td>\n",
              "      <td>1</td>\n",
              "      <td>2</td>\n",
              "      <td>2090</td>\n",
              "      <td>6</td>\n",
              "      <td>0</td>\n",
              "      <td>1</td>\n",
              "      <td>0</td>\n",
              "      <td>0</td>\n",
              "      <td>0</td>\n",
              "      <td>...</td>\n",
              "      <td>0</td>\n",
              "      <td>0</td>\n",
              "      <td>0</td>\n",
              "      <td>1</td>\n",
              "      <td>0</td>\n",
              "      <td>1</td>\n",
              "      <td>0</td>\n",
              "      <td>0</td>\n",
              "      <td>1</td>\n",
              "      <td>0</td>\n",
              "    </tr>\n",
              "    <tr>\n",
              "      <th>3</th>\n",
              "      <td>33</td>\n",
              "      <td>0</td>\n",
              "      <td>3</td>\n",
              "      <td>2909</td>\n",
              "      <td>1</td>\n",
              "      <td>8</td>\n",
              "      <td>1</td>\n",
              "      <td>0</td>\n",
              "      <td>1</td>\n",
              "      <td>0</td>\n",
              "      <td>...</td>\n",
              "      <td>0</td>\n",
              "      <td>0</td>\n",
              "      <td>0</td>\n",
              "      <td>1</td>\n",
              "      <td>0</td>\n",
              "      <td>1</td>\n",
              "      <td>0</td>\n",
              "      <td>0</td>\n",
              "      <td>1</td>\n",
              "      <td>0</td>\n",
              "    </tr>\n",
              "    <tr>\n",
              "      <th>4</th>\n",
              "      <td>27</td>\n",
              "      <td>0</td>\n",
              "      <td>2</td>\n",
              "      <td>3468</td>\n",
              "      <td>9</td>\n",
              "      <td>2</td>\n",
              "      <td>1</td>\n",
              "      <td>0</td>\n",
              "      <td>0</td>\n",
              "      <td>0</td>\n",
              "      <td>...</td>\n",
              "      <td>0</td>\n",
              "      <td>0</td>\n",
              "      <td>0</td>\n",
              "      <td>0</td>\n",
              "      <td>1</td>\n",
              "      <td>0</td>\n",
              "      <td>0</td>\n",
              "      <td>0</td>\n",
              "      <td>1</td>\n",
              "      <td>0</td>\n",
              "    </tr>\n",
              "  </tbody>\n",
              "</table>\n",
              "<p>5 rows × 28 columns</p>\n",
              "</div>"
            ],
            "text/plain": [
              "   Age  Attrition  DistanceFromHome  MonthlyIncome  NumCompaniesWorked  \\\n",
              "0   41          1                 1           5993                   8   \n",
              "1   49          0                 8           5130                   1   \n",
              "2   37          1                 2           2090                   6   \n",
              "3   33          0                 3           2909                   1   \n",
              "4   27          0                 2           3468                   9   \n",
              "\n",
              "   YearsAtCompany  Department_Research & Development  Department_Sales  \\\n",
              "0               6                                  0                 1   \n",
              "1              10                                  1                 0   \n",
              "2               0                                  1                 0   \n",
              "3               8                                  1                 0   \n",
              "4               2                                  1                 0   \n",
              "\n",
              "   EducationField_Life Sciences  EducationField_Marketing  ...  Education_5  \\\n",
              "0                             1                         0  ...            0   \n",
              "1                             1                         0  ...            0   \n",
              "2                             0                         0  ...            0   \n",
              "3                             1                         0  ...            0   \n",
              "4                             0                         0  ...            0   \n",
              "\n",
              "   EnvironmentSatisfaction_2  EnvironmentSatisfaction_3  \\\n",
              "0                          1                          0   \n",
              "1                          0                          1   \n",
              "2                          0                          0   \n",
              "3                          0                          0   \n",
              "4                          0                          0   \n",
              "\n",
              "   EnvironmentSatisfaction_4  JobSatisfaction_2  JobSatisfaction_3  \\\n",
              "0                          0                  0                  0   \n",
              "1                          0                  1                  0   \n",
              "2                          1                  0                  1   \n",
              "3                          1                  0                  1   \n",
              "4                          0                  1                  0   \n",
              "\n",
              "   JobSatisfaction_4  WorkLifeBalance_2  WorkLifeBalance_3  WorkLifeBalance_4  \n",
              "0                  1                  0                  0                  0  \n",
              "1                  0                  0                  1                  0  \n",
              "2                  0                  0                  1                  0  \n",
              "3                  0                  0                  1                  0  \n",
              "4                  0                  0                  1                  0  \n",
              "\n",
              "[5 rows x 28 columns]"
            ]
          },
          "execution_count": 28,
          "metadata": {},
          "output_type": "execute_result"
        }
      ],
      "source": [
        "# Nominal and ordinal variables\n",
        "nominal_columns = ['Department', 'EducationField', 'MaritalStatus']\n",
        "ordinal_columns = {\n",
        "    'Education': [1, 2, 3, 4, 5],\n",
        "    'EnvironmentSatisfaction': [1, 2, 3, 4],\n",
        "    'JobSatisfaction': [1, 2, 3, 4],\n",
        "    'WorkLifeBalance': [1, 2, 3, 4]\n",
        "}\n",
        "\n",
        "# Converting ordinal variables to ordered categorical\n",
        "for col, order in ordinal_columns.items():\n",
        "    df[col] = pd.Categorical(df[col], categories=order, ordered=True)\n",
        "\n",
        "# Creating dummy variables for both nominal and ordinal columns\n",
        "df_encoded = pd.get_dummies(df, columns=nominal_columns + list(ordinal_columns.keys()), drop_first=True)\n",
        "df_encoded = df_encoded.astype(int)\n",
        "\n",
        "\n",
        "# Encoded data\n",
        "df_encoded.head()"
      ]
    },
    {
      "cell_type": "markdown",
      "metadata": {
        "id": "MgVNRso-5DFP"
      },
      "source": [
        "**H. Create a data partition. For your random_state value, use a number based on\n",
        "either your work, home, or school address, or just a number that you like (For\n",
        "example, I live at 200 Market St, I work at 1010 Commonwealth Avenue, and my\n",
        "lucky number is 80, so I could use either 200, 1010, or 80). Assign 40% of your\n",
        "rows to your test set, and 60% to your training set.**"
      ]
    },
    {
      "cell_type": "code",
      "execution_count": null,
      "metadata": {
        "colab": {
          "base_uri": "https://localhost:8080/"
        },
        "id": "yiwEUPYE49VS",
        "outputId": "a89354b9-2ee2-4ffa-e474-a5febd0d1601"
      },
      "outputs": [
        {
          "data": {
            "text/plain": [
              "(882, 588)"
            ]
          },
          "execution_count": 30,
          "metadata": {},
          "output_type": "execute_result"
        }
      ],
      "source": [
        "X = df_encoded.drop('Attrition', axis=1)\n",
        "y = df_encoded['Attrition']\n",
        "\n",
        "# Splitting data into training and testing sets\n",
        "X_train, X_test, y_train, y_test = train_test_split(X, y, test_size=0.4, random_state= 911)\n",
        "\n",
        "# Displaying the sizes of the training and test sets\n",
        "train_size = X_train.shape[0]\n",
        "test_size = X_test.shape[0]\n",
        "\n",
        "train_size, test_size"
      ]
    },
    {
      "cell_type": "markdown",
      "metadata": {
        "id": "vVtddXa8fRED"
      },
      "source": [
        "**I. Compare the mean values of the variables in the dataset after grouping by\n",
        "Attrition.**\n"
      ]
    },
    {
      "cell_type": "code",
      "execution_count": null,
      "metadata": {
        "colab": {
          "base_uri": "https://localhost:8080/",
          "height": 210
        },
        "id": "aijZYtGJePD4",
        "outputId": "eddad424-97ed-4e46-ce9e-e9124187cb6b"
      },
      "outputs": [
        {
          "data": {
            "text/html": [
              "<div>\n",
              "<style scoped>\n",
              "    .dataframe tbody tr th:only-of-type {\n",
              "        vertical-align: middle;\n",
              "    }\n",
              "\n",
              "    .dataframe tbody tr th {\n",
              "        vertical-align: top;\n",
              "    }\n",
              "\n",
              "    .dataframe thead th {\n",
              "        text-align: right;\n",
              "    }\n",
              "</style>\n",
              "<table border=\"1\" class=\"dataframe\">\n",
              "  <thead>\n",
              "    <tr style=\"text-align: right;\">\n",
              "      <th></th>\n",
              "      <th>Age</th>\n",
              "      <th>DistanceFromHome</th>\n",
              "      <th>MonthlyIncome</th>\n",
              "      <th>NumCompaniesWorked</th>\n",
              "      <th>YearsAtCompany</th>\n",
              "      <th>Department_Research &amp; Development</th>\n",
              "      <th>Department_Sales</th>\n",
              "      <th>EducationField_Life Sciences</th>\n",
              "      <th>EducationField_Marketing</th>\n",
              "      <th>EducationField_Medical</th>\n",
              "      <th>...</th>\n",
              "      <th>Education_5</th>\n",
              "      <th>EnvironmentSatisfaction_2</th>\n",
              "      <th>EnvironmentSatisfaction_3</th>\n",
              "      <th>EnvironmentSatisfaction_4</th>\n",
              "      <th>JobSatisfaction_2</th>\n",
              "      <th>JobSatisfaction_3</th>\n",
              "      <th>JobSatisfaction_4</th>\n",
              "      <th>WorkLifeBalance_2</th>\n",
              "      <th>WorkLifeBalance_3</th>\n",
              "      <th>WorkLifeBalance_4</th>\n",
              "    </tr>\n",
              "    <tr>\n",
              "      <th>Attrition</th>\n",
              "      <th></th>\n",
              "      <th></th>\n",
              "      <th></th>\n",
              "      <th></th>\n",
              "      <th></th>\n",
              "      <th></th>\n",
              "      <th></th>\n",
              "      <th></th>\n",
              "      <th></th>\n",
              "      <th></th>\n",
              "      <th></th>\n",
              "      <th></th>\n",
              "      <th></th>\n",
              "      <th></th>\n",
              "      <th></th>\n",
              "      <th></th>\n",
              "      <th></th>\n",
              "      <th></th>\n",
              "      <th></th>\n",
              "      <th></th>\n",
              "      <th></th>\n",
              "    </tr>\n",
              "  </thead>\n",
              "  <tbody>\n",
              "    <tr>\n",
              "      <th>0</th>\n",
              "      <td>37.561233</td>\n",
              "      <td>8.915653</td>\n",
              "      <td>6832.739659</td>\n",
              "      <td>2.645580</td>\n",
              "      <td>7.369019</td>\n",
              "      <td>0.671533</td>\n",
              "      <td>0.287105</td>\n",
              "      <td>0.419303</td>\n",
              "      <td>0.100568</td>\n",
              "      <td>0.325223</td>\n",
              "      <td>...</td>\n",
              "      <td>0.034874</td>\n",
              "      <td>0.197891</td>\n",
              "      <td>0.317113</td>\n",
              "      <td>0.313058</td>\n",
              "      <td>0.189781</td>\n",
              "      <td>0.299270</td>\n",
              "      <td>0.330089</td>\n",
              "      <td>0.231955</td>\n",
              "      <td>0.621249</td>\n",
              "      <td>0.102190</td>\n",
              "    </tr>\n",
              "    <tr>\n",
              "      <th>1</th>\n",
              "      <td>33.607595</td>\n",
              "      <td>10.632911</td>\n",
              "      <td>4787.092827</td>\n",
              "      <td>2.940928</td>\n",
              "      <td>5.130802</td>\n",
              "      <td>0.561181</td>\n",
              "      <td>0.388186</td>\n",
              "      <td>0.375527</td>\n",
              "      <td>0.147679</td>\n",
              "      <td>0.265823</td>\n",
              "      <td>...</td>\n",
              "      <td>0.021097</td>\n",
              "      <td>0.181435</td>\n",
              "      <td>0.261603</td>\n",
              "      <td>0.253165</td>\n",
              "      <td>0.194093</td>\n",
              "      <td>0.308017</td>\n",
              "      <td>0.219409</td>\n",
              "      <td>0.244726</td>\n",
              "      <td>0.535865</td>\n",
              "      <td>0.113924</td>\n",
              "    </tr>\n",
              "  </tbody>\n",
              "</table>\n",
              "<p>2 rows × 27 columns</p>\n",
              "</div>"
            ],
            "text/plain": [
              "                 Age  DistanceFromHome  MonthlyIncome  NumCompaniesWorked  \\\n",
              "Attrition                                                                   \n",
              "0          37.561233          8.915653    6832.739659            2.645580   \n",
              "1          33.607595         10.632911    4787.092827            2.940928   \n",
              "\n",
              "           YearsAtCompany  Department_Research & Development  \\\n",
              "Attrition                                                      \n",
              "0                7.369019                           0.671533   \n",
              "1                5.130802                           0.561181   \n",
              "\n",
              "           Department_Sales  EducationField_Life Sciences  \\\n",
              "Attrition                                                   \n",
              "0                  0.287105                      0.419303   \n",
              "1                  0.388186                      0.375527   \n",
              "\n",
              "           EducationField_Marketing  EducationField_Medical  ...  Education_5  \\\n",
              "Attrition                                                    ...                \n",
              "0                          0.100568                0.325223  ...     0.034874   \n",
              "1                          0.147679                0.265823  ...     0.021097   \n",
              "\n",
              "           EnvironmentSatisfaction_2  EnvironmentSatisfaction_3  \\\n",
              "Attrition                                                         \n",
              "0                           0.197891                   0.317113   \n",
              "1                           0.181435                   0.261603   \n",
              "\n",
              "           EnvironmentSatisfaction_4  JobSatisfaction_2  JobSatisfaction_3  \\\n",
              "Attrition                                                                    \n",
              "0                           0.313058           0.189781           0.299270   \n",
              "1                           0.253165           0.194093           0.308017   \n",
              "\n",
              "           JobSatisfaction_4  WorkLifeBalance_2  WorkLifeBalance_3  \\\n",
              "Attrition                                                            \n",
              "0                   0.330089           0.231955           0.621249   \n",
              "1                   0.219409           0.244726           0.535865   \n",
              "\n",
              "           WorkLifeBalance_4  \n",
              "Attrition                     \n",
              "0                   0.102190  \n",
              "1                   0.113924  \n",
              "\n",
              "[2 rows x 27 columns]"
            ]
          },
          "execution_count": 34,
          "metadata": {},
          "output_type": "execute_result"
        }
      ],
      "source": [
        "grouped_means = df_encoded.groupby('Attrition').mean()\n",
        "grouped_means"
      ]
    },
    {
      "cell_type": "markdown",
      "metadata": {
        "id": "_MJga-Pugezh"
      },
      "source": [
        "**a. From the results you see here, choose any THREE independent variables\n",
        "from the dataset, and speculate about their likely impact on the result –\n",
        "do you think this variable will be strongly impactful? Why or why not?**\n"
      ]
    },
    {
      "cell_type": "markdown",
      "metadata": {
        "id": "i4zfGJxUgaZO"
      },
      "source": [
        "**YearsAtCompany** *The mean value for YearsAtCompany in the results indicate the typical length of service. Employees with higher values in YearsAtCompany have lower attrition rates because they've invested more time in the company and may have achieved higher positions or job security. On the other hand, employees with lower values (fewer years at the company) might still be exploring options, which could increase their likelihood of leaving. In the results, a moderately high average suggests that retention being linked to longer tenure.*\n",
        "\n",
        "**JobSatisfaction** *This variable is split into categories, with higher levels indicating better satisfaction.Values in the JobSatisfaction variables show the distribution across different satisfaction levels ( JobSatisfaction_2, JobSatisfaction_3, JobSatisfaction_4). Employees with higher satisfaction levels are likely less prone to attrition, as job satisfaction often reduces turnover. The distribution of these variables shows a mix of satisfaction levels, where higher satisfaction are associated with lower attrition rates.*\n",
        "\n",
        "**MonthlyIncome** *The MonthlyIncome variable shows the income distribution among employees. Higher income serve as a retention factor, while lower income contribute to higher attrition if employees feel undercompensated. The range in MonthlyIncome values suggests a diverse pay scale, and those on the lower end were more likely to leave in search of better opportunities. This variable’s moderate correlation with YearsAtCompany also hints that longer tenure may come with better income, which contributes to retention.*\n",
        "\n",
        "*These observations from the results support the idea that YearsAtCompany, JobSatisfaction, and MonthlyIncome could be influential in determining attrition, as they impact employee satisfaction, loyalty, and financial motivation.*"
      ]
    },
    {
      "cell_type": "markdown",
      "metadata": {
        "id": "rNiIJsaRitIN"
      },
      "source": [
        "# **Iteration #1**"
      ]
    },
    {
      "cell_type": "markdown",
      "metadata": {
        "id": "uEzIvF3ZiwuH"
      },
      "source": [
        "**J. Build a logistic regression model using statsmodels, with the outcome variable\n",
        "‘Attrition’. Use the rest of the remaining variables from the dataset as inputs\n",
        "Remember to use only your training data to build this model.**\n"
      ]
    },
    {
      "cell_type": "code",
      "execution_count": null,
      "metadata": {
        "colab": {
          "base_uri": "https://localhost:8080/"
        },
        "id": "H8_SIi1yeO90",
        "outputId": "a3d61f04-b5ba-4187-982f-3dd0a7f9178f"
      },
      "outputs": [
        {
          "name": "stdout",
          "output_type": "stream",
          "text": [
            "Optimization terminated successfully.\n",
            "         Current function value: 0.366459\n",
            "         Iterations 8\n"
          ]
        }
      ],
      "source": [
        "# Adding a constant to the independent variables\n",
        "X_train_with_constant = sm.add_constant(X_train)\n",
        "\n",
        "# logistic regression model\n",
        "model = sm.Logit(y_train, X_train_with_constant).fit()"
      ]
    },
    {
      "cell_type": "markdown",
      "metadata": {
        "id": "QbSxf8HFmSAI"
      },
      "source": [
        "**K. Show the summary of your model with log_reg.summary(). (Note: If you\n",
        "named your model something else, e.g. mymodel, you can just use\n",
        "mymodel.summary() here).**\n"
      ]
    },
    {
      "cell_type": "code",
      "execution_count": null,
      "metadata": {
        "colab": {
          "base_uri": "https://localhost:8080/"
        },
        "id": "IHtiCA7VeOsE",
        "outputId": "5524ce65-e08b-461d-a64a-4ae27c510546"
      },
      "outputs": [
        {
          "name": "stdout",
          "output_type": "stream",
          "text": [
            "                           Logit Regression Results                           \n",
            "==============================================================================\n",
            "Dep. Variable:              Attrition   No. Observations:                  882\n",
            "Model:                          Logit   Df Residuals:                      854\n",
            "Method:                           MLE   Df Model:                           27\n",
            "Date:                Sun, 03 Nov 2024   Pseudo R-squ.:                  0.1588\n",
            "Time:                        19:01:27   Log-Likelihood:                -323.22\n",
            "converged:                       True   LL-Null:                       -384.25\n",
            "Covariance Type:            nonrobust   LLR p-value:                 4.741e-14\n",
            "=====================================================================================================\n",
            "                                        coef    std err          z      P>|z|      [0.025      0.975]\n",
            "-----------------------------------------------------------------------------------------------------\n",
            "const                                 1.8256      0.968      1.886      0.059      -0.072       3.723\n",
            "Age                                  -0.0400      0.015     -2.696      0.007      -0.069      -0.011\n",
            "DistanceFromHome                      0.0388      0.012      3.285      0.001       0.016       0.062\n",
            "MonthlyIncome                        -0.0001    3.9e-05     -2.896      0.004      -0.000   -3.65e-05\n",
            "NumCompaniesWorked                    0.1129      0.045      2.511      0.012       0.025       0.201\n",
            "YearsAtCompany                       -0.0328      0.027     -1.227      0.220      -0.085       0.020\n",
            "Department_Research & Development    -0.1865      0.684     -0.273      0.785      -1.526       1.153\n",
            "Department_Sales                     -0.1226      0.714     -0.172      0.864      -1.522       1.276\n",
            "EducationField_Life Sciences         -0.9855      0.961     -1.025      0.305      -2.870       0.899\n",
            "EducationField_Marketing             -0.2372      1.023     -0.232      0.817      -2.242       1.767\n",
            "EducationField_Medical               -1.0986      0.968     -1.135      0.256      -2.995       0.798\n",
            "EducationField_Other                 -0.7955      1.037     -0.767      0.443      -2.828       1.237\n",
            "EducationField_Technical Degree      -0.3379      0.996     -0.339      0.734      -2.289       1.614\n",
            "MaritalStatus_Married                 0.4756      0.312      1.523      0.128      -0.136       1.088\n",
            "MaritalStatus_Single                  1.1001      0.311      3.532      0.000       0.490       1.711\n",
            "Education_2                           0.3118      0.363      0.860      0.390      -0.399       1.022\n",
            "Education_3                           0.0683      0.317      0.216      0.829      -0.552       0.689\n",
            "Education_4                          -0.0951      0.356     -0.267      0.789      -0.793       0.603\n",
            "Education_5                          -1.6116      1.077     -1.496      0.135      -3.722       0.499\n",
            "EnvironmentSatisfaction_2            -0.2744      0.309     -0.888      0.375      -0.880       0.331\n",
            "EnvironmentSatisfaction_3            -0.6508      0.290     -2.243      0.025      -1.219      -0.082\n",
            "EnvironmentSatisfaction_4            -0.6764      0.292     -2.319      0.020      -1.248      -0.105\n",
            "JobSatisfaction_2                    -0.4179      0.309     -1.351      0.177      -1.024       0.188\n",
            "JobSatisfaction_3                    -0.1730      0.281     -0.617      0.538      -0.723       0.377\n",
            "JobSatisfaction_4                    -0.8917      0.304     -2.928      0.003      -1.488      -0.295\n",
            "WorkLifeBalance_2                    -0.6185      0.421     -1.469      0.142      -1.443       0.206\n",
            "WorkLifeBalance_3                    -1.0347      0.395     -2.622      0.009      -1.808      -0.261\n",
            "WorkLifeBalance_4                    -0.8690      0.498     -1.746      0.081      -1.844       0.106\n",
            "=====================================================================================================\n"
          ]
        }
      ],
      "source": [
        "# model summary\n",
        "print(model.summary())"
      ]
    },
    {
      "cell_type": "markdown",
      "metadata": {
        "id": "Xl5_qFU7mi5A"
      },
      "source": [
        "**a. Which of your numeric variables here are showing high p-values?**"
      ]
    },
    {
      "cell_type": "markdown",
      "metadata": {
        "id": "_ud5U_xanDtT"
      },
      "source": [
        "The numeric variables with high p-values (indicating they are not statistically significant at common significance levels, such as 0.05) in the logistic regression model are:\n",
        "\n",
        "**YearsAtCompany:** p-value = 0.388\n",
        "\n",
        "**MonthlyIncome:** Although significant at 0.025, it's worth noting that the effect size is very small (coef = -7.96e-05), so its practical impact may be minimal.\n",
        "\n",
        "These high p-values suggest that these variables may not have a strong or statistically significant impact on predicting Attrition in the model."
      ]
    },
    {
      "cell_type": "markdown",
      "metadata": {
        "id": "yB44npGWnUuT"
      },
      "source": [
        "**b. For your categorical variables, which ones are showing high p-values for\n",
        "ALL of the levels in the model summary?**"
      ]
    },
    {
      "cell_type": "markdown",
      "metadata": {
        "id": "lYqCqj3hnqFm"
      },
      "source": [
        "**Department:**\n",
        "\n",
        "*Department_Research & Development: p-value = 0.537*\n",
        "\n",
        "*Department_Sales: p-value = 0.351*\n",
        "\n",
        "**EducationField:**\n",
        "\n",
        "*EducationField_Life Sciences: p-value = 0.158*\n",
        "\n",
        "*EducationField_Marketing: p-value = 0.463*\n",
        "\n",
        "*EducationField_Medical: p-value = 0.142*\n",
        "\n",
        "*EducationField_Other: p-value = 0.200*\n",
        "\n",
        "*EducationField_Technical Degree: p-value = 0.158*\n",
        "\n",
        "**Education:**\n",
        "\n",
        "*Education_2: p-value = 0.627*\n",
        "\n",
        "*Education_3: p-value = 0.800*\n",
        "\n",
        "*Education_4: p-value = 0.453*\n",
        "\n",
        "*Education_5: p-value = 0.822*\n",
        "\n",
        "*These high p-values across all levels indicate that these categorical variables (Department, EducationField, and Education) may not have a statistically significant impact on predicting Attrition in this model.*"
      ]
    },
    {
      "cell_type": "markdown",
      "metadata": {
        "id": "yEAVURm_o2JD"
      },
      "source": [
        "# **Iteration #2**"
      ]
    },
    {
      "cell_type": "markdown",
      "metadata": {
        "id": "H_cXXzbeo1cI"
      },
      "source": [
        "**L. Now, build yet another model. Again use statsmodels, and again, use your\n",
        "training set only. Start with the variables you used in Iteration #1 but drop the\n",
        "ones you identified in the previous step, for parts (a) and (b).\n",
        "a. Show the results of this 2nd model with log_reg.summary().**\n"
      ]
    },
    {
      "cell_type": "code",
      "execution_count": null,
      "metadata": {
        "colab": {
          "base_uri": "https://localhost:8080/"
        },
        "id": "UeWuE9U6kDhW",
        "outputId": "e3c4150a-84ee-4b84-fc76-a872e2d34a59"
      },
      "outputs": [
        {
          "name": "stdout",
          "output_type": "stream",
          "text": [
            "Optimization terminated successfully.\n",
            "         Current function value: 0.386036\n",
            "         Iterations 7\n"
          ]
        }
      ],
      "source": [
        "# Selecting remaining variables for Iteration #2\n",
        "X_train_iteration_2 = X_train_with_constant.drop(columns=[\n",
        "    'YearsAtCompany', 'MonthlyIncome',  # Numeric variables\n",
        "    'Department_Research & Development', 'Department_Sales',  # Categorical: Department\n",
        "    'EducationField_Life Sciences', 'EducationField_Marketing', 'EducationField_Medical',\n",
        "    'EducationField_Other', 'EducationField_Technical Degree',  # Categorical: EducationField\n",
        "    'Education_2', 'Education_3', 'Education_4', 'Education_5'  # Categorical: Education\n",
        "])\n",
        "\n",
        "# Fitting the logistic regression model for Iteration #2\n",
        "model_iteration_2 = sm.Logit(y_train, X_train_iteration_2).fit()"
      ]
    },
    {
      "cell_type": "markdown",
      "metadata": {
        "id": "Hott1l4pud_F"
      },
      "source": [
        "**a. Show the results of this 2nd model with log_reg.summary().**"
      ]
    },
    {
      "cell_type": "code",
      "execution_count": null,
      "metadata": {
        "colab": {
          "base_uri": "https://localhost:8080/"
        },
        "id": "Xfi4jvxjkDd7",
        "outputId": "fdcae4d5-2f89-450d-fc9d-6d25569d658c"
      },
      "outputs": [
        {
          "name": "stdout",
          "output_type": "stream",
          "text": [
            "                           Logit Regression Results                           \n",
            "==============================================================================\n",
            "Dep. Variable:              Attrition   No. Observations:                  882\n",
            "Model:                          Logit   Df Residuals:                      867\n",
            "Method:                           MLE   Df Model:                           14\n",
            "Date:                Sun, 03 Nov 2024   Pseudo R-squ.:                  0.1139\n",
            "Time:                        19:01:27   Log-Likelihood:                -340.48\n",
            "converged:                       True   LL-Null:                       -384.25\n",
            "Covariance Type:            nonrobust   LLR p-value:                 1.103e-12\n",
            "=============================================================================================\n",
            "                                coef    std err          z      P>|z|      [0.025      0.975]\n",
            "---------------------------------------------------------------------------------------------\n",
            "const                         1.0192      0.694      1.468      0.142      -0.342       2.380\n",
            "Age                          -0.0684      0.013     -5.253      0.000      -0.094      -0.043\n",
            "DistanceFromHome              0.0381      0.011      3.340      0.001       0.016       0.060\n",
            "NumCompaniesWorked            0.1170      0.041      2.821      0.005       0.036       0.198\n",
            "MaritalStatus_Married         0.4504      0.305      1.479      0.139      -0.146       1.047\n",
            "MaritalStatus_Single          1.0850      0.302      3.587      0.000       0.492       1.678\n",
            "EnvironmentSatisfaction_2    -0.3232      0.301     -1.074      0.283      -0.913       0.266\n",
            "EnvironmentSatisfaction_3    -0.6023      0.282     -2.137      0.033      -1.154      -0.050\n",
            "EnvironmentSatisfaction_4    -0.5618      0.281     -2.000      0.046      -1.113      -0.011\n",
            "JobSatisfaction_2            -0.2716      0.299     -0.908      0.364      -0.858       0.314\n",
            "JobSatisfaction_3            -0.2069      0.273     -0.759      0.448      -0.741       0.328\n",
            "JobSatisfaction_4            -0.8836      0.297     -2.977      0.003      -1.465      -0.302\n",
            "WorkLifeBalance_2            -0.5930      0.409     -1.450      0.147      -1.395       0.209\n",
            "WorkLifeBalance_3            -1.0374      0.384     -2.704      0.007      -1.789      -0.285\n",
            "WorkLifeBalance_4            -0.9519      0.479     -1.986      0.047      -1.891      -0.013\n",
            "=============================================================================================\n"
          ]
        }
      ],
      "source": [
        "print(model_iteration_2.summary())"
      ]
    },
    {
      "cell_type": "code",
      "execution_count": null,
      "metadata": {
        "colab": {
          "base_uri": "https://localhost:8080/",
          "height": 80
        },
        "id": "XN-2Wa5Ju7B_",
        "outputId": "4dd98326-9ffb-4160-9528-00104286467c"
      },
      "outputs": [
        {
          "data": {
            "text/html": [
              "<style>#sk-container-id-1 {color: black;}#sk-container-id-1 pre{padding: 0;}#sk-container-id-1 div.sk-toggleable {background-color: white;}#sk-container-id-1 label.sk-toggleable__label {cursor: pointer;display: block;width: 100%;margin-bottom: 0;padding: 0.3em;box-sizing: border-box;text-align: center;}#sk-container-id-1 label.sk-toggleable__label-arrow:before {content: \"▸\";float: left;margin-right: 0.25em;color: #696969;}#sk-container-id-1 label.sk-toggleable__label-arrow:hover:before {color: black;}#sk-container-id-1 div.sk-estimator:hover label.sk-toggleable__label-arrow:before {color: black;}#sk-container-id-1 div.sk-toggleable__content {max-height: 0;max-width: 0;overflow: hidden;text-align: left;background-color: #f0f8ff;}#sk-container-id-1 div.sk-toggleable__content pre {margin: 0.2em;color: black;border-radius: 0.25em;background-color: #f0f8ff;}#sk-container-id-1 input.sk-toggleable__control:checked~div.sk-toggleable__content {max-height: 200px;max-width: 100%;overflow: auto;}#sk-container-id-1 input.sk-toggleable__control:checked~label.sk-toggleable__label-arrow:before {content: \"▾\";}#sk-container-id-1 div.sk-estimator input.sk-toggleable__control:checked~label.sk-toggleable__label {background-color: #d4ebff;}#sk-container-id-1 div.sk-label input.sk-toggleable__control:checked~label.sk-toggleable__label {background-color: #d4ebff;}#sk-container-id-1 input.sk-hidden--visually {border: 0;clip: rect(1px 1px 1px 1px);clip: rect(1px, 1px, 1px, 1px);height: 1px;margin: -1px;overflow: hidden;padding: 0;position: absolute;width: 1px;}#sk-container-id-1 div.sk-estimator {font-family: monospace;background-color: #f0f8ff;border: 1px dotted black;border-radius: 0.25em;box-sizing: border-box;margin-bottom: 0.5em;}#sk-container-id-1 div.sk-estimator:hover {background-color: #d4ebff;}#sk-container-id-1 div.sk-parallel-item::after {content: \"\";width: 100%;border-bottom: 1px solid gray;flex-grow: 1;}#sk-container-id-1 div.sk-label:hover label.sk-toggleable__label {background-color: #d4ebff;}#sk-container-id-1 div.sk-serial::before {content: \"\";position: absolute;border-left: 1px solid gray;box-sizing: border-box;top: 0;bottom: 0;left: 50%;z-index: 0;}#sk-container-id-1 div.sk-serial {display: flex;flex-direction: column;align-items: center;background-color: white;padding-right: 0.2em;padding-left: 0.2em;position: relative;}#sk-container-id-1 div.sk-item {position: relative;z-index: 1;}#sk-container-id-1 div.sk-parallel {display: flex;align-items: stretch;justify-content: center;background-color: white;position: relative;}#sk-container-id-1 div.sk-item::before, #sk-container-id-1 div.sk-parallel-item::before {content: \"\";position: absolute;border-left: 1px solid gray;box-sizing: border-box;top: 0;bottom: 0;left: 50%;z-index: -1;}#sk-container-id-1 div.sk-parallel-item {display: flex;flex-direction: column;z-index: 1;position: relative;background-color: white;}#sk-container-id-1 div.sk-parallel-item:first-child::after {align-self: flex-end;width: 50%;}#sk-container-id-1 div.sk-parallel-item:last-child::after {align-self: flex-start;width: 50%;}#sk-container-id-1 div.sk-parallel-item:only-child::after {width: 0;}#sk-container-id-1 div.sk-dashed-wrapped {border: 1px dashed gray;margin: 0 0.4em 0.5em 0.4em;box-sizing: border-box;padding-bottom: 0.4em;background-color: white;}#sk-container-id-1 div.sk-label label {font-family: monospace;font-weight: bold;display: inline-block;line-height: 1.2em;}#sk-container-id-1 div.sk-label-container {text-align: center;}#sk-container-id-1 div.sk-container {/* jupyter's `normalize.less` sets `[hidden] { display: none; }` but bootstrap.min.css set `[hidden] { display: none !important; }` so we also need the `!important` here to be able to override the default hidden behavior on the sphinx rendered scikit-learn.org. See: https://github.com/scikit-learn/scikit-learn/issues/21755 */display: inline-block !important;position: relative;}#sk-container-id-1 div.sk-text-repr-fallback {display: none;}</style><div id=\"sk-container-id-1\" class=\"sk-top-container\"><div class=\"sk-text-repr-fallback\"><pre>LogisticRegression(max_iter=1000, random_state=911)</pre><b>In a Jupyter environment, please rerun this cell to show the HTML representation or trust the notebook. <br />On GitHub, the HTML representation is unable to render, please try loading this page with nbviewer.org.</b></div><div class=\"sk-container\" hidden><div class=\"sk-item\"><div class=\"sk-estimator sk-toggleable\"><input class=\"sk-toggleable__control sk-hidden--visually\" id=\"sk-estimator-id-1\" type=\"checkbox\" checked><label for=\"sk-estimator-id-1\" class=\"sk-toggleable__label sk-toggleable__label-arrow\">LogisticRegression</label><div class=\"sk-toggleable__content\"><pre>LogisticRegression(max_iter=1000, random_state=911)</pre></div></div></div></div></div>"
            ],
            "text/plain": [
              "LogisticRegression(max_iter=1000, random_state=911)"
            ]
          },
          "execution_count": 51,
          "metadata": {},
          "output_type": "execute_result"
        }
      ],
      "source": [
        "# Initializing and training the logistic regression model\n",
        "log_reg_sklearn = LogisticRegression(random_state= 911,max_iter= 1000)\n",
        "log_reg_sklearn.fit(X_train_iteration_2, y_train)\n"
      ]
    },
    {
      "cell_type": "markdown",
      "metadata": {
        "id": "imcShe48wcxK"
      },
      "source": [
        "**N. Assess the performance of your model against the test set. Build a confusion\n",
        "matrix, and answer the following questions about your model. You can use\n",
        "Python functions to answer any of these questions or you can use your confusion\n",
        "matrix to determine the answers in a slightly more manual way. The ‘positive’\n",
        "class in this model is represented by the “1” outcome.**\n",
        "\n",
        "**a. What is your model’s accuracy rate?**\n",
        "\n",
        "**b. What is your model’s sensitivity rate?**\n",
        "\n",
        "**c. What is your model’s specificity rate?**\n",
        "\n",
        "**d. What is your model’s precision?**\n",
        "\n",
        "**e. What is your model’s balanced accuracy?**"
      ]
    },
    {
      "cell_type": "code",
      "execution_count": null,
      "metadata": {
        "colab": {
          "base_uri": "https://localhost:8080/"
        },
        "id": "TrURxvkGwOFC",
        "outputId": "8c9d0dd0-e0f5-4f26-fc83-367dadab8d1b"
      },
      "outputs": [
        {
          "name": "stdout",
          "output_type": "stream",
          "text": [
            "Confusion Matrix:\n",
            " [[488   2]\n",
            " [ 92   6]]\n",
            "\n",
            "Accuracy: 0.8401360544217688\n",
            "Sensitivity: 0.061224489795918366\n",
            "Specificity: 0.9959183673469387\n",
            "Precision: 0.75\n",
            "Balanced Accuracy: 0.5285714285714286\n"
          ]
        }
      ],
      "source": [
        "# Preparing the test data for prediction\n",
        "X_test_iteration_2 = sm.add_constant(X_test)\n",
        "X_test_iteration_2 = X_test_iteration_2[X_train_iteration_2.columns]\n",
        "\n",
        "# Making predictions on the test set\n",
        "y_pred = log_reg_sklearn.predict(X_test_iteration_2)\n",
        "\n",
        "# Confusion matrix\n",
        "cm = confusion_matrix(y_test, y_pred)\n",
        "\n",
        "# Calculating evaluation metrics\n",
        "accuracy = accuracy_score(y_test, y_pred)\n",
        "sensitivity = cm[1, 1] / (cm[1, 0] + cm[1, 1])\n",
        "specificity = cm[0, 0] / (cm[0, 0] + cm[0, 1])\n",
        "precision = cm[1, 1] / (cm[1, 1] + cm[0, 1])\n",
        "balanced_accuracy = (sensitivity + specificity) / 2\n",
        "\n",
        "print(\"Confusion Matrix:\\n\", cm)\n",
        "print(f\"\\nAccuracy: {accuracy}\")\n",
        "print(f\"Sensitivity: {sensitivity}\")\n",
        "print(f\"Specificity: {specificity}\")\n",
        "print(f\"Precision: {precision}\")\n",
        "print(f\"Balanced Accuracy: {balanced_accuracy}\")"
      ]
    },
    {
      "cell_type": "markdown",
      "metadata": {
        "id": "Q4uHY-8oy0Qy"
      },
      "source": [
        "**O. Compare your model’s accuracy against the training set vs. accuracy against the\n",
        "test set (just use accuracy only for this).**\n"
      ]
    },
    {
      "cell_type": "code",
      "execution_count": null,
      "metadata": {
        "colab": {
          "base_uri": "https://localhost:8080/"
        },
        "id": "B3lH8MTSwOCQ",
        "outputId": "fc986865-54b8-42e9-c48d-900ca6c4625c"
      },
      "outputs": [
        {
          "name": "stdout",
          "output_type": "stream",
          "text": [
            "Training Accuracy: 0.8435374149659864\n",
            "Test Accuracy: 0.8401360544217688\n"
          ]
        }
      ],
      "source": [
        "# Training accuracy\n",
        "y_train_pred = log_reg_sklearn.predict(X_train_iteration_2)\n",
        "training_accuracy = accuracy_score(y_train, y_train_pred)\n",
        "print(f\"Training Accuracy: {training_accuracy}\")\n",
        "print(f\"Test Accuracy: {accuracy}\")"
      ]
    },
    {
      "cell_type": "markdown",
      "metadata": {
        "id": "3sluq9qEy6Ro"
      },
      "source": [
        "**a. What is the purpose of comparing those two values?**"
      ]
    },
    {
      "cell_type": "markdown",
      "metadata": {
        "id": "sVe_mwsyyU0C"
      },
      "source": [
        "*If the training accuracy is much higher than the test accuracy, it suggests that the model has overfit the training data.  This means the model has learned the training data's noise and specific details too well, rather than the underlying patterns.  As a result, it performs poorly on the test data, which is representative of data the model hasn't seen before.*\n",
        "\n",
        "*Conversely, if the training and test accuracies are similar, it indicates that the model has generalized well and is likely to perform well on new data.  The goal in machine learning is to build models that generalize well, not just memorize the training data.*\n"
      ]
    },
    {
      "cell_type": "markdown",
      "metadata": {
        "id": "CI7qB3lGzFcq"
      },
      "source": [
        "**b. In this case, what does the comparison of those values suggest about the\n",
        "model that you have built?**"
      ]
    },
    {
      "cell_type": "markdown",
      "metadata": {
        "id": "WIFBtKGKyOCv"
      },
      "source": [
        "*The difference between training accuracy (0.8458) and test accuracy (0.8452) is very small.\n",
        "This suggests that the model generalizes well to unseen data.  There's not a significant\n",
        "overfitting problem, as the model performs similarly on both the training and testing datasets.*"
      ]
    },
    {
      "cell_type": "markdown",
      "metadata": {
        "id": "m57E1W9uypmo"
      },
      "source": [
        "**P. Make up an employee. Assign this customer a value for each predictor variable\n",
        "in this model, and store the results in a new dataframe. Now, put your employee\n",
        "through this model.\n",
        "a. What did your model predict -- will this employee stay or leave?**"
      ]
    },
    {
      "cell_type": "code",
      "execution_count": null,
      "metadata": {
        "colab": {
          "base_uri": "https://localhost:8080/"
        },
        "id": "cQKrT5SC0Qxs",
        "outputId": "be8fdc38-d014-45d1-a059-df81511c329d"
      },
      "outputs": [
        {
          "name": "stdout",
          "output_type": "stream",
          "text": [
            "The model predicts the employee will stay.\n"
          ]
        }
      ],
      "source": [
        "# Creating new employee DataFrame\n",
        "new_employee = pd.DataFrame({\n",
        "    'const': 1,\n",
        "    'Age': [34],\n",
        "    'DistanceFromHome': [27],\n",
        "    'NumCompaniesWorked': [5],\n",
        "    'JobSatisfaction_2': [0],           # JobSatisfaction: 1-Low; 2-Medium; 3-High; 4-Very High\n",
        "    'JobSatisfaction_3': [1],\n",
        "    'JobSatisfaction_4': [0],\n",
        "    'MaritalStatus_Married': [1],\n",
        "    'MaritalStatus_Single': [0],\n",
        "    'WorkLifeBalance_2': [0],           # 1-Bad; 2-Good; 3-Better; 4-Best\n",
        "    'WorkLifeBalance_3': [0],\n",
        "    'WorkLifeBalance_4': [1],\n",
        "    'EnvironmentSatisfaction_2': [0],   # 1-Low; 2-Medium; 3-High; 4-Very High\n",
        "    'EnvironmentSatisfaction_3': [1],\n",
        "    'EnvironmentSatisfaction_4': [0]\n",
        "})\n",
        "\n",
        "# Reordering columns to match the training data\n",
        "new_employee = new_employee[X_train_iteration_2.columns]\n",
        "\n",
        "# Prediction for the new employee\n",
        "prediction = log_reg_sklearn.predict(new_employee)\n",
        "\n",
        "# Interpreting the prediction (0 for stay, 1 for leave)\n",
        "if prediction[0] == 0:\n",
        "    print(\"The model predicts the employee will stay.\")\n",
        "else:\n",
        "    print(\"The model predicts the employee will leave.\")"
      ]
    },
    {
      "cell_type": "markdown",
      "metadata": {
        "id": "ZGQ2C9Zd3652"
      },
      "source": [
        "**b. According to your model, what is the probability that the employee will\n",
        "leave?**"
      ]
    },
    {
      "cell_type": "code",
      "execution_count": null,
      "metadata": {
        "colab": {
          "base_uri": "https://localhost:8080/"
        },
        "id": "uQSvWHQV3uZo",
        "outputId": "ccad9217-ae6e-4fdc-f3b3-2625b16d98f5"
      },
      "outputs": [
        {
          "name": "stdout",
          "output_type": "stream",
          "text": [
            "The probability that the employee will leave is: 0.2849\n"
          ]
        }
      ],
      "source": [
        "probabilities = log_reg_sklearn.predict_proba(new_employee)\n",
        "probability_of_leaving = probabilities[0][1]  # Probability of class 1 (leaving)\n",
        "\n",
        "print(f\"The probability that the employee will leave is: {probability_of_leaving:.4f}\")"
      ]
    },
    {
      "cell_type": "markdown",
      "metadata": {
        "id": "30uXLJra3iMO"
      },
      "source": [
        "**Q. When using a logistic regression model to make predictions, why is it important\n",
        "to only use values within the range of the dataset used to build the model?**"
      ]
    },
    {
      "cell_type": "markdown",
      "metadata": {
        "id": "x44q6cGUzCzY"
      },
      "source": [
        "*Logistic regression models learn the relationship between predictor variables and the probability of a binary outcome based on the training data.  Extrapolating beyond the range of the training data can lead to unreliable predictions based on the following resons Non-linearity, Model Assumptions, Extrapolation Uncertainty, Overfitting and Underfitting.*\n",
        "\n",
        "*The model's learned coefficients are optimized for the range of the data it was trained on.  Using values outside that range effectively forces the model to make assumptions that may not be justified, leading to potentially unreliable probability estimates. It's crucial to stay within the observed range of the predictors when making predictions with a logistic regression model to ensure the reliability of the results.*"
      ]
    },
    {
      "cell_type": "markdown",
      "metadata": {
        "id": "46oaH4w0LA9A"
      },
      "source": [
        "**a. Make a new dataframe, but this time, for the numeric predictor variables,\n",
        "select some numbers that are outside the range of the dataset -- do not\n",
        "use a 400+ year-old vampire named “Mary.” Use your model to\n",
        "make a prediction for this new dataframe. What do you notice about the\n",
        "result? (To answer this, don’t simply state the predicted outcome, but\n",
        "also write 1-2 sentences of explanation for what you see).**\n"
      ]
    },
    {
      "cell_type": "code",
      "execution_count": null,
      "metadata": {
        "colab": {
          "base_uri": "https://localhost:8080/"
        },
        "id": "wF4BDCrVNwX2",
        "outputId": "e2d02c9b-f749-4924-9145-ffd3b71c34ee"
      },
      "outputs": [
        {
          "name": "stdout",
          "output_type": "stream",
          "text": [
            "Prediction for out-of-range employee: 0\n",
            "The model predicts the employee will stay.\n",
            "Probability of leaving for out-of-range employee: 0.3574215058149493\n"
          ]
        }
      ],
      "source": [
        "# Creating a new DataFrame with out-of-range values for numeric predictors\n",
        "new_employee_out_of_range = pd.DataFrame({\n",
        "    'const': 1,\n",
        "    'Age': [85],                   # Max Age 60\n",
        "    'DistanceFromHome': [50],       # Max DistanceFromHome 29\n",
        "    'NumCompaniesWorked': [30],     # Max NumCompaniesWorked  09\n",
        "    'JobSatisfaction_2': [0],       # JobSatisfaction: 1-Low; 2-Medium; 3-High; 4-Very High\n",
        "    'JobSatisfaction_3': [1],\n",
        "    'JobSatisfaction_4': [0],\n",
        "    'MaritalStatus_Married': [1],\n",
        "    'MaritalStatus_Single': [0],\n",
        "    'WorkLifeBalance_2': [0],       # 1-Bad; 2-Good; 3-Better; 4-Best\n",
        "    'WorkLifeBalance_3': [0],\n",
        "    'WorkLifeBalance_4': [1],\n",
        "    'EnvironmentSatisfaction_2': [0],   # 1-Low; 2-Medium; 3-High; 4-Very High\n",
        "    'EnvironmentSatisfaction_3': [1],\n",
        "    'EnvironmentSatisfaction_4': [0]\n",
        "})\n",
        "\n",
        "# Reorder columns to match the training data\n",
        "new_employee_out_of_range = new_employee_out_of_range[X_train_iteration_2.columns]\n",
        "\n",
        "# Prediction for the new employee with out-of-range values\n",
        "prediction_out_of_range = log_reg_sklearn.predict(new_employee_out_of_range)\n",
        "probability_out_of_range = log_reg_sklearn.predict_proba(new_employee_out_of_range)\n",
        "\n",
        "print(f\"Prediction for out-of-range employee: {prediction_out_of_range[0]}\")\n",
        "\n",
        "# Interpreting the prediction (0 for stay, 1 for leave)\n",
        "\n",
        "if prediction_out_of_range[0] == 0:\n",
        "    print(\"The model predicts the employee will stay.\")\n",
        "else:\n",
        "    print(\"The model predicts the employee will leave.\")\n",
        "\n",
        "print(f\"Probability of leaving for out-of-range employee: {probability_out_of_range[0,1]}\")"
      ]
    },
    {
      "cell_type": "markdown",
      "metadata": {
        "id": "fImzR3hJOcXV"
      },
      "source": [
        "*The model predicts the employee will stay, even if this particular scenario is unrealistic (Age - 85, distance fromhome - 50 , NumCompaniesWorked - 30) . This is because the model is extrapolating beyond the data it was trained on, meaning that predictions will not reflect the real-world situation. The model has fit patterns within the range of the data it has observed, and cannot account for cases where the input features are very extreme.*"
      ]
    },
    {
      "cell_type": "markdown",
      "metadata": {
        "id": "Ir0Yg7F5Tji9"
      },
      "source": [
        "# **Part II: Random Forest Model**\n"
      ]
    },
    {
      "cell_type": "markdown",
      "metadata": {
        "id": "BX5FmlPMUSrP"
      },
      "source": [
        "**R. Read the dataset back into Python.**\n"
      ]
    },
    {
      "cell_type": "code",
      "execution_count": null,
      "metadata": {
        "id": "8UUQL43MNv0H"
      },
      "outputs": [],
      "source": [
        "df1 = pd.read_csv(r'C:\\Users\\prabu\\Downloads\\IBM (1).csv')"
      ]
    },
    {
      "cell_type": "code",
      "execution_count": null,
      "metadata": {
        "colab": {
          "base_uri": "https://localhost:8080/",
          "height": 295
        },
        "id": "y3RPndJ4UAD7",
        "outputId": "b847c35b-8e31-4b68-f741-2b03080d2e59"
      },
      "outputs": [
        {
          "data": {
            "text/html": [
              "<div>\n",
              "<style scoped>\n",
              "    .dataframe tbody tr th:only-of-type {\n",
              "        vertical-align: middle;\n",
              "    }\n",
              "\n",
              "    .dataframe tbody tr th {\n",
              "        vertical-align: top;\n",
              "    }\n",
              "\n",
              "    .dataframe thead th {\n",
              "        text-align: right;\n",
              "    }\n",
              "</style>\n",
              "<table border=\"1\" class=\"dataframe\">\n",
              "  <thead>\n",
              "    <tr style=\"text-align: right;\">\n",
              "      <th></th>\n",
              "      <th>Age</th>\n",
              "      <th>Attrition</th>\n",
              "      <th>Department</th>\n",
              "      <th>DistanceFromHome</th>\n",
              "      <th>Education</th>\n",
              "      <th>EducationField</th>\n",
              "      <th>EnvironmentSatisfaction</th>\n",
              "      <th>JobSatisfaction</th>\n",
              "      <th>MaritalStatus</th>\n",
              "      <th>MonthlyIncome</th>\n",
              "      <th>NumCompaniesWorked</th>\n",
              "      <th>WorkLifeBalance</th>\n",
              "      <th>YearsAtCompany</th>\n",
              "    </tr>\n",
              "  </thead>\n",
              "  <tbody>\n",
              "    <tr>\n",
              "      <th>0</th>\n",
              "      <td>41</td>\n",
              "      <td>Yes</td>\n",
              "      <td>Sales</td>\n",
              "      <td>1</td>\n",
              "      <td>2</td>\n",
              "      <td>Life Sciences</td>\n",
              "      <td>2</td>\n",
              "      <td>4</td>\n",
              "      <td>Single</td>\n",
              "      <td>5993</td>\n",
              "      <td>8</td>\n",
              "      <td>1</td>\n",
              "      <td>6</td>\n",
              "    </tr>\n",
              "    <tr>\n",
              "      <th>1</th>\n",
              "      <td>49</td>\n",
              "      <td>No</td>\n",
              "      <td>Research &amp; Development</td>\n",
              "      <td>8</td>\n",
              "      <td>1</td>\n",
              "      <td>Life Sciences</td>\n",
              "      <td>3</td>\n",
              "      <td>2</td>\n",
              "      <td>Married</td>\n",
              "      <td>5130</td>\n",
              "      <td>1</td>\n",
              "      <td>3</td>\n",
              "      <td>10</td>\n",
              "    </tr>\n",
              "    <tr>\n",
              "      <th>2</th>\n",
              "      <td>37</td>\n",
              "      <td>Yes</td>\n",
              "      <td>Research &amp; Development</td>\n",
              "      <td>2</td>\n",
              "      <td>2</td>\n",
              "      <td>Other</td>\n",
              "      <td>4</td>\n",
              "      <td>3</td>\n",
              "      <td>Single</td>\n",
              "      <td>2090</td>\n",
              "      <td>6</td>\n",
              "      <td>3</td>\n",
              "      <td>0</td>\n",
              "    </tr>\n",
              "    <tr>\n",
              "      <th>3</th>\n",
              "      <td>33</td>\n",
              "      <td>No</td>\n",
              "      <td>Research &amp; Development</td>\n",
              "      <td>3</td>\n",
              "      <td>4</td>\n",
              "      <td>Life Sciences</td>\n",
              "      <td>4</td>\n",
              "      <td>3</td>\n",
              "      <td>Married</td>\n",
              "      <td>2909</td>\n",
              "      <td>1</td>\n",
              "      <td>3</td>\n",
              "      <td>8</td>\n",
              "    </tr>\n",
              "    <tr>\n",
              "      <th>4</th>\n",
              "      <td>27</td>\n",
              "      <td>No</td>\n",
              "      <td>Research &amp; Development</td>\n",
              "      <td>2</td>\n",
              "      <td>1</td>\n",
              "      <td>Medical</td>\n",
              "      <td>1</td>\n",
              "      <td>2</td>\n",
              "      <td>Married</td>\n",
              "      <td>3468</td>\n",
              "      <td>9</td>\n",
              "      <td>3</td>\n",
              "      <td>2</td>\n",
              "    </tr>\n",
              "  </tbody>\n",
              "</table>\n",
              "</div>"
            ],
            "text/plain": [
              "   Age Attrition              Department  DistanceFromHome  Education  \\\n",
              "0   41       Yes                   Sales                 1          2   \n",
              "1   49        No  Research & Development                 8          1   \n",
              "2   37       Yes  Research & Development                 2          2   \n",
              "3   33        No  Research & Development                 3          4   \n",
              "4   27        No  Research & Development                 2          1   \n",
              "\n",
              "  EducationField  EnvironmentSatisfaction  JobSatisfaction MaritalStatus  \\\n",
              "0  Life Sciences                        2                4        Single   \n",
              "1  Life Sciences                        3                2       Married   \n",
              "2          Other                        4                3        Single   \n",
              "3  Life Sciences                        4                3       Married   \n",
              "4        Medical                        1                2       Married   \n",
              "\n",
              "   MonthlyIncome  NumCompaniesWorked  WorkLifeBalance  YearsAtCompany  \n",
              "0           5993                   8                1               6  \n",
              "1           5130                   1                3              10  \n",
              "2           2090                   6                3               0  \n",
              "3           2909                   1                3               8  \n",
              "4           3468                   9                3               2  "
            ]
          },
          "execution_count": 72,
          "metadata": {},
          "output_type": "execute_result"
        }
      ],
      "source": [
        "df1.head()"
      ]
    },
    {
      "cell_type": "markdown",
      "metadata": {
        "id": "rlRocCzdUYPy"
      },
      "source": [
        "**S. Dummify the categorical inputs again, but this time, don’t drop any levels. Again,\n",
        "use the label encoder to convert ‘Attrition’ into a binary format.**\n"
      ]
    },
    {
      "cell_type": "code",
      "execution_count": null,
      "metadata": {
        "colab": {
          "base_uri": "https://localhost:8080/",
          "height": 273
        },
        "id": "SRcwIleLUXpV",
        "outputId": "c4e976f2-52a5-4b9d-a29c-5d54d805a20f"
      },
      "outputs": [
        {
          "data": {
            "text/html": [
              "<div>\n",
              "<style scoped>\n",
              "    .dataframe tbody tr th:only-of-type {\n",
              "        vertical-align: middle;\n",
              "    }\n",
              "\n",
              "    .dataframe tbody tr th {\n",
              "        vertical-align: top;\n",
              "    }\n",
              "\n",
              "    .dataframe thead th {\n",
              "        text-align: right;\n",
              "    }\n",
              "</style>\n",
              "<table border=\"1\" class=\"dataframe\">\n",
              "  <thead>\n",
              "    <tr style=\"text-align: right;\">\n",
              "      <th></th>\n",
              "      <th>Age</th>\n",
              "      <th>Attrition</th>\n",
              "      <th>DistanceFromHome</th>\n",
              "      <th>MonthlyIncome</th>\n",
              "      <th>NumCompaniesWorked</th>\n",
              "      <th>YearsAtCompany</th>\n",
              "      <th>Department_Human Resources</th>\n",
              "      <th>Department_Research &amp; Development</th>\n",
              "      <th>Department_Sales</th>\n",
              "      <th>EducationField_Human Resources</th>\n",
              "      <th>...</th>\n",
              "      <th>EnvironmentSatisfaction_3</th>\n",
              "      <th>EnvironmentSatisfaction_4</th>\n",
              "      <th>JobSatisfaction_1</th>\n",
              "      <th>JobSatisfaction_2</th>\n",
              "      <th>JobSatisfaction_3</th>\n",
              "      <th>JobSatisfaction_4</th>\n",
              "      <th>WorkLifeBalance_1</th>\n",
              "      <th>WorkLifeBalance_2</th>\n",
              "      <th>WorkLifeBalance_3</th>\n",
              "      <th>WorkLifeBalance_4</th>\n",
              "    </tr>\n",
              "  </thead>\n",
              "  <tbody>\n",
              "    <tr>\n",
              "      <th>0</th>\n",
              "      <td>41</td>\n",
              "      <td>1</td>\n",
              "      <td>1</td>\n",
              "      <td>5993</td>\n",
              "      <td>8</td>\n",
              "      <td>6</td>\n",
              "      <td>0</td>\n",
              "      <td>0</td>\n",
              "      <td>1</td>\n",
              "      <td>0</td>\n",
              "      <td>...</td>\n",
              "      <td>0</td>\n",
              "      <td>0</td>\n",
              "      <td>0</td>\n",
              "      <td>0</td>\n",
              "      <td>0</td>\n",
              "      <td>1</td>\n",
              "      <td>1</td>\n",
              "      <td>0</td>\n",
              "      <td>0</td>\n",
              "      <td>0</td>\n",
              "    </tr>\n",
              "    <tr>\n",
              "      <th>1</th>\n",
              "      <td>49</td>\n",
              "      <td>0</td>\n",
              "      <td>8</td>\n",
              "      <td>5130</td>\n",
              "      <td>1</td>\n",
              "      <td>10</td>\n",
              "      <td>0</td>\n",
              "      <td>1</td>\n",
              "      <td>0</td>\n",
              "      <td>0</td>\n",
              "      <td>...</td>\n",
              "      <td>1</td>\n",
              "      <td>0</td>\n",
              "      <td>0</td>\n",
              "      <td>1</td>\n",
              "      <td>0</td>\n",
              "      <td>0</td>\n",
              "      <td>0</td>\n",
              "      <td>0</td>\n",
              "      <td>1</td>\n",
              "      <td>0</td>\n",
              "    </tr>\n",
              "    <tr>\n",
              "      <th>2</th>\n",
              "      <td>37</td>\n",
              "      <td>1</td>\n",
              "      <td>2</td>\n",
              "      <td>2090</td>\n",
              "      <td>6</td>\n",
              "      <td>0</td>\n",
              "      <td>0</td>\n",
              "      <td>1</td>\n",
              "      <td>0</td>\n",
              "      <td>0</td>\n",
              "      <td>...</td>\n",
              "      <td>0</td>\n",
              "      <td>1</td>\n",
              "      <td>0</td>\n",
              "      <td>0</td>\n",
              "      <td>1</td>\n",
              "      <td>0</td>\n",
              "      <td>0</td>\n",
              "      <td>0</td>\n",
              "      <td>1</td>\n",
              "      <td>0</td>\n",
              "    </tr>\n",
              "    <tr>\n",
              "      <th>3</th>\n",
              "      <td>33</td>\n",
              "      <td>0</td>\n",
              "      <td>3</td>\n",
              "      <td>2909</td>\n",
              "      <td>1</td>\n",
              "      <td>8</td>\n",
              "      <td>0</td>\n",
              "      <td>1</td>\n",
              "      <td>0</td>\n",
              "      <td>0</td>\n",
              "      <td>...</td>\n",
              "      <td>0</td>\n",
              "      <td>1</td>\n",
              "      <td>0</td>\n",
              "      <td>0</td>\n",
              "      <td>1</td>\n",
              "      <td>0</td>\n",
              "      <td>0</td>\n",
              "      <td>0</td>\n",
              "      <td>1</td>\n",
              "      <td>0</td>\n",
              "    </tr>\n",
              "    <tr>\n",
              "      <th>4</th>\n",
              "      <td>27</td>\n",
              "      <td>0</td>\n",
              "      <td>2</td>\n",
              "      <td>3468</td>\n",
              "      <td>9</td>\n",
              "      <td>2</td>\n",
              "      <td>0</td>\n",
              "      <td>1</td>\n",
              "      <td>0</td>\n",
              "      <td>0</td>\n",
              "      <td>...</td>\n",
              "      <td>0</td>\n",
              "      <td>0</td>\n",
              "      <td>0</td>\n",
              "      <td>1</td>\n",
              "      <td>0</td>\n",
              "      <td>0</td>\n",
              "      <td>0</td>\n",
              "      <td>0</td>\n",
              "      <td>1</td>\n",
              "      <td>0</td>\n",
              "    </tr>\n",
              "  </tbody>\n",
              "</table>\n",
              "<p>5 rows × 35 columns</p>\n",
              "</div>"
            ],
            "text/plain": [
              "   Age  Attrition  DistanceFromHome  MonthlyIncome  NumCompaniesWorked  \\\n",
              "0   41          1                 1           5993                   8   \n",
              "1   49          0                 8           5130                   1   \n",
              "2   37          1                 2           2090                   6   \n",
              "3   33          0                 3           2909                   1   \n",
              "4   27          0                 2           3468                   9   \n",
              "\n",
              "   YearsAtCompany  Department_Human Resources  \\\n",
              "0               6                           0   \n",
              "1              10                           0   \n",
              "2               0                           0   \n",
              "3               8                           0   \n",
              "4               2                           0   \n",
              "\n",
              "   Department_Research & Development  Department_Sales  \\\n",
              "0                                  0                 1   \n",
              "1                                  1                 0   \n",
              "2                                  1                 0   \n",
              "3                                  1                 0   \n",
              "4                                  1                 0   \n",
              "\n",
              "   EducationField_Human Resources  ...  EnvironmentSatisfaction_3  \\\n",
              "0                               0  ...                          0   \n",
              "1                               0  ...                          1   \n",
              "2                               0  ...                          0   \n",
              "3                               0  ...                          0   \n",
              "4                               0  ...                          0   \n",
              "\n",
              "   EnvironmentSatisfaction_4  JobSatisfaction_1  JobSatisfaction_2  \\\n",
              "0                          0                  0                  0   \n",
              "1                          0                  0                  1   \n",
              "2                          1                  0                  0   \n",
              "3                          1                  0                  0   \n",
              "4                          0                  0                  1   \n",
              "\n",
              "   JobSatisfaction_3  JobSatisfaction_4  WorkLifeBalance_1  WorkLifeBalance_2  \\\n",
              "0                  0                  1                  1                  0   \n",
              "1                  0                  0                  0                  0   \n",
              "2                  1                  0                  0                  0   \n",
              "3                  1                  0                  0                  0   \n",
              "4                  0                  0                  0                  0   \n",
              "\n",
              "   WorkLifeBalance_3  WorkLifeBalance_4  \n",
              "0                  0                  0  \n",
              "1                  1                  0  \n",
              "2                  1                  0  \n",
              "3                  1                  0  \n",
              "4                  1                  0  \n",
              "\n",
              "[5 rows x 35 columns]"
            ]
          },
          "execution_count": 74,
          "metadata": {},
          "output_type": "execute_result"
        }
      ],
      "source": [
        "# Converting 'Attrition' to binary format using LabelEncoder\n",
        "\n",
        "le = LabelEncoder()\n",
        "df1['Attrition'] = le.fit_transform(df1['Attrition'])\n",
        "\n",
        "# Dummifying categorical features without dropping any levels\n",
        "\n",
        "nominal_columns = ['Department', 'EducationField', 'MaritalStatus']\n",
        "ordinal_columns = {\n",
        "    'Education': [1, 2, 3, 4, 5],\n",
        "    'EnvironmentSatisfaction': [1, 2, 3, 4],\n",
        "    'JobSatisfaction': [1, 2, 3, 4],\n",
        "    'WorkLifeBalance': [1, 2, 3, 4]\n",
        "}\n",
        "\n",
        "# Converting ordinal variables to ordered categorical\n",
        "for col, order in ordinal_columns.items():\n",
        "    df1[col] = pd.Categorical(df1[col], categories=order, ordered=True)\n",
        "\n",
        "# using pd.get_dummies without drop_first=True\n",
        "df1_encoded = pd.get_dummies(df1, columns=nominal_columns + list(ordinal_columns.keys()), drop_first=False)\n",
        "df1_encoded = df1_encoded.astype(int)\n",
        "df1_encoded.head()"
      ]
    },
    {
      "cell_type": "markdown",
      "metadata": {
        "id": "lUAHrXyWZTfy"
      },
      "source": [
        "**T. Re-partition the data, using the same seed value that you used in the previous part of\n",
        "this assignment.**"
      ]
    },
    {
      "cell_type": "code",
      "execution_count": null,
      "metadata": {
        "colab": {
          "base_uri": "https://localhost:8080/"
        },
        "id": "vTveD3sJT__9",
        "outputId": "bf81fcfa-ea2f-4d8e-ad21-ba5ffc0cbdb1"
      },
      "outputs": [
        {
          "name": "stdout",
          "output_type": "stream",
          "text": [
            "882 588\n",
            "              precision    recall  f1-score   support\n",
            "\n",
            "           0       0.84      1.00      0.91       490\n",
            "           1       0.75      0.06      0.11        98\n",
            "\n",
            "    accuracy                           0.84       588\n",
            "   macro avg       0.80      0.53      0.51       588\n",
            "weighted avg       0.83      0.84      0.78       588\n",
            "\n"
          ]
        }
      ],
      "source": [
        "X = df1_encoded.drop('Attrition', axis=1)\n",
        "y = df1_encoded['Attrition']\n",
        "\n",
        "# Splitting data into training and testing sets, using the same random_state as before\n",
        "X_train, X_test, y_train, y_test = train_test_split(X, y, test_size=0.4, random_state=911)\n",
        "\n",
        "# Displaying the sizes of the training and test sets\n",
        "train_size = X_train.shape[0]\n",
        "test_size = X_test.shape[0]\n",
        "\n",
        "print(train_size, test_size)\n",
        "print(metrics.classification_report(y_test, y_pred))"
      ]
    },
    {
      "cell_type": "markdown",
      "metadata": {
        "id": "B7cnKY20emqI"
      },
      "source": [
        "**U. Build a random forest model in Python with your training set. Use the same input\n",
        "variables, and same output variable, as you used in the first logistic regression model\n",
        "(the only difference here is that the categories should not have any levels dropped).\n",
        "Use GridSearchCV to help you determine the best hyperparameter settings\n",
        "for your mode**"
      ]
    },
    {
      "cell_type": "code",
      "execution_count": null,
      "metadata": {
        "colab": {
          "base_uri": "https://localhost:8080/"
        },
        "id": "j-PihbrrT_6j",
        "outputId": "c2fae407-043a-40e5-fe0b-04c59e2e1a8b"
      },
      "outputs": [
        {
          "name": "stdout",
          "output_type": "stream",
          "text": [
            "Best Hyperparameters: {'max_depth': 8, 'max_features': 8, 'min_samples_leaf': 2, 'n_estimators': 100}\n",
            "Test Accuracy: 0.8367346938775511\n"
          ]
        }
      ],
      "source": [
        "# Defining the parameter grid for hyperparameter tuning\n",
        "param_grid = {\n",
        "    'n_estimators': [50, 100, 150],\n",
        "    'max_depth': [2, 4, 6, 8],\n",
        "    'max_features': [4, 8, 16, 20],\n",
        "    'min_samples_leaf': [ 2, 4 , 6, 10 ]\n",
        "}\n",
        "\n",
        "# Initializing the RandomForestClassifier\n",
        "rf_classifier = RandomForestClassifier(random_state=911)\n",
        "\n",
        "# GridSearchCV to find the best hyperparameters\n",
        "grid_search = GridSearchCV(estimator=rf_classifier, param_grid=param_grid, cv=5, scoring='accuracy')\n",
        "grid_search.fit(X_train, y_train)\n",
        "\n",
        "# Best model and its hyperparameters\n",
        "best_rf_model = grid_search.best_estimator_\n",
        "best_params = grid_search.best_params_\n",
        "\n",
        "print(\"Best Hyperparameters:\", best_params)\n",
        "\n",
        "# Evaluate the best model on the test set\n",
        "y_pred = best_rf_model.predict(X_test)\n",
        "accuracy = accuracy_score(y_test, y_pred)\n",
        "print(\"Test Accuracy:\", accuracy)"
      ]
    },
    {
      "cell_type": "markdown",
      "metadata": {
        "id": "DqJHECWSgGXP"
      },
      "source": [
        "**V. How did your random forest model rank the variables in order of importance, from\n",
        "highest to lowest? For a random forest model, how can you interpret feature\n",
        "importance?**\n"
      ]
    },
    {
      "cell_type": "code",
      "execution_count": null,
      "metadata": {
        "colab": {
          "base_uri": "https://localhost:8080/",
          "height": 1000
        },
        "id": "FdM2WFHDguJn",
        "outputId": "41d98f07-0abd-45e4-c3fc-b9ce93b74598"
      },
      "outputs": [
        {
          "data": {
            "text/html": [
              "<div>\n",
              "<style scoped>\n",
              "    .dataframe tbody tr th:only-of-type {\n",
              "        vertical-align: middle;\n",
              "    }\n",
              "\n",
              "    .dataframe tbody tr th {\n",
              "        vertical-align: top;\n",
              "    }\n",
              "\n",
              "    .dataframe thead th {\n",
              "        text-align: right;\n",
              "    }\n",
              "</style>\n",
              "<table border=\"1\" class=\"dataframe\">\n",
              "  <thead>\n",
              "    <tr style=\"text-align: right;\">\n",
              "      <th></th>\n",
              "      <th>Feature</th>\n",
              "      <th>Importance</th>\n",
              "    </tr>\n",
              "  </thead>\n",
              "  <tbody>\n",
              "    <tr>\n",
              "      <th>2</th>\n",
              "      <td>MonthlyIncome</td>\n",
              "      <td>0.209612</td>\n",
              "    </tr>\n",
              "    <tr>\n",
              "      <th>0</th>\n",
              "      <td>Age</td>\n",
              "      <td>0.138412</td>\n",
              "    </tr>\n",
              "    <tr>\n",
              "      <th>4</th>\n",
              "      <td>YearsAtCompany</td>\n",
              "      <td>0.124194</td>\n",
              "    </tr>\n",
              "    <tr>\n",
              "      <th>1</th>\n",
              "      <td>DistanceFromHome</td>\n",
              "      <td>0.095744</td>\n",
              "    </tr>\n",
              "    <tr>\n",
              "      <th>3</th>\n",
              "      <td>NumCompaniesWorked</td>\n",
              "      <td>0.052369</td>\n",
              "    </tr>\n",
              "    <tr>\n",
              "      <th>16</th>\n",
              "      <td>MaritalStatus_Single</td>\n",
              "      <td>0.031987</td>\n",
              "    </tr>\n",
              "    <tr>\n",
              "      <th>29</th>\n",
              "      <td>JobSatisfaction_4</td>\n",
              "      <td>0.020472</td>\n",
              "    </tr>\n",
              "    <tr>\n",
              "      <th>32</th>\n",
              "      <td>WorkLifeBalance_3</td>\n",
              "      <td>0.017574</td>\n",
              "    </tr>\n",
              "    <tr>\n",
              "      <th>11</th>\n",
              "      <td>EducationField_Medical</td>\n",
              "      <td>0.016868</td>\n",
              "    </tr>\n",
              "    <tr>\n",
              "      <th>18</th>\n",
              "      <td>Education_2</td>\n",
              "      <td>0.016693</td>\n",
              "    </tr>\n",
              "    <tr>\n",
              "      <th>25</th>\n",
              "      <td>EnvironmentSatisfaction_4</td>\n",
              "      <td>0.016542</td>\n",
              "    </tr>\n",
              "    <tr>\n",
              "      <th>31</th>\n",
              "      <td>WorkLifeBalance_2</td>\n",
              "      <td>0.015846</td>\n",
              "    </tr>\n",
              "    <tr>\n",
              "      <th>20</th>\n",
              "      <td>Education_4</td>\n",
              "      <td>0.015683</td>\n",
              "    </tr>\n",
              "    <tr>\n",
              "      <th>22</th>\n",
              "      <td>EnvironmentSatisfaction_1</td>\n",
              "      <td>0.015627</td>\n",
              "    </tr>\n",
              "    <tr>\n",
              "      <th>9</th>\n",
              "      <td>EducationField_Life Sciences</td>\n",
              "      <td>0.015549</td>\n",
              "    </tr>\n",
              "    <tr>\n",
              "      <th>28</th>\n",
              "      <td>JobSatisfaction_3</td>\n",
              "      <td>0.015253</td>\n",
              "    </tr>\n",
              "    <tr>\n",
              "      <th>6</th>\n",
              "      <td>Department_Research &amp; Development</td>\n",
              "      <td>0.015022</td>\n",
              "    </tr>\n",
              "    <tr>\n",
              "      <th>7</th>\n",
              "      <td>Department_Sales</td>\n",
              "      <td>0.014240</td>\n",
              "    </tr>\n",
              "    <tr>\n",
              "      <th>13</th>\n",
              "      <td>EducationField_Technical Degree</td>\n",
              "      <td>0.013697</td>\n",
              "    </tr>\n",
              "    <tr>\n",
              "      <th>19</th>\n",
              "      <td>Education_3</td>\n",
              "      <td>0.013299</td>\n",
              "    </tr>\n",
              "    <tr>\n",
              "      <th>15</th>\n",
              "      <td>MaritalStatus_Married</td>\n",
              "      <td>0.013150</td>\n",
              "    </tr>\n",
              "    <tr>\n",
              "      <th>10</th>\n",
              "      <td>EducationField_Marketing</td>\n",
              "      <td>0.012621</td>\n",
              "    </tr>\n",
              "    <tr>\n",
              "      <th>30</th>\n",
              "      <td>WorkLifeBalance_1</td>\n",
              "      <td>0.012606</td>\n",
              "    </tr>\n",
              "    <tr>\n",
              "      <th>14</th>\n",
              "      <td>MaritalStatus_Divorced</td>\n",
              "      <td>0.011976</td>\n",
              "    </tr>\n",
              "    <tr>\n",
              "      <th>26</th>\n",
              "      <td>JobSatisfaction_1</td>\n",
              "      <td>0.011704</td>\n",
              "    </tr>\n",
              "    <tr>\n",
              "      <th>24</th>\n",
              "      <td>EnvironmentSatisfaction_3</td>\n",
              "      <td>0.010902</td>\n",
              "    </tr>\n",
              "    <tr>\n",
              "      <th>23</th>\n",
              "      <td>EnvironmentSatisfaction_2</td>\n",
              "      <td>0.010901</td>\n",
              "    </tr>\n",
              "    <tr>\n",
              "      <th>17</th>\n",
              "      <td>Education_1</td>\n",
              "      <td>0.010554</td>\n",
              "    </tr>\n",
              "    <tr>\n",
              "      <th>27</th>\n",
              "      <td>JobSatisfaction_2</td>\n",
              "      <td>0.010179</td>\n",
              "    </tr>\n",
              "    <tr>\n",
              "      <th>33</th>\n",
              "      <td>WorkLifeBalance_4</td>\n",
              "      <td>0.008325</td>\n",
              "    </tr>\n",
              "    <tr>\n",
              "      <th>5</th>\n",
              "      <td>Department_Human Resources</td>\n",
              "      <td>0.005032</td>\n",
              "    </tr>\n",
              "    <tr>\n",
              "      <th>12</th>\n",
              "      <td>EducationField_Other</td>\n",
              "      <td>0.003582</td>\n",
              "    </tr>\n",
              "    <tr>\n",
              "      <th>8</th>\n",
              "      <td>EducationField_Human Resources</td>\n",
              "      <td>0.003489</td>\n",
              "    </tr>\n",
              "    <tr>\n",
              "      <th>21</th>\n",
              "      <td>Education_5</td>\n",
              "      <td>0.000295</td>\n",
              "    </tr>\n",
              "  </tbody>\n",
              "</table>\n",
              "</div>"
            ],
            "text/plain": [
              "                              Feature  Importance\n",
              "2                       MonthlyIncome    0.209612\n",
              "0                                 Age    0.138412\n",
              "4                      YearsAtCompany    0.124194\n",
              "1                    DistanceFromHome    0.095744\n",
              "3                  NumCompaniesWorked    0.052369\n",
              "16               MaritalStatus_Single    0.031987\n",
              "29                  JobSatisfaction_4    0.020472\n",
              "32                  WorkLifeBalance_3    0.017574\n",
              "11             EducationField_Medical    0.016868\n",
              "18                        Education_2    0.016693\n",
              "25          EnvironmentSatisfaction_4    0.016542\n",
              "31                  WorkLifeBalance_2    0.015846\n",
              "20                        Education_4    0.015683\n",
              "22          EnvironmentSatisfaction_1    0.015627\n",
              "9        EducationField_Life Sciences    0.015549\n",
              "28                  JobSatisfaction_3    0.015253\n",
              "6   Department_Research & Development    0.015022\n",
              "7                    Department_Sales    0.014240\n",
              "13    EducationField_Technical Degree    0.013697\n",
              "19                        Education_3    0.013299\n",
              "15              MaritalStatus_Married    0.013150\n",
              "10           EducationField_Marketing    0.012621\n",
              "30                  WorkLifeBalance_1    0.012606\n",
              "14             MaritalStatus_Divorced    0.011976\n",
              "26                  JobSatisfaction_1    0.011704\n",
              "24          EnvironmentSatisfaction_3    0.010902\n",
              "23          EnvironmentSatisfaction_2    0.010901\n",
              "17                        Education_1    0.010554\n",
              "27                  JobSatisfaction_2    0.010179\n",
              "33                  WorkLifeBalance_4    0.008325\n",
              "5          Department_Human Resources    0.005032\n",
              "12               EducationField_Other    0.003582\n",
              "8      EducationField_Human Resources    0.003489\n",
              "21                        Education_5    0.000295"
            ]
          },
          "execution_count": 119,
          "metadata": {},
          "output_type": "execute_result"
        }
      ],
      "source": [
        "# Getting feature importances from the trained RandomForestClassifier\n",
        "feature_importances = best_rf_model.feature_importances_\n",
        "\n",
        "# Creating a DataFrame to display feature importances\n",
        "feature_importance_df = pd.DataFrame({'Feature': X_train.columns, 'Importance': feature_importances})\n",
        "\n",
        "# Sorting the DataFrame by importance in descending order\n",
        "feature_importance_df = feature_importance_df.sort_values(by='Importance', ascending=False)\n",
        "\n",
        "# Feature importances\n",
        "feature_importance_df"
      ]
    },
    {
      "cell_type": "markdown",
      "metadata": {
        "id": "khx_KdhFzSb6"
      },
      "source": [
        "*The random forest model ranked features by their importance in predicting Attrition, with MonthlyIncome, Age, and YearsAtCompany being the top three. Feature importance in a random forest indicates how much each variable contributes to reducing prediction error across the trees. Higher importance means the feature is more useful for distinguishing between classes, though it doesn’t imply causation just predictive power. This information helps prioritize features and guide feature selection for simplified models.*"
      ]
    },
    {
      "cell_type": "markdown",
      "metadata": {
        "id": "WtHzVDbgjWZ0"
      },
      "source": [
        "**W. Assess the performance of your model against the test set. Build a confusion matrix to\n",
        "do this. You can use Python functions to answer any of these questions or you can use\n",
        "your confusion matrix to determine the answers in a slightly more manual way. The\n",
        "‘positive’ class in this model is represented by the “1” outcome.\n",
        "a. What is your model’s accuracy rate?\n",
        "b. What is your model’s sensitivity rate?\n",
        "c. What is your model’s specificity rate?\n",
        "d. What is your model’s precision?\n",
        "e. What is your model’s balanced accuracy?**"
      ]
    },
    {
      "cell_type": "code",
      "execution_count": null,
      "metadata": {
        "colab": {
          "base_uri": "https://localhost:8080/"
        },
        "id": "bICEZNvNjGLd",
        "outputId": "65cc4df6-a2c0-42cd-e40e-cb3f3ac8318e"
      },
      "outputs": [
        {
          "name": "stdout",
          "output_type": "stream",
          "text": [
            "Confusion Matrix:\n",
            " [[482   8]\n",
            " [ 88  10]]\n",
            "\n",
            "Accuracy: 0.8367346938775511\n",
            "Sensitivity: 0.10204081632653061\n",
            "Specificity: 0.9836734693877551\n",
            "Precision: 0.5555555555555556\n",
            "Balanced Accuracy: 0.5428571428571429\n"
          ]
        }
      ],
      "source": [
        "# Confusion matrix\n",
        "cm = confusion_matrix(y_test, y_pred)\n",
        "\n",
        "# Evaluation metrics\n",
        "accuracy = accuracy_score(y_test, y_pred)\n",
        "sensitivity = recall_score(y_test, y_pred)\n",
        "specificity = cm[0, 0] / (cm[0, 0] + cm[0, 1])\n",
        "precision = precision_score(y_test, y_pred)\n",
        "balanced_accuracy = (sensitivity + specificity) / 2\n",
        "\n",
        "\n",
        "print(\"Confusion Matrix:\\n\", cm)\n",
        "print(f\"\\nAccuracy: {accuracy}\")\n",
        "print(f\"Sensitivity: {sensitivity}\")\n",
        "print(f\"Specificity: {specificity}\")\n",
        "print(f\"Precision: {precision}\")\n",
        "print(f\"Balanced Accuracy: {balanced_accuracy}\")"
      ]
    },
    {
      "cell_type": "markdown",
      "metadata": {
        "id": "AgIBdplJkNZ9"
      },
      "source": [
        "**X. Compare your model’s accuracy against the training set vs. your model’s accuracy against\n",
        "the test set. How different were these results?**"
      ]
    },
    {
      "cell_type": "code",
      "execution_count": null,
      "metadata": {
        "colab": {
          "base_uri": "https://localhost:8080/"
        },
        "id": "iUtDe_RPj3VK",
        "outputId": "dd087172-b7d7-4970-f5e8-42fbad0c6cf0"
      },
      "outputs": [
        {
          "name": "stdout",
          "output_type": "stream",
          "text": [
            "Training Accuracy: 0.9104308390022676\n",
            "Test Accuracy: 0.8367346938775511\n"
          ]
        }
      ],
      "source": [
        "# Training accuracy\n",
        "y_train_pred = best_rf_model.predict(X_train)\n",
        "training_accuracy = accuracy_score(y_train, y_train_pred)\n",
        "print(f\"Training Accuracy: {training_accuracy}\")\n",
        "\n",
        "# Test accuracy (already calculated in a previous code block)\n",
        "print(f\"Test Accuracy: {accuracy}\")"
      ]
    },
    {
      "cell_type": "markdown",
      "metadata": {
        "id": "ACUz0fiwkMhI"
      },
      "source": [
        "**Y. Use the predict() function with your model to classify the person who you invented in\n",
        "the previous section. Does the model think that the employee will leave?**"
      ]
    },
    {
      "cell_type": "code",
      "execution_count": null,
      "metadata": {
        "colab": {
          "base_uri": "https://localhost:8080/"
        },
        "id": "6vO4Ut-GoBoM",
        "outputId": "2fe6bd7a-95cf-4312-d470-56dc61e490a7"
      },
      "outputs": [
        {
          "name": "stdout",
          "output_type": "stream",
          "text": [
            "Prediction for out-of-range employee by Random Forest model: 0\n",
            "The Random Forest model predicts the employee will stay.\n",
            "Probability of leaving for out-of-range employee by Random Forest Model : 0.4407797619047619\n"
          ]
        }
      ],
      "source": [
        "# Creating a new DataFrame with out-of-range values for predictors\n",
        "new_employee_out_of_range = pd.DataFrame({\n",
        "    'Age': [85],                    # Max Age 60\n",
        "    'DistanceFromHome': [50],       # Max DistanceFromHome 29\n",
        "    'NumCompaniesWorked': [30],     # Max NumCompaniesWorked  09\n",
        "    'Department_Human Resources': [0],\n",
        "    'Department_Research & Development': [0],\n",
        "    'Department_Sales': [0],\n",
        "    'EducationField_Human Resources': [0],\n",
        "    'EducationField_Life Sciences': [0],\n",
        "    'EducationField_Marketing': [0],\n",
        "    'EducationField_Medical': [0],\n",
        "    'EducationField_Other': [0],\n",
        "    'EducationField_Technical Degree': [0],\n",
        "    'MaritalStatus_Divorced': [0],\n",
        "    'MaritalStatus_Married': [1],\n",
        "    'MaritalStatus_Single': [0],\n",
        "    'Education_1': [0],\n",
        "    'Education_2': [0],\n",
        "    'Education_3': [0],\n",
        "    'Education_4': [0],\n",
        "    'Education_5': [0],\n",
        "    'EnvironmentSatisfaction_1': [0],\n",
        "    'EnvironmentSatisfaction_2': [0],\n",
        "    'EnvironmentSatisfaction_3': [1],\n",
        "    'EnvironmentSatisfaction_4': [0],\n",
        "    'JobSatisfaction_1': [0],\n",
        "    'JobSatisfaction_2': [0],\n",
        "    'JobSatisfaction_3': [1],\n",
        "    'JobSatisfaction_4': [0],\n",
        "    'WorkLifeBalance_1': [0],\n",
        "    'WorkLifeBalance_2': [0],\n",
        "    'WorkLifeBalance_3': [0],\n",
        "    'WorkLifeBalance_4': [1],\n",
        "    'MonthlyIncome': [0],\n",
        "    'YearsAtCompany': [0]\n",
        "})\n",
        "\n",
        "# Reordering columns to match the training data\n",
        "new_employee_out_of_range = new_employee_out_of_range[X_train.columns]\n",
        "\n",
        "# Prediction for the new employee with out-of-range values\n",
        "prediction_out_of_range = best_rf_model.predict(new_employee_out_of_range)\n",
        "probability_out_of_range = best_rf_model.predict_proba(new_employee_out_of_range)\n",
        "\n",
        "print(f\"Prediction for out-of-range employee by Random Forest model: {prediction_out_of_range[0]}\")\n",
        "\n",
        "# Interpreting the prediction (0 for stay, 1 for leave)\n",
        "if prediction_out_of_range[0] == 0:\n",
        "    print(\"The Random Forest model predicts the employee will stay.\")\n",
        "else:\n",
        "    print(\"The Random Forest model predicts the employee will leave.\")\n",
        "\n",
        "print(f\"Probability of leaving for out-of-range employee by Random Forest Model : {probability_out_of_range[0,1]}\")"
      ]
    },
    {
      "cell_type": "markdown",
      "metadata": {
        "id": "cm5lNe5m5x9a"
      },
      "source": [
        "**Z.\n",
        "Write a 3-5 sentence paragraph that speculates about how a company’s Human\n",
        "Resources Department might be able to use the models you have built for this\n",
        "assignment**"
      ]
    },
    {
      "cell_type": "markdown",
      "metadata": {
        "id": "_0wUd0nr5xZl"
      },
      "source": [
        "*Human Resources (HR) department can use this models developed in this assignment, since it provides a data-driven approach to understand factors influencing employee attrition.*\n",
        "\n",
        "*The logistic regression model indicates that Age (with older employees being less likely to leave), DistanceFromHome (employees living farther away are more likely to leave), and JobSatisfaction_4 (very high job satisfaction reduces attrition risk) are significant predictors.*\n",
        "\n",
        "*The random forest model further highlights MonthlyIncome, YearsAtCompany, and MaritalStatus_Single as critical features, with single employees and those with lower incomes being at higher risk of leaving.*\n",
        "\n",
        "*By leveraging these insights, HR can design targeted interventions, such as salary adjustments for low-income employees, career development opportunities for newer employees, and personalized support for those with long commutes.*\n",
        "\n",
        "*Additionally, HR can monitor employees with high attrition probabilities to proactively address their concerns and improve overall retention.*"
      ]
    }
  ],
  "metadata": {
    "colab": {
      "provenance": []
    },
    "kernelspec": {
      "display_name": "Python 3 (ipykernel)",
      "language": "python",
      "name": "python3"
    },
    "language_info": {
      "codemirror_mode": {
        "name": "ipython",
        "version": 3
      },
      "file_extension": ".py",
      "mimetype": "text/x-python",
      "name": "python",
      "nbconvert_exporter": "python",
      "pygments_lexer": "ipython3",
      "version": "3.12.4"
    }
  },
  "nbformat": 4,
  "nbformat_minor": 0
}